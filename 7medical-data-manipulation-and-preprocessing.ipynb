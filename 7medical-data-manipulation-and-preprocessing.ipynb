{
 "cells": [
  {
   "cell_type": "markdown",
   "id": "933a86ab",
   "metadata": {
    "papermill": {
     "duration": 0.019359,
     "end_time": "2025-03-29T15:16:58.818614",
     "exception": false,
     "start_time": "2025-03-29T15:16:58.799255",
     "status": "completed"
    },
    "tags": []
   },
   "source": [
    "# SPARK 2025 FOUNDATIONAL COURSE WEEK 6: <span style= \"color:orange\"> MEDICAL DATA MANIPULATION AND PROCESSING </span>\n",
    "\n",
    "### **Objective:**\n",
    "\n",
    "This tutorial session aims to provide participants with a foundational understanding of **medical image processing**, covering essential concepts such as **medical imaging formats**, **data handling**, and **pre-processing techniques**. Participants will learn to work with key medical image processing libraries, including **SimpleITK**, **pydicom**, **TorchIO**, and **MONAI**, and explore deep learning-based approaches for medical image analysis. The session will also cover data **augmentation techniques**, and visualization methods as well as setting up **custom data loaders** in PyTorch to equip learners with practical skills for medical imaging applications.\n",
    "\n",
    "\n",
    "<img src='https://torchio.readthedocs.io/_images/fpg_progressive.gif'>\n",
    "\n",
    "Image source: [https://torchio.readthedocs.io/transforms/transforms.html](https://torchio.readthedocs.io/transforms/transforms.html)\n",
    "\n",
    "## Course Outline:\n",
    "\n",
    "#### Introduction to Image processing\n",
    "\n",
    "#### Loading and Saving Medical Data\n",
    "- Medical Imaging Formats\n",
    "    - <span style=\"color: orange\">DICOM</span>\n",
    "    - <span style=\"color: orange\">NifTI</span>\n",
    "    - Analyze (HDR/IMG)\n",
    "    - MINC (Medical Imaging NetCDF)\n",
    "    - MHD/RAW (MetaImage)\n",
    "    - PNG/JPEG/TIFF for Medical Imaging\n",
    "- Medical Image Processing Libraries\n",
    "    - General Medical Image Processing Libraries\n",
    "        - SimpleITK\n",
    "        - pydicom\n",
    "        - NiBabel\n",
    "    - Computer Vision Libraries\n",
    "        - OpenCV\n",
    "        - scikit-image\n",
    "        - <span style=\"color:red\">TorchVision: Optimized for 2D</span>\n",
    "    - Deep Learning-Based Medical Image Analysis Libraries\n",
    "        - <span style=\"color: orange\">MONAI</span> (Medical Open Network for AI)\n",
    "        - <span style=\"color: orange\">TorchIO</span>\n",
    "- Visualization of Medical Images\n",
    "    - matplotlib & seaborn\n",
    "    - ITK-SNAP\n",
    "#### Medical Image Pre-processing\n",
    "- Normalization\n",
    "- Rescaling\n",
    "- Reshaping\n",
    "- Registration\n",
    "- Skull Striping\n",
    "\n",
    "#### Data Augmentation\n",
    "- Geometric\n",
    "    - Rotation\n",
    "    - Flipping\n",
    "    - Scaling\n",
    "    - Translation\n",
    "- Intensity\n",
    "    - Noise\n",
    "    - Contrast\n",
    "    - Brightness\n",
    "    - Histogram Equalization\n",
    "#### Data Loaders (with PyTorch)"
   ]
  },
  {
   "cell_type": "markdown",
   "id": "cdd0b908",
   "metadata": {
    "papermill": {
     "duration": 0.017881,
     "end_time": "2025-03-29T15:16:58.855073",
     "exception": false,
     "start_time": "2025-03-29T15:16:58.837192",
     "status": "completed"
    },
    "tags": []
   },
   "source": [
    "# Introductory Materials and Environment Setup\n",
    "\n",
    "## Importing The BraTS2021 data on Kaggle \n",
    "\n",
    "- On the right panel of you Kaggle notebook click on \"Add input\"\n",
    "- Select \"Dataset\" among the different filters  [All, Your Work, Datasets, Notebook etc..]\n",
    "- In the search input type the name \"BRaTS 2021 Task 1 Dataset\"\n",
    "- Click on the dataset to add it to you Notebook inputs\n",
    "  "
   ]
  },
  {
   "cell_type": "code",
   "execution_count": 1,
   "id": "a3cb194a",
   "metadata": {
    "execution": {
     "iopub.execute_input": "2025-03-29T15:16:58.896496Z",
     "iopub.status.busy": "2025-03-29T15:16:58.895999Z",
     "iopub.status.idle": "2025-03-29T15:16:59.218366Z",
     "shell.execute_reply": "2025-03-29T15:16:59.216955Z"
    },
    "papermill": {
     "duration": 0.344829,
     "end_time": "2025-03-29T15:16:59.220582",
     "exception": false,
     "start_time": "2025-03-29T15:16:58.875753",
     "status": "completed"
    },
    "tags": []
   },
   "outputs": [
    {
     "name": "stdout",
     "output_type": "stream",
     "text": [
      "./\r\n",
      "./BraTS2021_00495_flair.nii.gz\r\n",
      "./BraTS2021_00495_seg.nii.gz\r\n",
      "./BraTS2021_00495_t1.nii.gz\r\n",
      "./BraTS2021_00495_t1ce.nii.gz\r\n",
      "./BraTS2021_00495_t2.nii.gz\r\n"
     ]
    }
   ],
   "source": [
    "# Extrating the data \n",
    "!tar -xvf /kaggle/input/brats-2021-task1/BraTS2021_00495.tar"
   ]
  },
  {
   "cell_type": "markdown",
   "id": "071c7781",
   "metadata": {
    "papermill": {
     "duration": 0.018808,
     "end_time": "2025-03-29T15:16:59.259325",
     "exception": false,
     "start_time": "2025-03-29T15:16:59.240517",
     "status": "completed"
    },
    "tags": []
   },
   "source": [
    "# Medical Imaging File Formats"
   ]
  },
  {
   "cell_type": "markdown",
   "id": "5fab8de0",
   "metadata": {
    "papermill": {
     "duration": 0.019409,
     "end_time": "2025-03-29T15:16:59.300063",
     "exception": false,
     "start_time": "2025-03-29T15:16:59.280654",
     "status": "completed"
    },
    "tags": []
   },
   "source": []
  },
  {
   "cell_type": "markdown",
   "id": "250d564f",
   "metadata": {
    "papermill": {
     "duration": 0.019299,
     "end_time": "2025-03-29T15:16:59.338963",
     "exception": false,
     "start_time": "2025-03-29T15:16:59.319664",
     "status": "completed"
    },
    "tags": []
   },
   "source": [
    "**<span style=\"color: orange\">DICOM</span> (.dcm)**: \n",
    "Digital Imaging and Communications in Medicine, is the standard format for storing, sharing, and transmitting medical images across different devices and institutions. It includes metadata such as patient details and acquisition settings.\n",
    " - Retrieved directly from the scanner\n",
    " - Standardized across modalities (CT, MRI, US) and vendors (Siemens, Philips, GE, etc.)\n",
    " #### Pros:\n",
    "  - Lots of information (acquisition parameters, image archives, etc.)\n",
    "  - Supports multi-frame images (useful for CT and MRI scans).\n",
    "\n",
    " #### Cons:\n",
    "  - Lots of information (**heavy**)\n",
    "  - Some fields are vendor-specific\n",
    "  - Not compressed... or rather, only the pixel data can be compressed (see [here](https://pydicom.github.io/pydicom/stable/old/image_data_handlers.html) for uncompressing DICOM pixel data)\n",
    "  - **Single file per slice** (can end up with 1000s of files for a participant)\n",
    "\n",
    "Read more about DICOM [here](https://www.ncbi.nlm.nih.gov/pmc/articles/PMC61235/).\n",
    "\n",
    "**<span style=\"color: orange\">NifTI</span> (.nii)**: <u>N</u>euroimaging <u>I</u>n<u>f</u>ormatics <u>T</u>echnology <u>I</u>nitiative. NIfTI is optimized for neuroimaging applications, commonly used in MRI and fMRI scans. It supports multi-dimensional image storage.\n",
    " - NIH-based standard\n",
    " - Adopted by the MRI neuroimaging community\n",
    " #### Pros:\n",
    "   - Compressed (.nii.gz)\n",
    "   - **Single file per volume**\n",
    "   - Compatible with deep learning frameworks.\n",
    "   - Faster loading and processing than DICOM.\n",
    "\n",
    " #### Cons:\n",
    "   - Some information is lost\n",
    "   - Not a universal standard outside neuroimaging.\n",
    "   - Limited metadata support compared to DICOM.\n",
    "\n",
    "Read more about NIfTI [here](https://nifti.nimh.nih.gov/background).\n",
    "\n",
    "\n",
    "**Analyze (HDR/IMG)**: An older neuroimaging format developed before NIfTI, consisting of separate header (HDR) and image (IMG) files.\n",
    "\n",
    "#### Pros\n",
    "- Simple format, easy to manipulate.\n",
    "- Still used in some legacy neuroimaging tools.\n",
    "#### Cons\n",
    "- Lacks standardized metadata structure.\n",
    "- Header and image stored separately, making management cumbersome.\n",
    "\n",
    "**MINC (Medical Imaging NetCDF)**: A flexible, hierarchical format developed for medical imaging research, mainly used in neuroimaging.\n",
    "#### Pros\n",
    "- Supports multiple dimensions and data types.\n",
    "#### Cons\n",
    "- Limited adoption outside research settings.\n",
    "\n",
    "**MHD/RAW (MetaImage)**: A simple, flexible format used in medical imaging research, often for volumetric data. The MHD file stores metadata, while the RAW file stores the image data.\n",
    "#### Pros\n",
    "- Flexible and easy to modify.\n",
    "- Supports 3D and 4D medical images.\n",
    "#### Cons\n",
    "- Metadata and image data are stored separately, requiring careful management.\n",
    "- No built-in compression, leading to large file sizes.\n",
    "\n",
    "\n",
    "**PNG/JPEG/TIFF for Medical Imaging**: These are general-purpose image formats sometimes used for medical images in situations where metadata is less critical.\n",
    "#### Pros\n",
    "- Highly compressed, making them space-efficient.\n",
    "-  Easy to view and share.\n",
    "-  Widely supported by general imaging tools.\n",
    "#### Cons\n",
    "- No built-in medical metadata support.\n",
    "- Not suitable for multi-dimensional medical images (e.g., 3D MRIs)."
   ]
  },
  {
   "cell_type": "markdown",
   "id": "bad3c29f",
   "metadata": {
    "papermill": {
     "duration": 0.019877,
     "end_time": "2025-03-29T15:16:59.377932",
     "exception": false,
     "start_time": "2025-03-29T15:16:59.358055",
     "status": "completed"
    },
    "tags": []
   },
   "source": [
    "# Brain MRI Volume\n",
    "<img src='https://www.researchgate.net/publication/280608869/figure/fig8/AS:668641804681226@1536428037484/oxel-and-slice-in-3D-MRI-data.jpg'>\n",
    "Image source (https://www.researchgate.net/figure/oxel-and-slice-in-3D-MRI-data_fig8_280608869)"
   ]
  },
  {
   "cell_type": "markdown",
   "id": "834d315d",
   "metadata": {
    "papermill": {
     "duration": 0.01951,
     "end_time": "2025-03-29T15:16:59.417962",
     "exception": false,
     "start_time": "2025-03-29T15:16:59.398452",
     "status": "completed"
    },
    "tags": []
   },
   "source": [
    "# Side note on voxels\n",
    "<img src='https://external-content.duckduckgo.com/iu/?u=http%3A%2F%2Fwww.bilderzucht.de%2Fblog%2Fwp-content%2Fuploads%2F2010%2F05%2FA-Voxel-Resolution.jpg&f=1&nofb=1'>\n",
    "\n",
    "A [voxel](https://en.wikipedia.org/wiki/Voxel) is a 3D analog of a pixel and is an important component of image quality. Increased voxel size results in an increased [signal-to-noise ratio](https://radiopaedia.org/articles/signal-to-noise-ratio-mri?lang=us). The trade-off for increased voxel size (ie. measure of 'true signal') is decreased spatial resolution.\n",
    "\n",
    "Image source: [https://mrimaster.com/technique%20SNR.html](https://mrimaster.com/technique%20SNR.html)\n"
   ]
  },
  {
   "cell_type": "code",
   "execution_count": 2,
   "id": "bd3a1775",
   "metadata": {
    "execution": {
     "iopub.execute_input": "2025-03-29T15:16:59.460710Z",
     "iopub.status.busy": "2025-03-29T15:16:59.460271Z",
     "iopub.status.idle": "2025-03-29T15:17:04.333810Z",
     "shell.execute_reply": "2025-03-29T15:17:04.332293Z"
    },
    "papermill": {
     "duration": 4.897378,
     "end_time": "2025-03-29T15:17:04.335955",
     "exception": false,
     "start_time": "2025-03-29T15:16:59.438577",
     "status": "completed"
    },
    "tags": []
   },
   "outputs": [
    {
     "data": {
      "text/plain": [
       "torch.Size([240, 240, 125])"
      ]
     },
     "execution_count": 2,
     "metadata": {},
     "output_type": "execute_result"
    }
   ],
   "source": [
    "import torch\n",
    "example_volumn  = torch.rand(240,240,125)\n",
    "example_volumn.shape"
   ]
  },
  {
   "cell_type": "markdown",
   "id": "2db9eb07",
   "metadata": {
    "papermill": {
     "duration": 0.019212,
     "end_time": "2025-03-29T15:17:04.376094",
     "exception": false,
     "start_time": "2025-03-29T15:17:04.356882",
     "status": "completed"
    },
    "tags": []
   },
   "source": [
    "# Brain Tumor Segmentation Dataset\n",
    "\n",
    "__Background__: [BraTS Challenge](https://www.med.upenn.edu/cbica/brats/) first started in 2012 as part of the Internation Conference on Medical Image Computing and Computer Assisted Invervention (MICCAI).  Every year since, the challenge releases a large dataset of brain tumor MR scans, along with the manual delineation of tumor and edema regions.\n",
    "\n",
    "__Inspiration__: Manual segmentation of tumors and lesions in MRIs is tedious and prone to inter-rater variability. Therefore, being able to automatically segment these regions will have a significant impact on medical diagnosis, prognosis, and treatment of patients.\n",
    "\n",
    "__Dataset Description__:\n",
    " - All BraTS multimodal scans are available as NIfTI files (.nii.gz) and describe:\n",
    "  \n",
    "  a) native (T1)\n",
    "\n",
    "  b) post-contrast T1-weighted (T1Gd)\n",
    "\n",
    "  c) T2-weighted (T2), and\n",
    "\n",
    "  d) T2 Fluid Attenuated Inversion Recovery (T2-FLAIR) volumes\n",
    "\n",
    "<img src='https://case.edu/med/neurology/NR/t1t2flairbrain.jpg'>\n",
    "\n",
    "Image source: [https://case.edu/med/neurology/NR/MRI%20Basics.htm](https://case.edu/med/neurology/NR/MRI%20Basics.htm). Read more about different MRI sequences [here](https://radiopaedia.org/articles/mri-sequences-overview) (long) or [here](https://www.wikidoc.org/index.php/MRI_sequences) (short).\n",
    "\n",
    " - Acquired with different clinical protocols and various scanners from multiple (n=19) institutions\n",
    " - The provided data are distributed after their pre-processing, i.e., co-registered to the same anatomical template, interpolated to the same resolution (1 mm^3) and skull-stripped. _(For the [following section](#scrollTo=xTH2OOupkwUF&line=1&uniqifier=1), we do not need to worry about the image being pre-processed already)_\n",
    "    - Not covered here, but here is a [tutorial](https://github.com/r-barnes/skull-brain-seg/blob/v1.0.1/skull_segmentation.ipynb) to remove the skull from MRI images.\n"
   ]
  },
  {
   "cell_type": "markdown",
   "id": "728f64b2",
   "metadata": {
    "papermill": {
     "duration": 0.026456,
     "end_time": "2025-03-29T15:17:04.427323",
     "exception": false,
     "start_time": "2025-03-29T15:17:04.400867",
     "status": "completed"
    },
    "tags": []
   },
   "source": [
    "# Medical Image Processing Libraries\n",
    "\n",
    "Most of the code snippet for this section are adapted from [this](https://thebtiboutheyna.medium.com/a-beginners-guide-to-commonly-used-libraries-for-medical-imaging-17b4cfbbf28) Medium Article\n",
    "\n",
    "Dicom images are feely available from the Cancer Image Archive at : (https://nbia.cancerimagingarchive.net/nbia-search/?MinNumberOfStudiesCriteria=1&CollectionCriteria=Pediatric-CT-SEG). <img src=\"https://www.cancerimagingarchive.net/wp-content/uploads/2019/12/TCIA-logo-2x.png\" height=\"100\" width=\"100\"/>\n",
    "This is were I got that used in this tutorial \n"
   ]
  },
  {
   "cell_type": "markdown",
   "id": "61a0e5f6",
   "metadata": {
    "papermill": {
     "duration": 0.01866,
     "end_time": "2025-03-29T15:17:04.472935",
     "exception": false,
     "start_time": "2025-03-29T15:17:04.454275",
     "status": "completed"
    },
    "tags": []
   },
   "source": [
    "### SimpleITK\n",
    "\n",
    "SimpleITK is a simplified version of ITK (Insight Toolkit), designed for easy manipulation of medical images, including filtering, segmentation, and registration.\n",
    "- Supports DICOM, NIfTI, MINC, and other medical imaging formats.\n",
    "- Read more about it [HERE](https://simpleitk.readthedocs.io/en/master/)"
   ]
  },
  {
   "cell_type": "code",
   "execution_count": 3,
   "id": "ea3144e5",
   "metadata": {
    "execution": {
     "iopub.execute_input": "2025-03-29T15:17:04.514925Z",
     "iopub.status.busy": "2025-03-29T15:17:04.514373Z",
     "iopub.status.idle": "2025-03-29T15:17:05.853905Z",
     "shell.execute_reply": "2025-03-29T15:17:05.852612Z"
    },
    "papermill": {
     "duration": 1.362545,
     "end_time": "2025-03-29T15:17:05.856718",
     "exception": false,
     "start_time": "2025-03-29T15:17:04.494173",
     "status": "completed"
    },
    "tags": []
   },
   "outputs": [
    {
     "data": {
      "image/png": "[encoded data removed]",
      "text/plain": [
       "<Figure size 640x480 with 1 Axes>"
      ]
     },
     "metadata": {},
     "output_type": "display_data"
    }
   ],
   "source": [
    "import SimpleITK as sitk\n",
    "import numpy as np\n",
    "import matplotlib.pyplot as plt\n",
    "\n",
    "# Load an image in SimpleITK format\n",
    "sitk_image = sitk.ReadImage('/kaggle/working/BraTS2021_00495_flair.nii.gz')\n",
    "\n",
    "# (1)Convert the SimpleITK image to a numpy array\n",
    "np_array = sitk.GetArrayFromImage(sitk_image)\n",
    "\n",
    "# (2)Convert the numpy array to a SimpleITK image\n",
    "sitk_image = sitk.GetImageFromArray(np_array)\n",
    "\n",
    "# Print Sitk object\n",
    "# Get some attributes of the object\n",
    "# Print the shape of the Numpy array\n",
    "\n",
    "slice_index = np_array.shape[0] // 2  # Select the middle slice\n",
    "image_slice = np_array[slice_index, :, :]  # Extract the 2D slice\n",
    "plt.imshow(image_slice, cmap='gray') # Use 'gray' colormap for medical images\n",
    "plt.xticks([])\n",
    "plt.yticks([])\n",
    "plt.show()"
   ]
  },
  {
   "cell_type": "markdown",
   "id": "c0d06c89",
   "metadata": {
    "papermill": {
     "duration": 0.019531,
     "end_time": "2025-03-29T15:17:05.897404",
     "exception": false,
     "start_time": "2025-03-29T15:17:05.877873",
     "status": "completed"
    },
    "tags": []
   },
   "source": [
    "### NiBabel\n",
    "<img src= \"https://nipy.org/nibabel/_static/nibabel-logo.svg\">\n",
    "\n",
    "NiBabel is a **Python library** used to handle **neuroimaging file formats** like NIfTI, MINC, and Analyze. It provides tools for reading and writing image headers and volumes.\n",
    "- Efficiently loads and manipulates neuroimaging data.\n",
    "- Supports multi-dimensional images (3D, 4D).\n",
    "- Converting between different neuroimaging file formats.\n",
    "  \n",
    "Read more about Nibabel [HERE](https://nipy.org/nibabel/), \n",
    "Also read about dicom2nifti [HERE](https://dicom2nifti.readthedocs.io/en/latest/)"
   ]
  },
  {
   "cell_type": "code",
   "execution_count": 4,
   "id": "f762bd90",
   "metadata": {
    "execution": {
     "iopub.execute_input": "2025-03-29T15:17:05.938168Z",
     "iopub.status.busy": "2025-03-29T15:17:05.937802Z",
     "iopub.status.idle": "2025-03-29T15:17:07.768974Z",
     "shell.execute_reply": "2025-03-29T15:17:07.767755Z"
    },
    "papermill": {
     "duration": 1.854177,
     "end_time": "2025-03-29T15:17:07.771430",
     "exception": false,
     "start_time": "2025-03-29T15:17:05.917253",
     "status": "completed"
    },
    "tags": []
   },
   "outputs": [
    {
     "data": {
      "text/plain": [
       "<matplotlib.image.AxesImage at 0x7f91ed090d60>"
      ]
     },
     "execution_count": 4,
     "metadata": {},
     "output_type": "execute_result"
    },
    {
     "data": {
      "image/png": "[encoded data removed]",
      "text/plain": [
       "<Figure size 640x480 with 1 Axes>"
      ]
     },
     "metadata": {},
     "output_type": "display_data"
    }
   ],
   "source": [
    "import nibabel as nib\n",
    "\n",
    "# Load the medical image file\n",
    "img = nib.load('/kaggle/working/BraTS2021_00495_flair.nii.gz')\n",
    "\n",
    "# Print the nib object\n",
    "# print the header \n",
    "# access header attributes \n",
    "\n",
    "\n",
    "# Extract the image data as a numpy array\n",
    "data = img.get_fdata()\n",
    "\n",
    "# Create a new NIfTI image object with the filtered data and the same affine transformation matri\n",
    "# nib.Nifti1Image(data, affine, header=None, extra=None, file_map=None)\n",
    "\n",
    "nif_img = nib.Nifti1Image(data, img.affine)\n",
    "\n",
    "# Save the image to a new file\n",
    "nib.save(nif_img, 'newNifti_image.nii.gz')\n",
    "\n",
    "\n",
    "slice_index = data.shape[0] // 2  # Select the middle slice\n",
    "image_slice = data[:,:,slice_index]  # Extract the 2D slice\n",
    "plt.imshow(image_slice, cmap='gray') # Use 'gray' colormap for medical images"
   ]
  },
  {
   "cell_type": "markdown",
   "id": "3217f924",
   "metadata": {
    "papermill": {
     "duration": 0.023293,
     "end_time": "2025-03-29T15:17:07.817136",
     "exception": false,
     "start_time": "2025-03-29T15:17:07.793843",
     "status": "completed"
    },
    "tags": []
   },
   "source": [
    "### pydicom\n",
    "\n",
    "pydicom is a pure Python library used to read, write, and manipulate DICOM files. It allows users to extract metadata and convert DICOM images into NumPy arrays.\n",
    "- For extracting pixel data and metadata from DICOM images.\n",
    "  \n",
    "Read more about Pydicom [HERE](https://pydicom.github.io/pydicom/stable/)"
   ]
  },
  {
   "cell_type": "code",
   "execution_count": 5,
   "id": "8b3420d6",
   "metadata": {
    "execution": {
     "iopub.execute_input": "2025-03-29T15:17:07.862797Z",
     "iopub.status.busy": "2025-03-29T15:17:07.862375Z",
     "iopub.status.idle": "2025-03-29T15:17:07.903036Z",
     "shell.execute_reply": "2025-03-29T15:17:07.901371Z"
    },
    "papermill": {
     "duration": 0.065932,
     "end_time": "2025-03-29T15:17:07.905298",
     "exception": true,
     "start_time": "2025-03-29T15:17:07.839366",
     "status": "failed"
    },
    "tags": []
   },
   "outputs": [
    {
     "ename": "FileNotFoundError",
     "evalue": "[Errno 2] No such file or directory: '/kaggle/input/dicom-image/ad6c20d4-7813-4d7e-abe9-bfc2c53b2038'",
     "output_type": "error",
     "traceback": [
      "\u001b[0;31m---------------------------------------------------------------------------\u001b[0m",
      "\u001b[0;31mFileNotFoundError\u001b[0m                         Traceback (most recent call last)",
      "\u001b[0;32m<ipython-input-5-25b98f740644>\u001b[0m in \u001b[0;36m<cell line: 7>\u001b[0;34m()\u001b[0m\n\u001b[1;32m      5\u001b[0m \u001b[0;34m\u001b[0m\u001b[0m\n\u001b[1;32m      6\u001b[0m \u001b[0;31m# Read the DICOM image\u001b[0m\u001b[0;34m\u001b[0m\u001b[0;34m\u001b[0m\u001b[0m\n\u001b[0;32m----> 7\u001b[0;31m \u001b[0mds\u001b[0m \u001b[0;34m=\u001b[0m \u001b[0mpydicom\u001b[0m\u001b[0;34m.\u001b[0m\u001b[0mdcmread\u001b[0m\u001b[0;34m(\u001b[0m\u001b[0;34m'/kaggle/input/dicom-image/ad6c20d4-7813-4d7e-abe9-bfc2c53b2038'\u001b[0m\u001b[0;34m)\u001b[0m\u001b[0;34m\u001b[0m\u001b[0;34m\u001b[0m\u001b[0m\n\u001b[0m\u001b[1;32m      8\u001b[0m \u001b[0;34m\u001b[0m\u001b[0m\n\u001b[1;32m      9\u001b[0m \u001b[0;31m# Print ds boject\u001b[0m\u001b[0;34m\u001b[0m\u001b[0;34m\u001b[0m\u001b[0m\n",
      "\u001b[0;32m/usr/local/lib/python3.10/dist-packages/pydicom/filereader.py\u001b[0m in \u001b[0;36mdcmread\u001b[0;34m(fp, defer_size, stop_before_pixels, force, specific_tags)\u001b[0m\n\u001b[1;32m   1040\u001b[0m         \u001b[0mcaller_owns_file\u001b[0m \u001b[0;34m=\u001b[0m \u001b[0;32mFalse\u001b[0m\u001b[0;34m\u001b[0m\u001b[0;34m\u001b[0m\u001b[0m\n\u001b[1;32m   1041\u001b[0m         \u001b[0mlogger\u001b[0m\u001b[0;34m.\u001b[0m\u001b[0mdebug\u001b[0m\u001b[0;34m(\u001b[0m\u001b[0;34mf\"Reading file '{fp}'\"\u001b[0m\u001b[0;34m)\u001b[0m\u001b[0;34m\u001b[0m\u001b[0;34m\u001b[0m\u001b[0m\n\u001b[0;32m-> 1042\u001b[0;31m         \u001b[0mfp\u001b[0m \u001b[0;34m=\u001b[0m \u001b[0mopen\u001b[0m\u001b[0;34m(\u001b[0m\u001b[0mfp\u001b[0m\u001b[0;34m,\u001b[0m \u001b[0;34m\"rb\"\u001b[0m\u001b[0;34m)\u001b[0m\u001b[0;34m\u001b[0m\u001b[0;34m\u001b[0m\u001b[0m\n\u001b[0m\u001b[1;32m   1043\u001b[0m     elif (\n\u001b[1;32m   1044\u001b[0m         \u001b[0mfp\u001b[0m \u001b[0;32mis\u001b[0m \u001b[0;32mNone\u001b[0m\u001b[0;34m\u001b[0m\u001b[0;34m\u001b[0m\u001b[0m\n",
      "\u001b[0;31mFileNotFoundError\u001b[0m: [Errno 2] No such file or directory: '/kaggle/input/dicom-image/ad6c20d4-7813-4d7e-abe9-bfc2c53b2038'"
     ]
    }
   ],
   "source": [
    "import pydicom\n",
    "import numpy as np\n",
    "from PIL import Image\n",
    "\n",
    "\n",
    "# Read the DICOM image\n",
    "ds = pydicom.dcmread('/kaggle/input/dicom-image/ad6c20d4-7813-4d7e-abe9-bfc2c53b2038')\n",
    "\n",
    "# Print as object\n",
    "\n",
    "# Extract patient name and birthday (metadata)\n",
    "patient_name = ds.PatientName\n",
    "\n",
    "# Print the patient name \n",
    "print(\"Patient Name: \", patient_name)\n",
    "\n",
    "# Get the pixel data and shape of the image\n",
    "pixel_data = ds.pixel_array\n",
    "print(\"Image Shape: \",pixel_data.shape)\n",
    "\n",
    "plt.imshow(pixel_data, cmap=\"gray\")"
   ]
  },
  {
   "cell_type": "markdown",
   "id": "90818fb6",
   "metadata": {
    "papermill": {
     "duration": null,
     "end_time": null,
     "exception": null,
     "start_time": null,
     "status": "pending"
    },
    "tags": []
   },
   "source": [
    "### MONAI\n",
    "<img src=\"https://monai.io/assets/img/MONAI-logo_color_full.png\" height=\"200\" width=\"200\">\n",
    "\n",
    "MONAI is a specialized **deep learning framework** for medical imaging, built on top of PyTorch. It provides pre-built models and tools tailored for medical AI applications.\n",
    "- Supports advanced augmentation and pre-processing for medical images.\n",
    "- Provides state-of-the-art deep learning architectures for segmentation and classification.\n",
    "- Optimized for multi-dimensional medical data (2D, 3D, 4D).\n",
    "\n",
    "Learn more [HERE](https://monai.io/)"
   ]
  },
  {
   "cell_type": "code",
   "execution_count": null,
   "id": "0e49282c",
   "metadata": {
    "execution": {
     "iopub.execute_input": "2025-03-29T12:31:01.115227Z",
     "iopub.status.busy": "2025-03-29T12:31:01.114930Z",
     "iopub.status.idle": "2025-03-29T12:31:05.649318Z",
     "shell.execute_reply": "2025-03-29T12:31:05.647618Z",
     "shell.execute_reply.started": "2025-03-29T12:31:01.115193Z"
    },
    "papermill": {
     "duration": null,
     "end_time": null,
     "exception": null,
     "start_time": null,
     "status": "pending"
    },
    "tags": []
   },
   "outputs": [],
   "source": [
    "!pip -q install monai"
   ]
  },
  {
   "cell_type": "code",
   "execution_count": null,
   "id": "3880a8f4",
   "metadata": {
    "execution": {
     "iopub.execute_input": "2025-03-29T14:38:28.733022Z",
     "iopub.status.busy": "2025-03-29T14:38:28.732480Z",
     "iopub.status.idle": "2025-03-29T14:38:28.865289Z",
     "shell.execute_reply": "2025-03-29T14:38:28.864115Z",
     "shell.execute_reply.started": "2025-03-29T14:38:28.732967Z"
    },
    "papermill": {
     "duration": null,
     "end_time": null,
     "exception": null,
     "start_time": null,
     "status": "pending"
    },
    "tags": []
   },
   "outputs": [],
   "source": [
    "from monai.data import ImageReader\n",
    "from monai.transforms import LoadImage\n",
    "\n",
    "# Load the image\n",
    "image_path = \"/kaggle/working/BraTS2021_00495_flair.nii.gz\" \n",
    "loader = LoadImage(image_only=False)\n",
    "\n",
    "image, meta_data = loader(image_path)\n",
    "\n",
    "print(f\"Image shape: {image.shape}\")  # Typically (H, W, D) for 3D images\n",
    "print(\"Affine : \", meta_data[\"affine\"])\n"
   ]
  },
  {
   "cell_type": "markdown",
   "id": "17fb0222",
   "metadata": {
    "papermill": {
     "duration": null,
     "end_time": null,
     "exception": null,
     "start_time": null,
     "status": "pending"
    },
    "tags": []
   },
   "source": [
    "### TorchIO\n",
    "<img src=\"https://torchio.readthedocs.io/_static/torchio_logo_2048x2048.png\" width=\"100\" height=\"100\">\n",
    "\n",
    "TorchIO is a **PyTorch-based** library designed for medical imaging, with a focus on **deep learning**. It supports 3D images, making it suitable for MRI, CT, and PET scans.\n",
    "- Provides extensive augmentations for medical images.\n",
    "- Supports loading and preprocessing 3D image datasets.\n",
    "- Works seamlessly with MONAI and PyTorch.\n",
    "\n",
    "Read more about TorchIO [HERE](https://torchio.readthedocs.io/#)"
   ]
  },
  {
   "cell_type": "code",
   "execution_count": null,
   "id": "393e3770",
   "metadata": {
    "execution": {
     "iopub.execute_input": "2025-03-29T12:31:05.798621Z",
     "iopub.status.busy": "2025-03-29T12:31:05.798263Z",
     "iopub.status.idle": "2025-03-29T12:31:10.296396Z",
     "shell.execute_reply": "2025-03-29T12:31:10.294886Z",
     "shell.execute_reply.started": "2025-03-29T12:31:05.798584Z"
    },
    "papermill": {
     "duration": null,
     "end_time": null,
     "exception": null,
     "start_time": null,
     "status": "pending"
    },
    "tags": []
   },
   "outputs": [],
   "source": [
    " !pip -q install torchio"
   ]
  },
  {
   "cell_type": "code",
   "execution_count": null,
   "id": "776d75e0",
   "metadata": {
    "execution": {
     "iopub.execute_input": "2025-03-29T12:31:10.299429Z",
     "iopub.status.busy": "2025-03-29T12:31:10.299024Z",
     "iopub.status.idle": "2025-03-29T12:31:10.373246Z",
     "shell.execute_reply": "2025-03-29T12:31:10.372087Z",
     "shell.execute_reply.started": "2025-03-29T12:31:10.299394Z"
    },
    "papermill": {
     "duration": null,
     "end_time": null,
     "exception": null,
     "start_time": null,
     "status": "pending"
    },
    "tags": []
   },
   "outputs": [],
   "source": [
    "import torchio as tio\n",
    "\n",
    "# Load the image\n",
    "image = tio.ScalarImage(\"/kaggle/working/BraTS2021_00495_flair.nii.gz\")  \n",
    "print(f\"Image shape: {image.shape}\")  # Shape is (C, H, W, D)\n"
   ]
  },
  {
   "cell_type": "markdown",
   "id": "c61e8bbd",
   "metadata": {
    "papermill": {
     "duration": null,
     "end_time": null,
     "exception": null,
     "start_time": null,
     "status": "pending"
    },
    "tags": []
   },
   "source": [
    "# Visualization of Medical Images"
   ]
  },
  {
   "cell_type": "markdown",
   "id": "44f08130",
   "metadata": {
    "papermill": {
     "duration": null,
     "end_time": null,
     "exception": null,
     "start_time": null,
     "status": "pending"
    },
    "tags": []
   },
   "source": [
    "### matplotlib & seaborn\n",
    "Matplotlib and Seaborn are general-purpose visualization libraries that can be used to display medical images in 2D.\n",
    "- Used Plotting slices of MRI or CT scans.\n",
    "- Visualizing segmentation maps of medical images."
   ]
  },
  {
   "cell_type": "markdown",
   "id": "5b852ed2",
   "metadata": {
    "papermill": {
     "duration": null,
     "end_time": null,
     "exception": null,
     "start_time": null,
     "status": "pending"
    },
    "tags": []
   },
   "source": [
    "# Medical Image Pre-processing With MONAI and TorchIO\n",
    "\n",
    "Why is data preprocessing I/O so important ??\n",
    "![GIGO.webp](data:image/webp;base64,UklGRuL6AABXRUJQVlA4INb6AADwlwOdASqIA6cCPnUylUckoySoKfNskQAOiWJu1N22DfEfc/yXCmOeHPzaJzhthX8//BdyvH/qz9f/ev8v/2f8n+7HzIcb9gvqn7p/m/9r/gv/p/yvmD/2u97sP/s/eT72fnP7n/wf8N/m//f/pf///9vuP/s/+t/qf3f+YP9B/1X/d/zv75/Qv+tn/B/wX+b/9n+q/////+ub16/up+yP+5+Ff9p/0n7c/8n4Kf+P+1P/E+O37Mf/T/Of7X5If5l/jf/Z+f/fN+iD++Xqyf9X9w/+r8xH7bftV/2Pg+/xX/01jT5h/sv8X6ZPlX7J/gf71/nv+D/evUH8e+ffvP9p/yv/A/wf7dfeJ+JfTXml68/8v+u9Sv5F9vP2X9t/zP/f/z3zx/o/+9/l/HP5F/6P+P9gX8c/of+p/Zr/rf4L5039vh/8L0C/jH7h/5f8X/m/Z6+u/aH1n+zf7Q/AR/Sv7v+yHuN/6PFd9n9hH+y/7b1dP8z/9f8X1t/W//x/3Huf/3n/uf5M11nNDtL4jK8GOMXn+zXON0/h3sILIPF6Fd8RleDHGLz/ZrnG6fw72EFkHi9Cu+IyvBjjF5/s1efUH49CPPE8BlKvGl9zxVMpV40vueKplKvGl9zxVMpV40vueKplKvGjRwHV4qmUq8aX3PFUylXjS+54qmUq8WWoTueKl42wg16GpelKVce/0vsfGKqZJtDaCc8gnyhQ3v16cNTxMeApkRxAoN2NKyc+ZgyI2EG332TIm/Vn9kzqwHPqhMnwitQWG2EGdqudK5sHfIX1WzXot+YtnjPzTHKXbMlnWh4yVV9KD96BvSnU+Alob5PXfs4tTHJ3igcEZqNlTXcuFu3K4x2cOuf/B530Q06STB2WNNiaA0Qt77sCDuf4QXAUcA/EYyuJoMA9NkCW2IqjxKnURbYgVpesMeHfAHYRSegdl2yuJxUTfb0+G1wJknw9dcfDQdce4XMiMrCpFJTfs5/6szAIXX2+NF656b+5Geua6kR8w8lwHWVK/hKP25/AFIqVSnxYVMKPgfHqDMoABs+nR8MgM6V/G1x22eU+Tq8SP/UsUUq7wFsI/pHlrFoT1DKFTedBkOkOhw1TlqsbvSwVrzG/inZkuQUEvJUOP4sb50dnQVO8YdRellTqJT0b68vsibbKNteTPsqfdbk3xCbo/c2S8wsjjFngnd25Q7Pp4rpUN1uqkmLQopxEAXrCppHZoi1N+DB/QbyFPFZXZ3VfeWq6wyLIBqgokqTY/dvw6lGi6FKJv8lt3R/uNTcgTZXRw1FuZaeNTsMMdannGJGwsuRcy2xIzIzkftf7jmrCj8zw0JDaeaotXmCY6xKQl701FmfJlAKobZbPpt3EH+wSVtLB32U2u+LuB7Q3GgzvPLoTy0BUQMFNS/9c6H3VQCcMajkulYYxuvN8X/YoRLdAY2vmeeyc+Wy+IXCGjcOAsg2zAelsfCsTBQvu0pq1+eOAwehH31Ffo7AMGb0rsQKCJWR61Ty8Rt+CAnXX/sNBXsx6NHWSdrR70DXPSwxD7BG0UNbKLPIvkEWr/s/TmKOg72Ly03nUC9RcFj/xvi7PQdI2me4/wBVi52imciio8vmMcCU/0VAw4nIcyh5+4/HuYFPafShhpkJHkiO79OpxnPAZrpUJr+UIvtsfDpwLM5aL0fQlNC6b7MmsBnzU3J+NqKO1BiGTiAhBhJLItzuhOo1u5oS/7lumwuHOO3Yyz4ARmTUEu4c8c5ECfdSLe2LZj4MA5uHJSmjZSopslxGJwfprcrrCyLhYw+xGKVHyCYcH5ohCbydfH6KzU2/PsY8/fIChzpw9r1QIiOtc6AJn2lKxzfoEXwrHbswti07yrvNBwti6C8NM6HujsPi1tvaFg2+T0F3/T8LT0sS4DZPmjUNcgY/jVsgKqxdvzmkbOsvUrJm5CAthUzoEb565PNUMu7Pyj1PRUWlO6J/U6WKnOBXoWGnWE2xcM6LVt6siIfO9dA2Kq6WD+254bvMkl9SkVa8NWXhZUxE0nl+yh9k37Qecv+0gj/fWgibnj/oF1HctxjXRyTyPswhADyXAInHJ/aAUy92r1l2vGNJeJB+AKBtOee0X9kj1OkdsUYnrVxQ/xIg2pPnPE8BlKxfPHB7K1w+malbYQd1LVMpV447os1MUE8BlPEx0Y0vxXtaJ/BnNSbiMrwY4xef7Nc43T+Hewgsg8XoV3xGV4McYvP9mucbp/DvYQWQeL0K74jK8GOMXn+zXNjjJTYGxYl7GfUKj8nd/z5xE/gDAiyFKnF4ZzafwG9QgsT6hWG3QycK7Ki6sbyp0jpMzJPKLftjMMN4aEYj5aLavrspuRkLU4OZ57fB722QcOWiNtZpTFnNu8fVqQsFymckFfaJq7ccNUujGzcLSrnySbPPrN5fOg5u6KWVqDqqa4YQB9altf0Tcvw6EE7HnXV44VHcuU5nWCqzocKbALLI9B3mic5Q/C6bWwO+GJH3NCxgMzU8QD+BERbGL3AqZ4ljKC8WA+y1l+E41zoGc71szx+2ZDlCkjepxRix8euPoHsueKplJwYjUPIesU8e8ubzXgGmmxew0k68+jckUmQbbf950veewQxKs10eJpzU56afNF3wfpoxVW/NFYcbNTMp5xv7scUOYjjPP7zzRvBVk68dQZwyvcpZyZ7o66suifjhc3Mk6YeUXPsrE59x8DbCWSKB6Ix54ER02qS/aqtEuTnOylm7lMGl0aRevGyyqo2PwCy8Y6MCVtwgXhML9eHgx/AbLViflDIOv3PMA5YrYlRDARt1nQ50uJtt+B3okdFgki/lKQ2lGxl68xToE5iccU/5qMNuRq6xkM18384jgeCX/tfOw2ROpHIQyY48gnRgrXHRrC8WLUOigAuYUoo/pzx1uJP87aLCYtGwI6C35aPGl9zwsGnQMEbDaydEZmIgsHflN5d/+Ehh1lw6WY+2pZtojbEXh8WgnuNvqEe2HdbTC+bMX0hjxnNlYU5Ch1MtsezZOhUnbI0ZPv1gird4ibm825ENY34zC6COlgkjQz0Ot+Z9/NdAEjTHsQLQcNTDInwdDjl2lCoDHjK/wkwkLpL2pFXUlSheC7MFigiiMX6vtK/doeX+GXJGH0NSucpzsXKfiOOYoNm+mJdF11V/yJeNL1+x3RQjhxh9HH0z4Nb27RG6OlV/JtoXGH53TRD+xaFd5thN/ZVqh81bJUKaWgXLiBGHZZRTdzFrY7l+A3cTITPBZ8hhugmT5xvkVMv6pXrThIsANJcAD6isJRVrb2LXZe5TXyR8Pkz/2qeWOhTc0J1guheK+COt5jAc9xU4uKJ7H6OoECWlTujCFm1iTfkjnLK+NLPv4PpsmDwQvbTbGzhCdtsSXnvBUzWeH2WKqHvUibzO2BUz1Z/vTlQ+lHyNdDuJsepzRGfev3QvGooNPBtyiHmrJD+AzvoWsU5VS5SY4nuLPYGsmR2z4FF41XOyXBhn+VlQKnhtCMTHkrp71vGHu3lQ680/8B+awQCs7cKgEDwMq6nVWHTr85c+wfrTcbsIzUqUAKPwj3ix9QtkklXEQnL39NZpixeK7elbWEhRJMQt/Q/R6m5znwJlRW0jzYz+9LzlfVhRofy/KaI7fnZJn5Ygm7qF8SfR2spV2lwut9AMHAdL7mkpn5rVX+iSFDHcczJoDx8vQ46aQF48X6+V4DBTkhagPPkDZSMzvTEnZ3K6Jv0chHVfEdPDiBGoBmG2I3eR6xUPByplzA5dwgzQE1KagCyX54IZfRD6uLU9ORb6MSCz48ai9/+GnT5UgF9wUBvUmyFoBlwBaeCSwZSiulqRS/TSjjtobaMOEOKYloLFkL8asMlG0H9nlJAnHwIAXDGOkrAXWYQLlNWDJat9HF4RG+ICjA368HwGUpk9tORHJXh4YFxTxez/jAmxLUPKQZxagAzJ1lFj56ayw1auhRle7BpZIM5PouNHdv46iHdrEfq4Zj93V8cxlLO1wEAPyv8yopj98XMvYqfhQmjApZ+xoO+4qfIf9RreeGl35LlqiiHekUoQzkh4wFtwX20Fwr50pMDjJ+P64hjRNZkzxqHC68tr6NN6/LTgZA4Nl/H0GQ7XQmdw/V6lR78DNORetRUwYdUsXpI+ntgcQkvb2zK1n7rtSYrpzn4Hk58PZwpI9f51p6poTjMtxORRV7XPkHiA/jSZ0CUTUOnXyCkamRSm1TYJsBZk38x6Vjper2+/Yb5NXlXmmySoGU7Z4L0GXL2JhKCAG7dc45/KC6nYmSeqhLq3yYa9qoVt65ah1CF+6XzKxYTGCJWmL1jcr0WIKhiamrlt2DTrtO5I9KxcwcPr8oVPqRWKfvQ25KfBOdxfAuLu8zLXC+TnHIOCxao15gjTEo5AJSvangXDN0CAqp03G0S3beb7xhQ9MFgbUpaWotm5+rPTlJd/63ndWpR71ntOr7E20k8cfJ+hmatKUsDIjhZZFjrtLhDG81Q58dn0Ukh5Qll1s3rUAQZH+ik2qoOB2pK50E9uYJcUkXBRCexpeMLQYTkOk9CIycFf04q5FwQRxfEp6ozNjlkwwl6T9NMz0Y92kPXL+/0TbGqNo8Kwh+pe2p/Noy4TdIWU+BQS4z7APAPxQ2BD2IasGNrrcyl2bwgBiU74RY41OV4AtfLtFsAt0HmQmnFZAwI6ztmD4s4a4eLAI1woj/OXT3+bJJoF+qZ/7MTwiT/iU9NZ8MSVjOMeBlGoLodfYyglNdA337SEqnrbQpNTZZSbQzV+GjJGtF4KT4IB2ymhuWT8tYAa0pljRDfZPqJ7kw1DS1a5CUq2tgVrqUcdLetq2q3D/552uuIhUp1CGU5a2v/Mt1MZsNqOvx4SGpNPOXoIdRmE4E1vwpg+r5OM/EYh7boZFJFNBuX+C0v8E26I+Z618YKOzXTbM+K447b1EeYKrdStr3BbLKBDhDqnjO4fq3a/oousxhrmj31N4RTAdX9LSgt7ZyMYtI7tNzwMWYFLmd8ktn95Z/gbIlP2A4qTlL/qSVZ4EOTi8k2Ehz5Tio9zEhuGgTOUQXUGkEawsAbuNhoTkh4bJrAiiXiKBw9oTobDQIBYK4Sy9tSursCkQgqgGLPE8BlKvGl9zxVLyT7BhrgSHFouNOCAdNfhS+uq5Q9jLiuPLiVTxbJwomXM+pdi8GLEBocf+fmNC+H4REfkeTtHLLUNg1fiFxWgX36Pxqrjo3wujXSls8tPHtXB3/IlxmnzaQp/7yAMD3dSkW1ubvsZO2h/OvRwMdiI9EALnvmt1my6yQWt4hnlLEQSZuHW/fHt/Xppe8bhTxfXsCyi8cO+kvBoSKtpc1KspSAYs8TWftUaPGl9zxVMl4AIFGSfH4R8SrRE7maZUBQ1xTeDLAlbWMEyzNiXfA42qgMTSj/VlCKJeIj/HMsOfzlc6Oqwp1IQYgaQ6PhEVtjQIDQpxbbqyCUn03JRgOLcY8aXl+jLov2ub0yzflQ8OkQnXFDmSF8II1wx7zIy9J9QZqtwyrmjCWfZyUkM7TngvBWDsy0neBfsomcogFNos7utW+mb9pnGaeeCzHkXJjViBl0ehogxyAQJ4DKVeFFKH6L1xS6z4KCn6IXx7WJFRY8x8wxLIxt1t1uIFG9XUAhiTYjibt9xHr7raaqPW/Bvj1E8TjXXxAE3ar8cI9FqH01LSgeQRwqUrBvsywN1eN8TLbIobJAOoT6CuMAq9lswZ/2fA71Vwn7J1bXyhfCqw3E+7kSf50Q/9pb0vMvHcUdI4WHMD6P//nIgsKbrmQXgoAeNl39blBeKplKt4tg4joM/h7nn2WTf63H3UPPLeiRgikwV+sdP4tJxzQg1bQa7Xq370nrMNseZfI/L1Coluk5nt7rVdTTl/qbt5cGA98GF1l3eBHaEyE3S66McKy/DMMF/2VbFs8Fcp3AUGuUUnZ2e1sWgZ9vRBjc2fDX/k2D3LW7VP7NZ/9gZXgvld2DwF014hV5F8LCjkzCLLLgXJxMTV94GpS4vAIpYdxZhcAeSR5zRpkvim542f6QqGG+m2eQKVRGWKMZLHebCVf3x8k5yHP346P3FOwjAZn7MMiGvH0PF4kdHiy08/6gff9YRVZEixH/WdG/i9uUTqdvcpo8kJe50OgMRyCA2+h2LK6gdPNSPzmkA3VZSPEG1OqLRAebiHE81VaCnXdep1xfzf4JZo/XAe+Nl1/RCOCD6gOwC5lKiY1eRbCCEATD2mfUQtI8jbQ2P9WXffzys+nh3SB4ocwbNpwXQ43HJe7JWE+jwxyDtCSP6GD5ABT+sOMwO049+MjyAMCOQg7/60ETofGqQ+SnSwWZgkh4GmKVTIoIDMSKp8I8ocfak3KxZxweq9WQYP1AIpTlgD0bUKwowaGP8HFpOrMxpINxAcaC/FQ9WpQSvO4IxXvYumTPGvMoeGemtEcpC1zjkg6SXIltyjY6HnoNzoUYhkE8c6n3GM/MjiN5c93wC2plRAmRFZIO9T0i/0YVd0RZ1ZQAS8Vww2mz6+GUFxFXnxczO63mnBrORAUbUiMqAYU7m+VyY62Cb8ndXv3o/mUkR60FytpgWoaMSMQz/0LjxAQozKK9rM90Zqvb6+xeKoG1/eBACp/ZlR9DElSq1+M2TcRAxaQaZx0D4iQN9Ow0x4F00D35z2Nq/EJl0yW3IlAzFYojv8zu+H61CGZweuimKO/TsJN7EpBARgRHFZDWztwk/lghgfAUpUkCY5OIJurJlAS1BBYsoMxj8CsteIkEckz27esQBnid7lTjb3npTXHaVQUOkdORf15dLXPy1wRIxPiBxHIgDT+JO6mksdVXWkXWP4QGHTn9Hoghf9cWhCMadqHcsDsx2bCpimsi/V8YcfOZ4tfqP9QMn6MXd2ZO+iIHVUb3PJQ6vDyQpVolLaxZ90GSxgamUkvvMFdEf4OU3mnH8wMY7rTzf9U95eXHVKRvGii1ZhdxalDGOJ9rLRwK89kzk9UWXevTYLRmFL1uGV7oGBeWsLjxUDKICinxO4X+ommXQZUgxOT4cOxMHJsnHpQVFiyuoBOX49wpkR7WA/9cPTKi8j/J9PeuTEhXbVrXgtbqHCTw+NS8Fr4kSQ2K6RFSbHHRgYMlAwFDriG/R/4HXyMBC1opKtWzVFq0U3bpPZLZd35VOcvtQPj5Kk6N/Wj73olZyGqSe4CT6coTyXCOeiWLJOUMrsAfqiWW13q0SyShn2ZsxX3uEKYYzjsA42rTQdXil5UmLHFucq4ygG7NB0WVyigcsI34UGfVllmDFXEmYpOSlzxSmzWMJpz34B4WdVtRmLVE91ZyCaggXErLpgvyL/VwB3xncN75XOKiOiaKfgHPnRwN15pxpIBYfvmVLlW6R/Lg9rp3WQ8GMqEbOeqVuhKfofdYyxqadbdDhweL8ie1zr5pbWMSZ/wUmU8i8jjskFwGkv8kWKDUa/e+cDB6rwQkrRfqHY+/m8mY/Z1t8DYL/CuMQDS0/DIKJAoPfvhMJe7pG16GrrthDWFZqfdcQj0HNhUrXMnmsZ7SILy4j0yAgoZNZZnzl+eXW6A4cfmFwO22ZO1QsDydUN8t3aJSzvguX2OV20lp/RONuqGj/JlmNuqcbdU3+UMV42a/dk/xANvyAhd5ldD/vRi60XXyU9vWcrecLiHVRZZDOHvJajDVc9DWiEEeD4CNdh39FHkOjphJv1NW+DK1BpQF+Vhm7eVqK3anH/pZFIZwAH6Tm4XfeMgyD8+/T8bOZKJIE0Ws4VFBmO/dGElSMfhzyw8N9e055G0alUGywC1Ijhj6vYVMlzTeL4gPjpgzjrYkaJ2MgcXHXFY58LqnG3VONuqb9Mf1J+eyIHcTwGUq8IS5A6aldlB7c71sQ+/Euxx8WZOtz0eMXcbKbL4jnRZ/iYk2hnfPWwFP9YCtw44RgnXVHHcqbp56MFn4OErtGdxSfcbZUihcet0vCudUbSZ50hCIBaTY5C+XBCRoDffCWcRDOJqnExbFur7TZ+xBumLU89T+HeTQ+aMdwfM3X1rviMrwY4xef7Nc43T+HewWIjeXptXitMzrQ47bBhVhPeUvJtcUZ2Pu28iQRhKuo+oQIHA1MQXQso16yMluRepW9bQe2sWY/Px2Rgt/xvjufk4In+VegPxjJgdz8nBPyc2l5z8lgpHrbU/9YNCzNf855o9ziB5OGOC44DJQDIN1Stq0ves1V8LRb7JuLkvhfqj5mucO5Tp4ZjGGAjOhJNZG3aINUkmerFul/pbnatfw80/FEfDv876h97gS8VIGcINwrqH02alqd8X45fzh+dPq6mBp8fOcCkpUZUvPLlPwDVlF4q4UmnUu8ctCYc4KLHu3NlHxSy2YsoPiEMRsrWf2uH5v+7k6RYrd0Mgeh18ejCatb8FGxmsZ34ei7uqyBKtwZpezxG+HFdWqvxAYzx+c2AWudQJe9wploOVv32hEvVZcqFpjQCaKzXm3SUL9Xk4qKfJVKEAdQa42gAhb50lLcCp54BxQYNnQW4E+KJWWP5E5Gyiez1BZRz5wKuaLupXb/XQnG+2EjrvUpt6ecfCDmnTkMT13Xvtfu5bjPWHl2eDQVS+MzscHgQF32PWOwoTtwUXPIufOb9lmlUBFFa6QNysjTXecbN6rovxO25HuE0vdgkPBmOfVnrNz2D7MyXekAY5YJ4LADwAdZmgE93Qv0ef9JqDs1LylcLP5EMmRdRFSgHXZF8C2uaLIcFuEHiWHoV2mqS5gKTJvzf7eBb8txV6+y5Z4++sqqmFMrhqPxa9ClEz5lZAxvO8AexHv1EtDpOzAVKsjDp9dT60cuX4HgtAQFzJCBnOAKO3YRUFki3T6/Y3RH2rZUprP/ZAjwkg3v92uXhA8X9RSlwSTNg16r/OH947NqDEk579KZu3xvXaHJN7JhlbHY6FQCLOdivu6qFKfBGbJZX10mFMhs8+hRCKLWoILVFpSbfVAbseCX1EB9xbvacr+1mJxXBU1VSzqLj2m4lE0Xa6i3fJKbW/sNYVKO4ycdEFjMk/Ud9pZxLO3H6oIudU7BB7pVVvDpSR3xtwhIbmLF98zFXjz8IUMmesYSKKQAJyHvUe3/XZgAvb1nWyPDe3++6RdRZv5iJvNCW4eRqiIyMhVpsYkjttvU7nBptuzP3ppvtMaw0EWkPgz5NMbD1IDJLUmDbLhnn/VXU1pTiH5MWYfCcQi8wBJrAh9vQZhs/f6698B9Zo1ASeTSRPTdMrJ+pDPD6dwMcXfe84pjfbpTuWMg7LlI+z4BdO6cr8IJYXrhKFNeMaWnbAGp0NOPBaBv+IkJi7CGy8l0dnMLF+E4QOpPYGyKnwh6CbOcf23qJh+3upOMIAGHxoZspSneHv0mNKjoVuvTz2hd26BFThnliTuyZJqUDT5wYeW03ndqCrIYz04bkSfovC8vW5Z8JdHgi0qCc5Isu0Gdi/J+c9wN1XUyTITRJTrWSkEG1PedBM/ZIGnuZ54WHRgRT+EBYAhKUow5Qs5jWXIe6phK2Uaq3caizw/pEI3e8m30+eKYaHQOeAWRxR0uq/FQUawzfdUKVyTZtX20vzTcDi4TUR6xeayrglJU7wqtpZRe2lSdjJzOxaSshNNoVeY1gV4PHPfVBxY8GYHjgaqPfUYn1e9MDFZAAUpGsDmzPvYb46No5000nxmELwKAynU4X84exYQjQQBN6MbRDL5e91iPMQ6qTNET6I8gOHq+cy33jRFpcNSwfmSmX3l6FdeRleDG3bd2L/ZKyBFIrT09c/xhEUHvqcGJ5iRYgY03P39WfFd5Ol3DvYQWPvL0K74jK8E4iGLKIjaDpToMKd5RbIPF6Fd8RlcbFfbIXQIAA/qI8wR9Io0Yf5XWx8xA7Dq+cPdBHuP/Ack2KTVDZfPaSyZ5xBDmGrd206JVt/2oacvTGyPLgKd2Ed8BTuwjvgKd2Ed8BTuwjvgKd2Ed8BTuwjvgKd2Ed8BTuwjvgKd2Ed8BTuwjvgKd2Ed8BTuwjvgKd2Ed8BTuwjvgKd2Ed8BTuwjvgKd2Ed8BTuwjvgKd2Ed8BTuwjvgKd2Ed8BTuwjvgKd2Ed8BTuwjviU1uGZ/Xwuxrv+GvrH38NBTE9J+zKEKLhFL72uAp8Tdlj6BQoLgAAAAAAAAAAAAAAAAAAAAA688nWb8TjM2U4IWDXaa5EQp7TwAAi9k+61xwfgBVXWwUANe7cktmbQDsOueCghH+fPLLMokeLtA+dDg5un6crMtstKzTnD6dbTUyQzRkHrtnes1YUCo8miQyPsC0+GQNc0OZhwEH47W/vP1WVNRlNXIjrsg8obTK4ZmdJdFrk1UbYFEiMe7h0hTbyLSkut/dVfsrzi32n5bJvE9ez/eUHXWaiuu/7AHIac1vxmN+GbWW0r87GHdScvx8+8N6Dmyg+qxMQEL2rDr8CAyGgKkb+I4XQ8gix83gJFEfPQRTyFpZOdhPqSOKzM2KGkEv8RQa/YDrcfOPA13l5C6Td6s6SKYKjC6XX8hB5BAkxe9sNDqaCAVPamNfpLOjkskricgKYjVppUlBV1pKOpCy8DLrnEAWIXQodFfyHlNwQkNV7eeiiMYMN0y+Nxwd8tKQ0+9nIrWrPSk3VCdZsqEOCX/X1/oTLaw74lNgABmndB34eY+s/DvU7hFJ+vSJgVV9YmKhoDPc6V3OPXSPUK3R2B8+GruB/Ez1+l2p3buCPCRdIEOd0ddLjWOi1/C02ZgVhDQuUF1G/sUxJ3rEJBtRsfjTY0xtCeUtXZjhtaq+6iUCxUu4VMI+BuAORH6iwoR8UoI7pjGw34cdX+/c35xUhTVX74kchGNJK5iSTKz/zdslTgayN4JxqesRnpvs5P735xrBHIm/x0zSZYdZ5f7n33sZ0L2lJPdEciLnDY+XyQtbpQ+8zMaID0zL9vkj99Fv3H0mJ3dLsnOKKd/PmAmR112s/OnfITisJl1gM7yQwJIcMK9vD80/A9AbvfETtnXUXb/ovJlwwO+gzFbTbbNxNR/NSO+beCtAzWsLeTrpBrcY9mKVKSPqp44uGjYe1UqGWvJtqhCuAG/5XGdEqKaIq02+L9ZmVbdWSQofq1Z1irCQgeJ3MlsiqE21r4v3WyHIPiwr1WS88Wd+EWAjfkROBBt1pL/c8m77il1HxzeEVVp90yLk8Y7wwhEBVagfSP2Vl49CJZpsEvYUuhl0vhI4F3lmi9BaaMbKgglUh//DT82AqnxSRwYMzoHC2UhldcMt7AzIOGTKKOXJcCrYTZErTno27SQLeYmSEmNlzywZjao1srPL5N0lMwJHYv7xJF4sNNaACHV9cwF14DFwxGLhhMImIYLoR3MFQqLjBBiQHD/3L6QolKYcK5oLXTn7meLEBxPH7SxKDAMyqcc6ieM9/IWNtwGLp1byyrEFYsJl3BVhBA4nmbeZC5HErR+EiNqspSLuMk4PEpfoYnkLpsIKf7NM9wM7GVbsu8+aIV3nYKDIbXWy5IHmNtHrRUgKa6Yfe+kVIHl2hO/HMAB62anaMcsL1jq6wKDvJBdscySIxIhlR8YNV2yiWVaTr10wfelyKCsFfbLwzA8lNrht/JRRObdz4C0Ul802+UKJWm13QE+b70se0g/yNlEZ7/MRxul2RDwlAQEr/kTVh2R9JUYxNP52fFiBy0IIKPzekFJeOf+uV8zSsYDU6kKOGfv9uP3qbmQLK4vS/7148p9+4kf5Ctf9WHsYk6v0GMv6RfJ7Fsm0IzzuZqSfQRmLChpcFavh9lCM92k2VzgM73LjDGP809G7pVe9FVc4PZKY/MMCYjYXLsRTZNRy3eJvuIxh+ZVVVqgFTLcwNDRb1kPbwk1NSuNKFhT4iyJWba9UE5e+Dbe0A8Pjk7YcTXfwfiT/SFrxjLJVxDdxCyFt7GTdbLDBrqnie47pF4nGRtBuPFW4wh9PMt58Hi8oQcBUObdf5mdHn/wyMqyKoZPfi+wzVWCtxn5KRsWuswaHo4sfo7XZ0qeJnAXY6iT3ZWrbw6K5RvRY+UKeNLPJZzi67V47ZBTD0xFrLMu1YkiFQQLLVOE+khVwMna6M3c7IQMo5vA6BKjvtfmyShc42aaUee2C/NW9abeUNDtGw8PGoy5ECIJ0xBGDXpgMIzIAt0uyS8EzEb9ANhigtX95EXN2cA55hKzbStCGeitdgmHOFTxu+arVxOdE5R1E/4L9ui5iJoRK+v5RDcEPex+XDmr7mw9KSV81u7MyprT5Y+88Rx/T3UJz2ITQx+QznKc9nVQijLn+vovUEQgTJS+bZZ5MXRF08OhrUudP/rCIuL+Qk0rqFtrFEiSAhMCAAZqxr1S9XMYbODvhtr+w4yhDbpn73H67eRSCU5JyAIpsXF8FiGYod3ZH5bLZ5WgoYJifD1lJk/OSDrjsZHZN48oqfcMDEoAiH69jxC977lPgrtNLX/RR5OBglGuPS9HtbMxNcdWSMdY4jhkvdpKTNs3SM1kVNSIz2/hpO9/0GL0icBIVHZ5VHb28kJ/iQztfPPlMnJ/CoPS6LCfLoju5ojJ/qht6zFb1T0cqDsxatYn3p4pv+pPigYv4GnXG8bDVbyWT/epkukA0aPbV4AzP8KoMMi/wnQ4iImVBNvxQziODvTIbd+pRIz7fTUgjPmv6IQZC1vJnoE2ISLsl/FW1m//yIbsVQdgGQWhdPm6ugMEAj8nPZX9rZYb+6cuiSwFLCJnQ9yJA1fBqFGE2tNQnWDRRQTstq981a65AIy19OPVZQi7UQvz8pEI2C4wDgaFgikBM31CzupC9V2QEO6I9Chz8egpMsoKSx11g5dUKolh5NK8IoXUDmJXWx5L0vzQtMK7Qu2kRVFsHiqvj7ahmV8nmcEelatOangIvpyBFazXGZ3gAYpO5/8pfzxr4QwBqarv6KfTdPNiJAulcp9mG5ZnC0bEqnyeXGPQbu/uA5aWzW31934pGhmlwpxYOmHDaujv7SUhnTY3uJMOhl7MNwmZwzX9XmKTSKO1bC5KXxayjXwhIs3OeHSYiZA4s2tesQVH5lGdGnC69H2OoQnnenY8g4aUp901bTvnGFlebix7nPj+KQjgVvAGcvPcgNwcrRoK+uXkFmU/8gU4tBCWxq+La+HRttPudsyxhd8dJdgAyMUm22+pAhxoN55rFllcguUdduTHZNdP2kdJacX+ObdTZE9T8B31LQRK2DK1EyKCKftle1/dliS6V01o6fN33hVR0CXz3y9/CTvALRJjPr/BJsrWSlUbu/Ly/ghwbO1C0pwYSNLIBhU5EH83K7o4qWzSvbkPBgzDVjbhioTITmE/4L5r2QYcOlI+v6BU6SxUu61vum1w0oBwevMD0mq9vWm4WHZgz3wQ7tRBuQYWDXfO87Qalz/PNE/0OJNTV8UtD43OP+ZFKymJSxwbX/BWRWt9MsqlOXf2gJPi+ngjpLSVqecEw9SwbI8Z9WC2E2C/RZ/AH2GbkHcKIFsmOgLB1wm3KeFfILe0zX4v7cpXUyWV2QLtVFW544DW8/x21TFQRf9+zTkDV+nd2zCq6dFxBDdvoUIKqPTOwsXd7UX/SpXtcKsGtXQdkivUyHalGUj0/gwpg+qvGCwSfauMoQIqlM8VBmuTd4hY+58WxSl6SCgX2w1QbHPdZRg3BgnA+Ivl2zz5ID1ckiL0WoSN0I3z7AWaqDoI9D6aIfTVL8+ijzKvjdEJc5KediPVgKQuzAK6Y5VzTPtcEhB+TezWDMvLUGD3Xzt3RxLhS6hGpmcI9x0zYxVbOs6ZdNijLCOlVRhV80Czx+nHQR7LOVgr1lxLuiW5SQ6Xh+6+zeU1MGtLqxEEjPORftN3HlsM4i9d3cpmvmCWT4vkDeBlh3ZpQBQCkZgogCxmAtShp7zyvDUoe91FYyIRT7krITMNzHqAkdjzw09DULV7O2TS6/N/fWLJGUVoh4RZ+Etdt3kEAWzWchpuXPK0deemhq+yVgTtDikzdqHZWBNUCMeN8jrqgKVegdvfWAmhLnPmyCg33OGgAFSxAuOBgguta9kK5V5LcpaacslKQ5ZLLQuHlP7BGk39tUWER0BLqIVUAadqDvmkenLhjNsvQbgPrB9G9LoD2YwfYCWg29NJ4LQZMkESFlXQbHecFQLWISKraafOqW05Gsnu7QbcTb5mvwHtzN5Wl7tGbh04hlhZUUTrovfUdYOonyEsuu6tvQV33bP8Gk3cwsXKmfwAWBGaRhWf0/F8wvyfosOcbOOOOJhGfmsn6YT1Mo74B9pSdjcSZ5wXkm8FDKmJJJNiW0PHlN1tH68izlLOITt2D6+qFCaFbJ01HduMYCskHVFvaWT+LvvdR0V1fAK4/b8cbn+wEgawZKM36Urync13TdIHB5AitQjO8XEq/EYxNYCLwV9MYoQJ8r5x4CmMMONzswCqNPNvBz4TppIBUi8MK74Lwuxym0x1H/1yS/iq6HdGwp+nffYYKVybYmtyqr/izrCj0Hp4ecdxc9ns/ttLy3OdvqtIJI7WZZedMuK63J4ULzdzkVPjCinTulEnoxSxccgjUTRXAcNwyNCD+taMXOJzaO7drPj100Sn1t2dpj4M86RjA0xOxrv8AD6M2OnmE3u+HZliu3YA6S5S/4/iToK/0ZAvmn8szyVEZgRpHoWVcHgtVQmVI4+YX5T1BpqgBbshEZI7bXu4IxE0/AxyVT1TUTiYEDPcEBctf5vQE7wb6yQ7Idclq1u7ddvOAnit6UUDPVCqldPgrS1LjxjHfr39RFlBJGZJHSvwHpYS7GR7AMcUhlcz8f+Ds4P1k684mC/EEnRHb3gNMzm9odRgDHiC9OYPNEiORBWZtozINiNErfLUzLONx9/EihKYxHVh8nBU8bMQSvFASxhuZD0jQaiyl34JoYQJJPq4K0n4XvyHbxLI9zqKIR08+Ba7dA/JtFjlKNfiiVcz9EIELkKP+Wfa9bQp2B6ewb+GXDI2fIyTHYLjuxBQt9mDIkitZJuDv+B4t2bgzwmwrm01u5RBuumTzoDQdCbR1Ha6W3XQs8qLx84bVukm678N/bNEu6fa006wGMh57kmTgqH/oxqdkyubgbkDs4DbBVoO7GDxnHxIsnXkPYu2VdM0N8dL54oNJ/PgfYYGkPM7clf/NSfpfq7lLvkNmwop886GLm0p1X1EKGL2GkhSvsPkBTYXoTW+qZzYax2tAUp8OwMGIitDe8zn5cg0JYhv2sXhNvPNx0RIT4a5/h3Qy1IJZ4J2awGjLc2CHmjTkY4gR8yZ2bT/+jo0JQe8jW6lna86eJTVHapsoibO32wOMtFMmXvfX6X3MtqOa93Y3QXwQKv44FBFQtZSoXtFyDY5S4IWQjCOTzob+I5XfmAsnaLQdIL6qvivM77cXfYb+j23/vvedGpvkxdXJdf5dZeles4xfEgF1NDNyddxjC7l/UPtyligR87WEoyiwifrXO7f7wrPtn5t7jVN/U6au/W2PHY4Ik7HI82YzQLAeIO+NxpBh7NhoE0Qrz88gqjc3QAxUzpwIqT5cIGzmvVP/xKvMJEeu4yWc3hN7eAm4tkv5VTTViwTguQ7FzzzEeP62/n5E9NqA4cP6lcXIxITLzAk2DPz431wdW9dmgo3+miDQ4CFE8suSxyka9g2xelB/KxGlffXYGvGWAP+VPNCtqf12v90704sMFXoUzOsOJnimHCtb+qI/9sXQAd3kIQO8H/sfHNSQdM2GRi/reb8oj1AqQPw5AhIJwCo3+c8/hyPdkdhCDoVSFATunYc2RjjHGzeeuB7RcpIS7VuiLy8Ov9iYM2gHr7Pp6g6MHEAgTwR9rcVU9AP1n55clD9r9IU7XtQxDbzv62ut2zLF65fvd686Zt4wpp4jK7TkioD+SXPQ6cu8C7h4E7jt/Jb1AZtPk8h5/HkpgkJ3tKcQf/38NjdXlIBDD8RRY3qCRv4cH8z0CYciWocRezMy6c9ZQvHK7WFtaGjeLxZ0bJfnDTScFUqBENdAYVEjnKD8UqFM5chAVyaSisXlORtmzM6S/R7/isRBaG3KfzHaYYNj8xIXUVmj+u0tmc512EiSIEEXVCihbAWqUZqV2dlfD1+Mtg5yWVu2bdYObNWao9jpWcwJs+FuRSOxPHScBqxP3+wBt0jlnNGYd8ovU4FRGGx9siXTQhvRbXV4SqEeWTrvdP75yWW5AnolHbkQ92b5BC4je9/9ARZlcHc6m5fJkqNgBRKw7XzmbT9Z8czugGX1vztUXLl/+pM0LuqrjOoPeMwZrgypRYYP+jq7IoH7nQ71StVCpfSyLx4srwHZzR0HrgsfDC5ss6mLzZM+nsD2u79/IVtf8tFB58qQpPeNP9HJsPHH/0xXFj8f9KlBxb9cyDmVK4HchBCmi+d1JYEEwMKhUTUyU3yPgNIQOuXbSxQGXsoVCI9Xs4fzeRSKtYReXmsSwgxzYYJr3e5cZAb9hH3qo6akLIZFB+Y/4THJdxM424eChdw5g8DbJ9QC3JhQcmne83j9geTDNKwS3WNmEE0KCOGj9Iq+i2EQATQ9QugaPJTXtfxob8eurEpsrDetuNVHjb/F/zzXmov/U8qD24tSDjqCnnZtNmLU6hUgT8jZbUz0YY6GIfRXSK7xhO4/XhBSN2bOrOqNMWd2vK9rKRVXMjKefpwN3rHNRM/4OcxSA2FN5SMs5m6E4ly+7GmFSjKF0Z6f56TF95T6qIWg754YO0Xj5zu4RejjUWaIVXo5hG1yzWjK8rg50W/+jW80AHmzktxl9k9xz1x1aFwBOwE6DSJM9ICF7JBWcX2CKleGqRLaieItnEWVaVsghvhS0UAObnx5dXOIP9S/MCNJEPKjjJNfDTuI213pq4JjFxQEYlnxsDVS/lt2Ga8P2udlst9/QGs/4IHabEcwQJJ2nTk7/ShZJ3Kbd4WAjYTyfnyss6LHJBtyuF7eFYR1IxD9PyuT/KLv6+9StqZLAxCG8yDwHx8jQwrF8uR7vRDwREKs1IWV2hir4VJzwX+wkw1dFf31guNbJY2I9ZbnPYqoh2ntmoKnq0+ccs5d8TiDXhv7Fqlc5zNYvUY9UzPLu4WYb6kWlo0KkBSdTi+WLRVUutyv6nllX/ppb2LQK88a/S1QB+6CehJCvvIM+kVeCBB81fT4kSsU38XxF8gcPxABPzOoYGvTAwMiAzDhscxzfJ221aQw9REBBZsOEwtbU1xmUU/ADxEVbmF8Te+hjU7FQkh10+y/X1s68hy3ED/0HtEIRIA+9Or4D7FaL+opE93uc+LKIEMdt2JctWxEHR6ooRzEJ8xxxP6Dfrzu1b/WY6lZsEUXZGWfvKF20A6Ls8QJnFr/gtN9nRdfZZkjGgE3utdlA1XZ7cpafERfxkRg5Bw6M5v7C4/neLCgV7tHMPmIRv54HCuRGixQvcrO/LQMsZgxUqdg+Ut8dKpwvi7FqwKszLKXkM7o3qtI2QGmpqqSjA0UAzwBM8M84QG+9KwQc/TWUvL8YGvuVYX9MHGeGNo5+zESEGqVqNXD/LQcGe1Po2QQBDwBG2buMazzvCE55YubyyjFMBRFdFWxgBGl8TgZ7fc8V7kCxuglxXZ8IFUxUipLJpl/XhiXQjZtS87QIvg3AIT1jgvGdfzhAE+hp0hCHDFN1o9fjqvE9gpWiKtLpgVbPKd8DEI2dXNM58AizGGrmiEUWiwSujqz1WLXsVBmUnLfDehJ2hPLq9EUyVZYvjGwBva0GqGECNSkVb9bvMj5xzMqQPFPili9PMNEiocp7+iyntfKpDo+qsitceRNFXRHT4WP0aZZFbH5N/PksJRHf3++ixWx8EfXv/wPypikenm23UPdKM8UQo+q2AQ+ZcPhaX5a9JkUFfo3htMDWoAaNts9XHRuXMSufU+ZhiAGAHMrNjH25TvQd5pW2EPdO489ezdwks1qIIw9LGrpnEZIHDzi+SGmPE/HL4Spaygszm9StbuG2bZC+xE0O/hgsKMDpkDW9TrgZ034lZwW7Mdz9CoJwXGooBxvYpXMdsK24Tv2H7QAMYDxq/E5H9wAoAs7tdn0YUQcKCyu1UkGJRaNmjV8boMkoZiGx3wrsWdCRdfym6p0V8XXvcI6wlIbMJ0lphoClgdkCJk+rdNBs7RiH8H3FdrFcEyJZLixVYWBUw14BRuGV4BfYfArdBeFjXLJpopS54pi5j4Pqe+QLIm0bTcd6Dow0aJ+6QkGpgHeauRIKS21LS+RDCMAOuEPHai5kG5pRKwZCiLi7FHgYHmAaij+gitJTNnNgk1u4iP2xFq4Jqa4P/3T76kDicczqqgxvl6+4WJMYRtgBnLxy7xhwnj93UciCXzYHNq+nTdbosmIEsyhvRlqzjdjq87ATwMZAb4Qsy6rS5U5jtBBVkotc/FornhzFdkZNkJpNFKH92CxJ4LdUe8SQU0l4qcOnY6/EHlM2RMhUQ2qhqU0aOKW3RoxY2+RsnCwBCZ+k0F0P9dS8KP2DB1FMvaRQ5EsnyoL8ZgVq2UaFGBX5sD+dkEOCR+hOGiXAXuKVfl3eyoQ0eBhg52DA1GxJlVXpzRCLO0NZv0qpr3Tm9PhbYYeb2QPwqy6y6XTGT4R7cYfeh5VvhsB0jgfd6yTCDrhiXV0ud+O90VZ8u0zfu20F4DzczSrZ+/k9zWhUiRUZQ35yyOJJnxEX+9jmYxS+EcmGXKYFE1uft2QodXn91+J0+Gvn3gCjqZlJXXuLbasyYOfHTMv1vZeHh1gcwGkA/YFxDlE41zua2cPjyDvJ1LIc+DW0CZOb24ONNZGsTzE5MZvMr3zU1TL99WLfDnM2KH1otCLEM4jDwFlxX27/jZ41Vp6eLh/7cC4TG183TJnBTIjuGvReKy7oRmoRuwdrArQFCSFw1tpQ4bXuBme7uUqjJQREg7BDggnr/OgB4lVEqSNz8ZguYaYWJ0eS2MAOxWZ9G4GqD6Clxp5MmfpXnjqEdbeJhjzAiKw+iK64mv6AR6YcOMIkAkIOmJhz8ZkZS/a/ANq/4tRRvbA8oSvUWaR7Qtj9DdOO8lhsIA6UbUVhWq8Dne0/MRSSCCpP1IZcpJQLrCh6MVuZvnGpIJY6SVWmrmhX3ZvEj0egHH9tvFAdA7236q22X8h+MP4Eh/P7DiNHic8Sfh7uIofc/gsQ/ZQJWPqRnRgsOlL0+VzzRU2lfvtmgmdNpgHKXw/Dq91ln0ju/yyVg8G8qDaTLRachcRgn5vATfGrJRCdfj5Ux5Uso1oYZjhJBhyAQe7XgPu5ZWdVRFISw07XKPdr65tCUQfEbuMpNv7T1TobNvRRxTB+RrH9tFKN2TeyOJIc0MJnx4om8x/xMpN6XcoszknTEMEWhQFp4ukLCjyfMMgPCTS45IsZ1ru7dSy0gsTzp574y2wsXvJFbupcmuC/lXhHpD4dBdtRWwnxwOiqT9+JUEry9qSU0BLu3PnmzQ13m0Fe8X5roKUVZX4HjaqV+iEi7OiPPLudoV7uGNWjMAvHcfRgY0rrvDGM2WQ9T5ZC5riZfgh0j2AKN4z+gP1k006ejEBOOUkXFA7OXD6XoDqG6+SIrvhREUA3CvX+xt0V8p231d37lzUgs1ruxF6voG8hmC6KOVaOEc+p2gVALES+99DrChbU9x9VNW7uLgFlr60NkPnxkREGUhzpziwSWAnyAtfWoRm3nWGvJSyv/B93JV+9uIYBuRBaa2ZsRApGndIDOF5jTMIWQ1Po+3TLUY/b5ZkuRdr5UCwEJlXu+40QqGI6JIXKXxcF6j+K6AWY0RvVJhCIADfeNovY9a16pskD9PAEJ2/xYiOalTVVCcaifFEOUsUqWRLUiYavXZEDvMZph0JGcSnpyCxmk3ml2F71dkVkY+x2/NC7bF01dlMGCyhA+9Mzi7QcJuQhLNg7UouFx41RxaUMhs0LkSSoO5zLNmCNHIeT5gp9Ez86oD9AB6L+NklrcWQ7TRaQ/V/sMcPdBMI9sOX0cG0b5EgyD0RbaQwVgE1pQcwSoDxn2vgqTQ5h3n2Vy9DBiJ3KSPojjEYL1gYQFjPnDkTMTxh7djFn7sHn8stdcEyAxayvlWKUErkamScmCdXTiqwpJtGyCz4ldDaJq4GAmCDhgEcWSXIkALy/vQ6M4EpEkO78vNKUV76gd4fBM70nC/qwKhD9PQyM9YPX/v7ZgydkF0Y379SVQ8DCIEnzrVUTKrBcdrhwuSUlXwvbLBICz4x4iJyqOGmbLTyWNs6ExGT8At2hqNl9+j1cQcS47v65qFT4D2WZZcLfDCGiCDNywMs0VeFX/sh0rxOD24//CVwJPLYO7lk0WRw9FspBCJMvwhIgH3BmwNz+UtsIpEh8HGMTQ3XWLWLELQob2lQHzDyv3djmxvgVD3AEPKxK+upXHzRKGpgNL5z74qRprCeuvCuxOJyWL/FS6rRjj4vApUD0m5DIJvem8p8ohuZS0ALXQnOZCOaFoSbH6fvkO1nt+8eak3w3BtIe0WfXbylNmL144u/BWcJpP+AWpYpMHzTXN8iK/oAAAAAAAAAAAAAAAAAAAAAAAAAVS7zGz0srs7eU8OAf0YhylYA4IHPBUAhpzIMAn9HzV8q+S8jDAAAAAAAAAAAAMBmfo2nkPd3kQRoKfVAilRqJkr0mg/qmeEmOh/JOC30szFuFRkyfaTrDEchU7OdKwvMWNepVvquQbh/gNeL+PDxmJGs4Ha1o/25fFEVYIOcdXwCH3duLUfZgX7LJAUxZO7KZrDpQ6GeO+sDzV/Ry9nt6geQRuk67fHmtiNbR///xcaOZuKCez8o1jrQUv7FmJLmW+aYxAvwcIZtSxZMoQyYWh59P5Ol+WHBnPcxdBS2UkCa5drkG2s8sYezZVej39fPDCiD3YyfyC6YV37raIZxPaFfKKNPeiySyt2gqBtoeDPFrWIYiUv/IN5i/6z5vgwPzJVZz/QVgp1AH8ehgXt1P0zpyhUr7kRf66p0TUQyVPs7u5na9g7z/FYd3z8KaDjQFQopv8QVhecYmUJI2p2CPChAsAtFeIDf1rMrV0WbJD1lOpz9EcMMVIUwa7fz9SKfSmH0aoBEhPG1SpKHtzOsYnWI8q5DXwJ2F2CrlUXIXBzXjZk0b734DsR3q90wNHm4s7cxo6K8GLZIbPo6xfuDCIn9d3xn+l/4m9xaGBNxenHjH4GDzN7mc3DRFPhhh/onge7TPZB9EsKALvhN0SrKE5q6I4fSqh+kG2Sbm0jitQiYuiT0uoUhTRiE2YXfSt/M/q1agnY/pyiAsYIt1/xlbe7RMZOrmXFx7+YQRG/SA98vbwv+ROXvyffaSmeuGSUbcHEEqx35kVQeUuYNOCX2igIfJNbJDMTIlqWcW5TulVKyEiTCDUy6n6CPBu2PWzkIN6KbL2c9tUS2NjrIhAYi7UUKK02vYe2u0s49gFskB+aWJPek+9Frw5eSGKP29FbIN58wT3W/H52jKwKBTrS6Fx6IzYd1Z1T1IQnLKO3gZGpWNyctWct/IhXfkTqfHD/Ys9gGDvMqTbCk9wquy1iQVmPdq7msJNNgtXJ6Cy6r9yFnbRrjLlGWTHaAmZRVMcyY8NObM/gAcTmXNdsKF0eD1lWi6NxUw1Vh9+141TcPGy+rY/QuxgXDppql9x4d513HtyVd+nhTyMoEc2Jjg1b5I0P6pbFip/+NVfpCnZU0o/ZTjV4U/D5IdyRIOj53MpRt1hPAtQmLMloCWq/duZJjOfjswnI/WKEdIDveDoowwH65XJ/nDWECb8t9ezd2l8n/bkjtoMLy1k1pJJYDLJp5RgBE4Dx0EVayswK6CPQcivNe0+FOCf8ACIk3UvQl2+ePPcCc4GJqpAkHHNPMxnIMjfdSSHe+8VcL+PJg6Fhmbkgea/ibnj4P44RmM0TQJQFFNbCihcOeIOsmSnqmP5SPT+hHJB2vfZ6srBssXW+0/ZHMLiCeJDhArHs90AtKk3qi2pq1mpivevxQfR43Vb16/xuKQy6B+76F+ufr3Z0AtOkKrM7oGLJFkrQbZJpz638MCO/a0LvOA1fax9VzoD6wSxiOnYg8kgYv7tRisxdLJtiR2fZoWCnRlu74jBjvTh02GAwWAWwzAKoOYo0pZgda9q/bi9Zf69ODQAyBT6XGHNsG85felaj/0iqkKa0eRAmVk680vJ+N6dH1rA7RCAYbg9drUwIWVBm4GvU+qrzgeCeOkdCZJ2wvqvfNpTv3ickWO4Ib8l6mc/l1pdYnd0Wdvbd8rv8yVdYlTMWfIS2sRo1H0QPwMiR+NBwWzQscsu/p8AfGDmoDlOcH4TaWY1gl1zpFbH3MAWcMiIYh5Cd4IngUSw5nLLmArcT+o5bFqoZrO3boLSaSiObhRgKoSFYsM3eEu6mug8URG+QPj3E+rpavEEmk0yEHdk5noxbQG9LtUQsWgAoJkwlr3gwydmRhRGHswB155xCuEBzNL7wqPs2W5Zwr0KFR0b2mMedANqXHEE8riYLQpu5kcy1/sT5eoFs/pgDtgcQl/S1vgewMGk8T1bc1G7oaIlydiBb1SAfCuGwycNBih8SyxK1/B/8ya2ii2l5PUopYSLPSbiS9O+3piG3rOiI2dEz8a3bnWxD3OGgGbf441XdsRalOKfzTAMUjjGFZ8ZSFtvX4ZC44PvkpCW16CJxWMLWj1krofP5fY1D2Fism5oU8iBLMQpNWHtAve5EctYjJOhigICj69kbHVAbmISqnFolEQDDG3cqzFLmsCFuEOe5dn8+cQy5BSQh8VvqkIfzl7HZaaysVYi7C76NGU7STxeYOE8kmcwyGqaxeGlW53o5F522yBzbiYPs3kcCS/5zWMUUJmM8R/oN3S7icUvf9uT7PWCxFQ09kKdeVrKdw9v0aFAAAHkrY65Fx+nd0LlB8Ymr1v9xpkbHUiu/XoHr7ijGbv555xZ0cpzS66rNAlT9yV4B+hG7YZKnJJ244SMNvwPDTWGI1ghCZHM3hD472byJC17Dv5f3tPPTArvd8DOZ2UyztbCulvdncgRBhrx7hfa7BaTD/Wk2YyNAoNTovoNjGf2xLo59lM/iokuF6r2XmjyAgDorRKGngfHpHddtTp0l+DvKPn0dp1d6TLvoTe57SSeEoNBYTEiGVkvVt1OBFpMQ1fFE1NduKaXE00r862y52FVDbwmgLFIq/AyLlpJLeXKyko0RF2GpiCKqX//Yk/mdLLXpMfLsh0ydAcsNxsr7DRzLSjGZ43BcnEJAb/iT2Yq3d9fJ6tf4uYO7CJDLiwPtPtNvTzPCsm5K2mAw9jcZHB70EBJhvhDKFeacooPzH/YWrDKxOFo1KUshphZbJOb7DIP/eCCAAA0HdNnwGKvA8G/ynZzOV5M1Yxf4WWFQ/hD+y1lsnCa/VpbcNhXwmbq8cfq66vxOz4eeCHkYiv4TgSuL9Ixpa7HhKs4Axn9D+u0/zn1BYmHstcDFQGnLhKSXlIVkjNMxpsUaK/4UdB+qRoRjgQbqxIMv9nGSWcDXrpgPVS+nV/pOkAX1dg55Te82ursuRf4Tl9Ni7Fyiy9EjVg7IMI1A8qObqdBM1p5FzDlGgI9v4MBpn/qSoYDaTnBtG7a4pjVVZjC8sWdFnDyYq35wRZIHy0g+K9YoVivY9dWs+Ewj2Y1U3oihDSV4wKlOM2YqLNltg9UI9GarZo6mdNCgcROiHAQsXSGCmXY2gbT/ieL/l3jLPqQ6kmrSY+jsEXmw941IDPKlaFDa2eEUfv7xG+4OMGUmTQDPtVhCXmuZHfz7LV2UtARbWagv25Qo6UeAFxOUoDiqFh/hAUGoRQgijv+dUkb2gv9ht8IJD/B0faqJ0QIcv96C7jSfTQVEycHuBRQELf5WPbHmFinRLJPYJn4cJCJq/gXADdxhr8Y8KdEu3gzu3XEW/vek4GxFeZzX2TMsSa778F+rJ9uDbnCTByIuhI4D3Oy7p49Jnqt+i6cGCZzmP/0wS+vU7nudhlm4uSCr5S9QluDUMHLncplpEuz8Y1bK8IuQqovVxX22u4yHsdjVbs2XtOqmhsZVYj3MDPANUW5wt6mmVOWGRg+EcOvRhtu7171weIcCzeaxMGIHNVNEwvs8mzpZuZ6BK9POa14gbBPfmH55OlEBJOmd+oDLgRPmQWNGvw14rIosT1Jn4VhKRS6QNTa7GDeh9vo670qgLliUDvmg4lkzWmfryq7cjyBUtXWOFAW8gqS0EqQu0yENDtd2ecWJdpJQF7U4/0PElEYrbvchUzRkrpYGUo/4q60cX+9PhLfTM2vxTrp+lZJLZBWsah1odlwfxafz9ZlPrr8BJK8soItCt/kHAdlmF+8++3dI/juY10pbZiixx3990l246XzkOe+3FzjuJenW4AlSBDHr3Z2xrR+kdZiWiN/0rJcFBdjZHqj8qpri3x/EQSl7vF7S8nZpjlOHMM/5hV/67kDkPj32hsSl9qetJJ+MEkhLdKNkqOrrI5qU6hDUjTt+y7IoDXhcJTVHyJ8vU0N8QVfb6Ldho+Cy+L7Ti6jRgpdSBoBJ9J2pTjerNxl8R8ohdsjicKKwwfloHyE+RNYYYnhPgWfKyaK9QiN717M5/CBwwFCwoWIrBKyztkpyCauVy96fAXf9/7Uqi1sPDGC9qRDKp1DZA2YYogcrlvrputiwEdDMNwnxcWtYG1KPt/eHMVBtauR+cPN0MQFbdmmfm3KJic+X0VWfWeDRfvQ+bvk+dbXGrcfSnqvXNQgmpZyOREJ1cHCl5JXySPZ7znVAaM78/zgpz4du82Op35NyPZEh5kw6NI21NmVqCMmCGiyfd2rbv1YqX5UyWh6511IsfqoAl3zOmuizzM1ikz2aBQeTF6LZ2iL2aVhQLfvT+GEnR/brUE/BjJyqZhXCKUZgJiL6dtDBiLHd6bucuvr9TdBG1Tt2jwJxtdylmqjxrx1e6ctZR+lwCPYuEgikr409R3q1YItjx8uFjMcxHQUueAf3wcoUTdoXu80jV9MI8ssqF0Hisn2KDBnnkLgL/efKjsIlbavIIDB+ZickpQI61fssa5jFq8IvCSSX24eqETPRBQsW19CEHVm4GeF4+UK4CBTyyzm4GI3kTSnDed5kgWSUvPNM4EDF8omvJk4mytgHiLhncs4eTWdn1Vb/WqVuR6d70q6ouGijaz6AbdOqRa46ejH42nm8rrUeTWnfXXtWXWSDFalIIyA1dJti3TTGbU9nCVMn7ysT9zBs4i9COGeMDz+EPjDqP7DyMr8ylZL8f6LyT+IvhuAzkLPzMHGEn2QB8Jyee68ZfsLueBYLdjUI5nRYUfyFQ35UQzKF/Xqcsm5DL/u8bUyK9jVH8qqUnyrQpf0/h964eJU1N8GmPjpF2asmyHzEh+DJ0bn7mbmG904DjDn67/cnLuqMoUQ1lHPMsZ5kTPGeRGuybN4hoh4F3nt1MnRU7ZWKwWoIIUyZ65svmVZI+gvzoqxpD3vtR/5Us6T/xnMXgWL/2k+TxlLoVXjFUUr/J3+FM10L0Y7Re6q9Ms0e4k5K7WbQmooS7x7ppIph20I9r8TL3pO0uttdpWnGkkhYqAvtcPs3dFD/kqYjAeWuziX+lG0rQFkXr3Of4DMl4B5gxiYMfO5LZwKFhez/7PZQj0G6CxL0Vzsto+T4pc+FoH/nurorWg7lG0NzFfQ8DscJu2gXrnDc58pYfNHKBsqj5hDL8kiJqcqdkYPfmdkwvLvD0jTnBsFpFi5UzVnNfiGGod2TKe3AYM1CAVTpqfx88pUtsfWXqgUpluKQxQlDrIem7VpkNptQssNz8Fv0bUOlclw5SYRsaa9mdrmGHFTVTzpuoLkN63sa3F4O05v2K4zm5vdaoooHJxb8UZm3Z4NnA0XKyfrE5sHvImcWh/dKsetDoy5XBFGglzvAY+yJJYDD5KGSDZqtmTAqwL+Apw/XWKzjguyWubijTeEGHpL/TFU/tUbsxOkwjb2Wn9K37sHZbbqGLjohaXX94JE1+jJ36SiUJxHF61DUscr8KnOrfBs5rvwyn9HHg0P1kJYodkV1/yEVupMn5FpuQweBqz2lIV6nmswTGy06HsWna1/yCfp23rT0qUxJ/HTkfk0cJBT3FGK7a4MRkKdO5XOIfwjRbm2aQU7+K87pYi33/NUFWApwf6hYtziBIr1LcJvndRB7ODyZ8I9LskFZ3RI4ns4Jo3ZujpNRZgIbul1MWrWitsUxUYVTiLgshbUD43MNG2u8KuoSltE9hcrzJYMoWJj3TmWkKbohDGkBgZFGKczss+t5rj+opdxiv/mWlspA+vNmmKDHhJKLe8SJ136B/73YMB35jNavTTFZoqbOPG0tZvru8hkXJhrcFuz14n/B1jr+PVFFy4R8zi2Bouhx7BnClnquCAZ/DVUeyZBDMhY2FbJWftVHN5bMwN2x7Zw0Dne48tew2yB9l0hYH9E60vujzjDQ6vtdVkKApw2Gk5YpTVWqYkJkxmY6h88Vfa1OonYrNqwuHchCE8mHPD5/zMcvYwBkloxtn2i61WhqtkpQGtomjUGJ3hwuESpSqhHkq/sK0mXMEsTo5ELWUE8mA52nb4xuDoXu8odH4A6FxzYFUPmmv7YDBMSscpXdHAI4g/sYum3DS6hCP8qbMuqLLil5ZzCXfLEZtMIPWbZu9v7ZmxtPdMi599zX4fssCg4iukGp4AaHzX/PKeodsnfD3eBZbU1EL0lIeTgDJX21tH6E1o78Wu4Su2jxlEATwr+Haj1SVtNTdFNOjS8inJb4u/2I1VCpuWSWY0SfY86Mru3AdrXyMH8COgYpC3YdHOXH0ZC6Sn1ftYGYeBt7Iu1hcxQOXy8LULQJOEu6C6gj1PIxtAdNfqDHo4Bo11TSU9pJKiW0d/qf4nZjglxodAPyBlBuGRcQzv73RbxYeW9nn9gWH4jB4yUa+od87qB1GKgETHM5i7WqdiFZedQBhvAel/U2T6UENdtGCRd8IlX7xhLIrsoKvESw3Qqc7u8LWg9wOEtWSr1LAjZ+iEKn8l2rd9XvgNYbDw1sRK/SD0ElSqZe1oC0dgN2wQBmriy3LIRVHHX0077gX9OJXLX+EwRDzr4cfqo9aEzRnppX+Ucnhez9iiAFRKWbgVPn1X+wOyNzFQ2V+R3vxrOTB+6ii70sCozm3ISFm9/PRs7IUw+0EGiqhmL9nkNB2dCTvwkCeWiKNCu8Yitzap3azhLI7L1euHefVQhcZjI+jNCOjwYKvzsQ1tNlv2eulvYFP8odllRBkkJl3TAj5sROFomLz0+vhQUnLfSy9uusxtpHSJwnkZlbz8dwFV9W1BhoDa7ls7hyiSt5S5DUjnVshUSMnSCtE/TjR4XAnZfaDVXLsKv+n8cqgFWsT11tu9Qd9hdn+YMisBWwcI6PdPSHSJeEo6zLW/vL9FgLk5kY0t+yhn/sqjcbbTQswV/6f6nlJPDrMAyIuFnmMAPb2oY1koVnyYAUjuKbdsnNB/vOZoI40UiBMRSBxstiBTnECFgwkcMIE6PT7DGV7r1z2eovGy/hCvqr08s10oj67dQB4cL8rQ0ACRr02nKUTBFwXDXCgxKcZ+ox5ovyZz+JTukloHdMQJe/1ZaqlcyqaaB3JzDhRVuQN47u4uZdQEhkiuzIJhC8xEdXt/TdlEal/SVQXNJDJtU729uYxQxmr4jHIAItmab2GzfNJ3QhsxLqqv/J6/GVyXnUKlrKy0i29S5Ni/rMMzhhz0t1g86pqDCNPje9guwyzZGav+/v3yw0omHdhvSzdFlFAksjH+Er7wz/aIg8W3XSiPyGHQuSo818znK9llsy38lB2a7GJDwLp6i+MZ5xpSMMf305lrqxu8slIT687jknunDQ5VaG5V4Q/FQNdeIprhbxvpw7bxoWf9GW7v+McLxzp0QAx/hPNnXHSPJC+YGjqzPNXJYnGNOmKa6CvIWWZGbq/9iM/PIt/SM8xZcfucrreP86+5dBMz2RWaq87WiomcnkifU3NVMwQeHxBZ4IZr7CBZatrOZ3UrWnWRBmIR2r6c1WTDs5NMXaXjFTja/mrmOI1qKFMMTnxiI5SFlszmflxJCBUnnaaj8KlYUmcbTz5Bm3Tz5KSC8orgyspViOn3UVZoLezsbQECb19o1OPL8yMAtJ0Jp5ZH4Rsc+XGu/KsDPLtpH8U9oXBeUyqAGRmaJq9PKnEwS62/rDzEoWQrOL8ckdsrg8zYy2HEkiFmmr6hJVdh2AKXudC+M/JtYcqnDtCRjL9Bu2/i3nxDTEFhQu+Pi+xyE26fEula4qrJ9mQGdSAA8btBYsT5s0lG5Yz51e7Kl3C6Tek3gX2GduYB2RBCyOUs+W6RWpWOybFM3foiRxVtUGVJySlx0W5o1N8OYuuXl4iIUEO6U43teyxLBWXKB5HC12/uZxV4EM/ob6H3HVB+QXNMTwR/NBXx2Igsl/7b+E1Pz4dcArd6HGDpTxRpmAAKabq9SYiaYjfsGEqGUIgYwAur88kgQhgG7uMRy6ZVrTmadDsBctAzKuMwwwjvOuAnn6hQGBMxOpzmu/qanBIvbbQL+klX3H/LUYXnFKg0xLoFMvh1yrYHfB5KOMh1G6jVSRQnRbRO/utQS/XWHDHWZ+R7zyNf+v9mQym4EKlOaedwDSK9tJu4zqgEaF+2gw8dYJD5Fjrgq7Wf4xTG0ifKU9PQDzpXH+X/5CbKT1UZ03GvivM9hSOM3WZL8r979OoSb+Qw0f7ONc/9H8b6PZLf5Y8LDcQvuXb/uhSPS9u1MgPJd82IpqI79Nr2tMI1CBvTfS7scg9BJ9GhQJejtkcwLZHAwy2e83r8laGuiY31Zg4HfEIONkrGc6gH2gbuyJm8bvxaAZT5BlC4L7f0ahYkJIlR5TcFhWX1rwycVP3oLzH44tJYOBPvhSmf54uXWmefmKztOCvU5HJCJxgS5RPm/VqFEHwLBiWyiOAUeIjEAwczawCaESzhM+KYZSvIKDN5sbOu2pevMKrpnMDw00itpLaFFGXQwpAAqaUP/CGQts+n6km3vwu5FruE52IZbpl9gqHp3+F2cz+5T8miWdSbwQdlYS+WwMMvhkY/1HHv24RmTntrYuak1X6ShyLWk3xH1JKV+8a90YrUru4IwBvBcZMDaO5sFXv22pSoz4YwAzp8/r/86wf9XMlIpk5JGkUhQ+sAj2Z1M4muf34uD3CFFTi0hFadDI/IcfEJyJwaYO+e540Dev+RN3TzpGh1XxQ0WYoRDUHrWFu9ESDI6jUXcldaFRQn2Z3Vg6wpqE3mQR6uGX+9bJfU9AcTj3JqYtVbKsO6bKClJ8Q883X25p5e2BbmrZlzIVDSb4eRdsbcJoNNM4NT7h8tgaWkhy6PcOVQp8NWabhc2G5Wirl6sPv6tQekUHmLfIagNL924PsZ97TnsPwXnZF3Rn+kNVl4EIZPh/jGysCqQLGRA+GMzYDroUpTEt/t1sX+ZSh51EhKBV9h/WuHAu6PeX9+TFx9Mmg1WALkc+AEbRxnoqjHNh5ovAALxguiFkUPANXWQ6wX8C1U2g7BRxN2CAEAcRGFwAPEHGrGMM1yJwOcsSZs1KuJmksU/LllqugAVlYEz9+Owp5RUnmEk3I8de2NJGOwjpGDZzKb+/rqqzz/B3WxzjYhzTq+Z2QARrfNPHqYeJ4tpOsHKg7Ado4NVEVZk4MWKUbze3PGPo2z20bSWw5ytvFMDxyHDeqTb0Eh88OC2TnYmnaFfaEEvUu2ev/2nXdxFxYF61FlwWy1sYpv62Jr1AOVpWWKzZqjQ7393pwXDdIPpBGxyFWw5NY2J93NNN6uOKh5ZluY2EGss/Hv8H/PMWNhjj5mMd3jHbbjrJaLI+IKb3Lr8H0bP7Gs4gy5pSntcaVhBhvvZeOcfDuYExbxzNOqa1S9XvQj07PevkprD34l4r7RgJ+Sn63xbxXNLencU3meGe/2r83txR4h6W6qzT0g5zHjokNBUV7NKrDipBpuH2kq/58Ql/1oNtC0TcShKoHBgDteZw+PPdHfvMUi2PRGjVBWg7LPhZcHj3yfVs2mFtq8OSNj7qc2BRPWuW6y9k2seHJ0K1v1eRzHTOFbyc6npv0zK0mAI2Ihpo0CQw8jeKDddsTmXilx32AKsEZwvp+coDlJo1xVxdPfsMgZngiGQmxWbaR9BI0l2DV9MdCF1OZ+Kf3RR1ynzjfRIrx5oHVYE0k3FeCNGCtSGM8usJOsSfP5WDuVIhEJrPA42XNtDe2inqIOtjivyJd1jViLy7UnXo8kyvdNHKjho1S3TKL/2p8VZuLFFXIV8FjvKcQgrl/cqd2IuKYbVTOdMKqhbU1eAoftm+tZSLOqeZkSHaC8ewjistcthPk3hhOK+3VF7fzwHqq8RphY1dsykINwSULMdEmHhu+UY24m4kzBdTo/5JNmtzSxCAekrzVHTuxODxnqgq7OhTr8wMQZ5sqNvE4Bvc6zHRzZRMzBUBelBIBD7pVv3tVF0VeE9C5lLE3Fp+Gtg/6VIRI+79y1gtLhGIj88kvfB1l60ARyiA7Y0rTCPnAVYuMa7d1xtAw5AfltNQBiyR3eG2GJNOde+O2xtqSMNQTwaEYXdosHlGOT9GzwocwtbMtaiYm+cf97QEaLGA9haKWldewpX1Juyp8cbzb9+8w4zt1YkSBAzcEEm3TjZdFRc4MdW+hhuPM85kxbcJlBArNwZsdE7bwrj4NhdgAAS7leThw5WBiAzZxxYchaBTGK+vpgoIbJJHDX6MhmOTbIt4LbTL19bq+GxV60lvHnJow1cHqFNEZEFLFWkYu1SUsm3YXAzOqT7KDFobHbVXX1YtodWXg6jF6/Z6dA616qWJFx6ClmRx2MHaWBx15anJ6LuVo+G3dfDwGJVk7qddN9s7OiK5Z1/mkr2/agHpB8+urT7UhfEgEdQU4gp+q8uUibt51aLhTVBXikj+TufwqoAzUc556dAVSDWp9LOg81ILUDftRkcuAKR+DB23nF6Fk51Mq4l22+MgQKawDH92RsPcKhNfKiH1PpE/Vf9bCZ/VRsuMLw1KjJ4WD5Fh0LmSPx/qAh+VXfFi7GYRYammP/DiavHcMTJfNE5IyJOVwUXt9vNIpbZifIgDc0IaAry9321m99kzGUOxz1rt1j7J7iVufN9UAlLEpuJWMm5ISCLyl1sMojCB6sXd7iYMHtqgluXSMl/8dUsetmxxhFNplrzR5KvGmYhveInxUKObPfM+97tvgZngVwtoZUcg8MpLd7OhI1jxcURCXDx6wR5kmbUoYCv1JLDpjhaYOP3bbMGMGcGM2GaO8sx9zR9kN/Fpg87EZZoM3YbSNtHXQNdfG81IoKxfLZpTzzMLeiiSeAoHJo2YMVfVS6OcXETWS9CGCBh5tdNfOiSSCf6qG7AD+fllm5bFOVS6zHOV6C5WsScJlLfvrFgSuzoGwkaKJlzDTolK49e+UCeyztpnebLIiJrhIftCL/mGe3jqWxtZa0RbSStKx0NRedTksjiEDoOMAGLPSL8fRVx0Qf58QBN8//8JT4O4yNCjlKGplHHMmEFv2H6lhEVH4TdwtVcj1h995DxGyRmM64ys0mUJ1TRb7vLuEMdMGl6p2PPzu12qJ1g55/OuUPH9NKkrqs9mszJ6dGWPPxNXBnfoU717LZSoIxc+D4STqITQhER390JCGkVyZMjpmEflbvt2t6hSFmhLA8w0dYWvAXuULZmiQ2H3Lt9R2VpZpwE6gsFt2kj0k86ncxkoCxczV/kmO22lkdO57Zf253yHeDuddW0Zx46h69wj0ZU3V8aY4/KMKz3dir1fJHZQGro5Fip0S5UFny8RSEe3519Qk0LsnoYcCsy7YoZfBnmI4Xwyc5BcfadwU2DlxCDq4db9RevxlL9hLYEvIsAccOV9SCZB2yZrs/ynfZ1Kte1741Sf0bRXUlXBLIyLz1n5BikTrLeTLazS5hLlCAm5I+dFGRz9p/7f+bbrHRbBWb7gMFIoRTbCa7ymKBfjJyAxym2oJglG9fU/s3RmhwjsdA7I+e2s3jgHL2il8/0P+B+P2HQVqM6dCelAdfYqhS9Y9zhBMVYf+VYEf1WrUT1yNbGEXLVdnGHw2ywywDcYhg/5FYjD7V8j2/nwvWbvzpWFL1zdoctct5k7KSH0vNzmlymc7nmE1w3uPUQBf9a/nrJuUui7L2hBvuE+znJDgmgx1kH64lswpZVkVdLzL+K7yr6kemdu6AJO2QKsmjgMa+RnOcnAZYO5dOQuQzAJaakd/BOdefxKbUj+EZ0VlpRUo6mXRhlxe8OabIhSfl182J0tRT6F9UVmwz99agSYaaJmaK0aubbD45pcWPy3AV7Isky3l8b7qEfYqqu5yjMhzWCwCI1IdiU8+i96pru3CWeqYejz5hfZ1XIQy2FY8iDsFuq4nwQv9VLwUwmxBuGr+RILkBaqzsHXNtZcX1siuKw1LZXhnlHtIqR4XVMlYBFqjAoVegyyS4EGyIRftsFJdb8FDbfC1vm678N7pJGZrQfnv2F3ZHg+N2Oj6+dgo9vOYW+7GLOnCNm2OjqYqNuVnSq6pvPIo3Lb9shzIYOMXQlTfSbrsqJoDA2RbF5dCLuIhWqIfuHnpFbwQwHn3mpKkNawFD3dCYvFSdRIXjZpCLfP6aGm98lVaGDdNdJtuxTYNDztC6IDhvNTGr73OpiwglE32LMPuxL0WsL7SBNR4EuYFJbNtrX+PY88Oh71aT/+0TVmb//7YM44iOjUoZkOFekTWRMqmZpxzFeR3nNL90VkUiEcWToaZ15eX32bGrnblte/eqvUgGs3lBzpFX0UInEbRQCaO0qzgrNnTCgDhgfVQqblFHOatBAFb3LQ2XJuJqZ3CQy4fzOxWeUTejgBMMQQDL7p6Es+bYmt1dGs2tK8Jpn/PCMeHVVj4xzhMDtZePw4HjEVe0KR5K4yoAeOuJ0ai4ENNCAaHGFv3c/jclc8bMqLsps4m7VdqavninDMneq6snRfnvBsU0CI8flzW/Pd3GhVPokJ2BQNPweEIc06Zqu5X5KOXJ8c1BMMjCDgXLqoypBxivmtuB1yYdJAjF39IKys+rIkNrfHGYdjxM8xxVoOonVvXG14ZPRM0IP2FiXZAKV45r1Vhx3ZJL3ew6AdO35E1HWsJX3f77GQNSJnH5qQ36vzbDhzL/dbciG+NIpVEWygQ076cPJxR/Qn7QfPeor7u6CAdw95Pnn1h8BBLj0BkLwe70y+YHdsMwkzmng61+9vXqdpYtdkRZE+1Fvm5/3e9Wcw8Uo3Ic4pAIsRV+tpS3w6A5EJVXd34cnXBio2y+EDgmSV2uUbj+unkm7jOxCk7zfE8HPyG3ZbT/6Ij/b3ue6LFjlnFGxsggxjClGP2nTpNWvwZY2qCEwK6d/ZcPY5lcUhLlNPlEuhkj6KEdHseQV18DiH3hSKqjY13FLu353VI6JR6WUi6o3OajgC6ftzX/agaPbdaJUm4og502TMcWYQBL5edbYcxq56xccA0pEeh7EIjTcmzSJ2NxI01//9zJwF9AsOox3d1I7EcRbXEkVExcLn8OC/iGrGDrlZM/FOYB3mzVqMgFbX1YriQ4ap3jEk5GVkzcY5MVKQGFQwni1AJuioFpGi620wfE/TbshfIPmpMlCyAEN6lgod22DgFTY5tXXR4ge9YiW1FYfYb38A3isYJx47r6N7m3QCZVBJOX8oCdin4OugXxzvNd/xUX+gLYiZWc9V7Iveu9IIQ+3NRUkt/pqCV4pOD4MsxuHaHnSKB4WldJaoxEAubhykDTrGk2BBRoOkFfsBN/5WbY8lTPHCcrc97BP9ytxsTTOWPmJaptGy1+cAtUcYMvJGGG3Z1lXolMelVYgDVfHyBXPa6xPbjpnd9VcFLbx8PkhADBad51FpUvpS3cjzF2R1cHuptvGOk/ndTjU9OaQ37X37P2A2ia30MuZPSf6CrCVDB+UHpskCtZG0Ks0AvgJaZcC3sXNnXULZ7QDDqkFicOrFxu1zeXk9vWiFjIPuGWZ7mQs/bspAITcqFJ9zNn50twqL+Q7j9gv61bg51RafoFkt7UTFSXOoTtZ6npHTOZC58kCuF94RUkmRBgjN9WLz9BwL+UsGjnx0w5aqf9S9g95nrzDHGgGcndddjf1cYjMM5E4A+fil/mZ+10y9/ZiF9OjJr0vVUvlbLBOJt38J/kT29MPwfOJ71YiaRxOTX9VblyMv50ec3sr4nYz5fc0Z+1hPDLXbE56yAF0KWpOayi1hd5g5uNzYrLF09zo8qTqaU6ZQdaxRS35jnQvdznafTip8erWuoAwShTgR1KFTW8y0HlPgokD/s3eiX3yeCEriq9hA0w+dJSskM1FoDrBGg+zMrFxlHK5msd/L5mpIEvrLR2N9dlCmyiFhPVDpqgSGPTCwMSk1PDXr6uJDvdu1EDjT3h+XM1kFEGOqNecWhH+aEuoreNCUF2trYN+wjUV+7vpY4BY5GjUhGMDirwws+Zc6qdMD6n0+WyAioLI2YsEIviFBOBxmOBCGH3m5toYwKrf5lHaTpXWJWOH6d5Q1FPhZHOYuXAU2ltQKjL4Xz3K/7AavOa/UKj8Kv/9gES2SR9PIKvcXbv8No+1pGXtyYYqThyp8VAF8iOHaCK7vOuQTTg+0dW7kOCR4m+QL4POXr7+RDjOsq9hn0fa7PzaqJJ4GIct3eAdifBPgruGc+emK7kpTywrzvwOu7NiV2tF3O3e0AO+rzeTmcpE5aF6eA8rX51VWqceYJ/ZjCrIsFwumJHIasEgbZ1AAR5BVDa9sWEy9sL7hXqoifrMJyXeTiZUPX+0CfBMiX9uui+Oyq0p8uubIVG2Ba7bFFEndISdC7vqdIkNG0U/FJoQ7oPuclL+CbqVbw+47eeEwp36YnY3YZuWGsQuQyKGSrFTheu16X3kXJJE1V5rjNVxY2P6eSKEIMmeZ4IasHdu6rBFp60CYkEdzMaYdcTWDmPLRy2vnWehzyymTAehBDg3nYCPIHmd9fKksPv8nJfL0b2yPvwqSIwIQSVmrBvhKoqwWCn+L0hrpTbF5lgc22SWFV6OcXR/stFcPcl11y/9xKCwm1nnYzj+AqeBNBVlQyaRUV2fhPX7CxkcoB7B0I4r2h9AjPfywJcrt7Yl96K7NQUkN5L8dq4Dc5Vr+XSgAq8SWGaf1VyyPX72kKYRVzWWj3nDrxegEPsUTmhUvfwmC0Y3b0xvf/kpDxpLPd3IeR9JekRwjCmtOYkfSDoL83AFwoBEUfYtYbzSejSSZQyzqv40hTCt3eq5QGf3Ip6qlNzTmemEyGvAZnaXmg7gExQVclQhK+OTzH1xV/ZHE84sf2eJNzxTW3yIisIAbdLTc2Ou6Dq99yuq782WaCTBgYio8C6l1VsHRi99coqCj6+Gu7EOKVhj7UWwifbSfmB5+n5lxy39AMwm+qk8S/59lOh4KIZyCaSen+WxhoRvNuaa4XRVA48IID6DnN1SPSih8Z6aYUS+ScYjRSBixuyTWW5EuEAmgNp+2g7GBHdhNd1nPxoyrQts/Q3y+1DXuaTAbOO1xbJnYWMQMMhfDhOzM53QwZfGez4cZ0y/YfWZi76zSHnMgtmq1ViohlKQI5Epx8xnEw4ivvwMTpRU2EdLcKKVMh2bWnfnKw89ZwpA/VtLAy4MlBEsjYmQCc3Z78Gc126uX92hdZ1QgOVu/qLhJIWlerFR3qnMllkhckgcI5fXa+vVtbUDUhBQYYs+hMbbnUzEzWb0ej99W4tgeQvT0vaC+ZCXGLqCZrATYdddgUe08bbjLHObwQHyY7yt0eIYOlMhYcqYfWADLuOCCMSgOUR48Kr4aEEyMYNN7Z2xkVHfo3Vtqk1K5EI/IFwRQv2u2W8tL8HbWvKqGuIIcelkpTfMbDbzdA7Jmrpad9UuXFfZO5CS3SXmRwlds+ceeDJqVAvpUdbeLjjhkoFaVfMJn62AKqEDx8u9H/aHHPKEwlAVNadSl/3dFGxdyLvhQJEDPYIRfm6nedVjWCaFJcMNwZ9hC2/2yRYfb+S2gfTVKVCDmubTmwGtXLKhSjA/pfzleoc+RUsbqaXsJbSmMo7zQtcr2MKMBofHSbVwrDZtY8ytjCMq2xYPZkp0+N4bkrRiQ6GJmFzv/aZBAX4t4Lx9T6FNDpnhEyiC6hhs/fsM6EJoegvSZZRC1azm9phRPqLg3ZHeCg7/hTcl1SZkpFJLvOnSKRPp3S8pdALuxwoovj7XO7WkkrJc3H0o0UjXbntHBAc/Xu0AsVloNux3//bzrj0Jv59mSTqNWyEQuRMPExwn3Qtl/Nb4QSrpPlh5v06r3frNYF1Q9mfGiHKaGAhCmyGfO3Y2ehMKVG1WSpjHxWWX2qWQrf2YasGytTiEjCYkmwAu67BnWWN2Gb5CLEWQNQE4DNBdUoiKKajPRricspufHO24Zlzbf/T/fCI3CAGTNy9C1WDz872TAEGOS0xNpLx4LEQBSdKPbtFeyHpB1wqIqrEzsiZDIZalB+64QYxzUZP3Pt7KJUM6xOZKXneYfzeXVFQ1udCIkoUSX+YtKmqNtsME3s17JW8/KqvkCaXs8gyt93ZLfnm8JHMLTJDRUoWM9rfTcTMhXGbvX0tWxnqAl8edbLbQvF3U9Y9/SF8pGPX78o/wd75VvLAwWcdDhgPEFylLogbwgvSEiiIYPlRwEhILcD7g3KoleKsTah+gC2aTdtqgNZP1Poxw6NwcX1q5vcYb7h2HFOcTA43Wzmf1HorQbup8xv7CaIC71liUggQLluZDVrp2F3Z8eToLoAE4DG7GAzjSJypDj/UoqlhZGOKbjO1Kn/4fIw76dTyWVcSE6rwlafRudk2vZVFvv/W7Ic1djtDufnKh1t/eFkFcvd3z2v2nADoaGeW3lOBJxr7aLzt+8J1swV8/cQuc8DpAAi1yNMV1jQkP1W7NemE95cuiZlohOJP5QSK4szttdVOfuYn2ZzBaudcPlKokujJR7cGT/FV+5Rk5Az9J7t6BhrSIR9vGt6ULVUowRmA7RK/RDWpVcGzpIG8xYwM3Z6Snv6Jx/ziz2a348F8TsV7nx/Ds11vNJMoBmkdtb0wxGubsAKNO445XOYH3h+tMyUvgmfjs52z+UfwirKC+aY+yJxQyJG6IYqLnKSGNwpQxz0AoTK/ZsAbEjTPBU31S53SUQfDD9MeRVkSLrRjq1aE+VqvJqv/aw32g7YP7AjF2oxNn+GuA3lKB/u4qPJuSpC/NzPfFc6PF+38DVMLbkrp5NlHKazek8ZDpsnA3J6MgkGrxxzthH/Bf0Fk4Rn+eSIIT6ar99KCJY+zlOeRtUnitwv75FwwUStCBmctY6xyEN48DTOMGRVcZhidLgGgXH5qEpg6c0QSAExXfTxQOZ7ryzkDdtj8qLFJtIHMJw24NwObQRMIS77mpIxDUzHQMaeSHAGtnwe1mjr73ogVmxAxS+OoNgikE6rMjBQSXQm+X2M246ufCwVpe8gm2hPYlUImwxYmUws57vGSIVeAuehX+H2qSPKzOqEWzfqiSO08rG8iW0bR705aSPAW9OIteIJjQ3wrwFsdTrTrqZY3tnM/utgyyN0lWiojMmPDWrdHNA4wU5N/dgU02MzJHWLHy4x8E6u+1uJPC2lS2Z3UObvh/P6IHed4ldGeT+JUJIMG98AubwqxR0luwvUWa0dQWJNKUzy7FC8UvubL6I+TrdMzD7L8RUhN3aIhATGD+2SRCQgoi1ridLcenD5T7oGcEavr0767Rf4H867BcAIPej/EHTrQqK5ZCr6xCmNj6yoA1cHEBuRi/SZHrp8UYinH3EV+kp2qaJSkFZM+XJTpdeUElNw0Hw/jj5Wf/aSUkJ+tD4mwDWNMlmfq1j8JOWeOHCSSdOZrjFkgLYSvE8wb3c7uCXpZ2WcxyHDsjSBt5TUp5uQUl0Jvl9jQRICxY1zDFKrt7xWKf/nkUp+ltMnuh+E/6DGPdJrr0jqqrpzvP9VGmJojQNb1M4n9siPpXLK9nui7aljHSzUTkCkHbZU184KKb3B/yzRiDs7x+Fq2xpiMEnAHjKV74LmacJ1gnDPJpisDTHxextEwLsG2zmBR5bIOgl2dZ44XkXR3jYR78EEgPZgqCV93dEpjuDyIHLNAHqOVRHaz8K4W3kZ6rA6/+Q12u2UXXVNGO7C3jPXz+7iTe3VBRtcTFoEOrAshDg36PUP9OCHqzKjBag5SAmGd9ZHXwBXDrPsSSJytv/jmYykHg8Aja0CyBdrPoKaW+u+5xvBTyzYauM5sf1s2xTuJ32i5ysDEW0ZYNndf8JW9qdBJp1SGehkyYNxi8LwCTuExFxme0Rt4E5+sh+BwTprSZFP46yZ6AETfsHf52P+QCSIS0dFukKjNdRIexSocwuJ/AyxV9eW1BPIUPUOZMivLFd4dJHkA3G+0FcwQdgWjq5CNaSFN51DT2Ct3leht+/6ahN+ZnpegP593rvE1tTniTSiLbLZVICVFqz0YRHoudEcorg53M04SP9X4UncHLrljhNheoREZeUhLLdp0bhq9hYqsjjfJY2RtBPTfGzfxuuhTDEQS+govHXJpa5Jq5cnbuN16lVv7IJya8ZM38kYgPVCMsvOI2sBOYHd9xWbLETITCX25RXwvb7vPbIrMPwPlF1tPJmJ9HOuSFFrc1VRHFDhmxe7domHDq2cuH7p368lv9vBGOUlVDcgjMjNCEqlRunvxyBr7Bm4aLItwEgbKPmNOGYtU7CHdOAuKNBC+KTKsfbqTrg1X2xMd7c9/vlCYFyfo//IVlwB1uWR52z3NGsxDtwb3zoCSZeq1YLYsMmeD1EMwTAbi5ddLI0dap1C5JTFvf3S1a0wtWbH+aEJ4BKRNi3b3QMI+74yny3qUZZvIfkFsfaY2FCefV3atmeTnjuZm4qWsTZJ5i06bKgbonOEme3Qlm0GauuOrVPDWMmDEkASqCjKhT5OMqvAp5tMiCdRVk6GKrPBbPEqgDGHQ/BVSbN6IubsPKaYLjbA8HsWkVP62wp6uFTjVCSJ5HkdfxGGtBeaaLRqVP/K6cu37JHs5SlwgxakpBR/Vinaa4L1PZCXJ9N+gU18Nja6sBQ9qZeUBufQxIP+IDVHEJffAkM3nLJfPXRf+Cz46q+XS2kLfHAhlfFQ2hMy1BlQDKByuchiLFEcdKfryV7tedDFPFoDYPm5y7/L1dT+z4XKBYlsoJZGDVZ7z30fG2oF/PxFYqtLdIW3YIdo7CedYqRUeYctphXIA1vPjfmxHiPTTlV7x5/X7tsPamA0KyPirUiFw1aMYYDkgY/JTsMzxBhoiahUJgkzp+UPmu3dXd/2FY+p9YZtAwGnXcjEz6UC5PTkk2kW1Ex7INXKaByEgw92TtZO1d3XrmVf4lHCpI4EzmutmN7Ij7KiDoej6b9vsKjJ/DlGpoDLvXpw/EQsQKQoVOWQFaoqyDJeRzozuWD1hgVKFce8f7KLQmk8IVUJTa0LzHI7EdQ+bfcxvpPyT8AEAvjC48TGCW44KVw+ZvQPWmpMMM6WzwRO7vWFy6gOoOCIXFvcuebUKnaTr90dFeogukuimIiEFFAWve6j3K+8xEnOxTnpuhUlVZ8CjWj1prYfBmURrx8gZvM+eWzdWLZPonEaZO11dCkssbUs5S4/HrlA9zzEbGyrCz5foqpi3PZUsNMPrAozqn1DjikPSDwIR8uuMsXFuxrLPnJpmzNit1nQslNFEvbVmLEg4EUCtZELMFf6adtFRnzewfllWJHgSUWCd+z2zomitMX7CNUF72EckygQ8Ua9WPrtO6nLtviXBq/QtheBRNV8XuQV/lkoixH5KyQ35Fv2amHTXASiM17GMU+S8/uoyifYQzcgRxk1AkPmbvIKC8BwHsG7ITLj9prJiKORzI1lPbJaEdCpQ9kMjtRD6AlAgnzOUdzdHT2n0Xiq3lt+sgAhmPKJ2N7TfoW2WXztF6N0v69htZWjVV+3Y2Kq0mOQ8Jq5pdUukHzjmVt0/yojciiNsI7UuR5KGGgyTU2GqqOccOIicJmZAcchOkwufWrVcrif9yfLY1HHAtepqFauYmXp04ERYrJUY5TU6EUosKidrb/rDjDZJmZrSxLPgFRro5zu+2ejl+7rppKfkHsv++eJn0YGhllKl059stjH85B9JFjpavaQo0CoOZrmB6BKDqJJIma6Hzyhi3Ws65x2UlmdXtn+tgQ29nt1wSlPhnbmavFrq35XNlUOel5RB6VEZD1HBsC5GV3OPIaoKXNHEp49+U8liVSX3cnyNa0Hbqfwm8h8k7uPei2i/hSQNDG3ccqWvdIqUx44cYdpZx16pt8V7wsfd7++4n5tdmVGegmJ4Vk7ZlnMKngfu3c5ICH/2tJDT9fFxrqu8i/t2QYKv9OgJpG19p1SXSmK6Mp2WKdgQtkLLmVXNEDueZ2jr1iWJJ2Aa+VfslIYE6KyuzuojFioJhUDg6pcE7ZLiSdjdDjmLC0veIHBBJrO3obR1USj8LEiFaZF9wRQAXqa4uYFfnl+QY9Bh9kxWzLxGYdHa1H3eadm0ELoapMugVcUHdkk6mztbCwqk8Taj+kO4cH+J/BNz6ScJpxJPGWBVnd8AAQSMrY7nKdNviyJG6yL/VbjF2d3WIVRPtCJ/vefkhMYA8nPdahHXZMAk7VFFwUG3bohfF/LNOlLODJA1ktMpYry/h6Qx+6VkIcktWI7NxuFOh+zBUhvtI1PaaJPP1Db7DOfSkMUhk1m8w9dMHSgxC6w20mVjcksZM4RbZLFAAYFJYkJBYzhGg2oCaGV43qMnweD7e8rRdb5VGU47zUhvrtCcHlW69R6ZHUQD1NJg2wEqruIsPesNe7GtCOaJdd+mhQAjBts6oJBXFOF4eRhnLGUMPy2r2FrRFBTdnN4l9NCVY1jTr/7AsEaPLNsyyIZf1Gt2ZlIYAIcNr37gHN6Fo3FwhNRLu6ERnZMAdeUw+W1wUKG9b9BdF5H4A0ae/iTTTSE0rOkAU/UjHDELCZpG5bVPf4TkYXcEIGTY8pohHNfsVxRi2lG/wVxA4iBCb60JS3t0myHeTXxs/bCeKVS3pFcruy27v7OWXWYLSwgwkxS4jz9OBm+C1K1XHhyqpggWTZKZSweTihu+d5KUNZ4b+GsucKlVUX5KKOLRB7A6mKN+7b8t7d+xYU+ZeJMhWl1z4Y/kzmRsUGSAyJ/RtFxEaJLIPdqFgOsS7V+9nV+cEcDsWeTNk2dyVVyGwq11kiyinhp5s1NKMPSVSDmAXAMrFodUhiGnCelQtzi/ZYa2JNTmhFjAWR++GkNrL6fnC2skga/vCQOpmpFGpT7AEgBzbfOfbSH8kpHR6HOKlYu6fCiU80ji+E8Nu8fQRGq/GEMss1HW7vPJchTXN6pHPVotVAFlTbU7A7tS39GANhz0WPHXhcynAXJU7qOJPxlGKz8AAC7FI6CJAy6iQngGbm7r93vbkKrEP1Trjv9YhjmFglH7T99ynZf8qsGgesRE6piE9aEtCaqxW7QPVvtj7YRKJ1SlZs9//TfVWiCNFkxYtzaFFGof+WjtWMn5UWFNTSd9TSnMjlNP16MFVcBPkO5j7C7XlmiZMsK/gKvGZPp/i4ifUnxxS7JQv9HsDNHbCVt3mKxP6zBYqj6zRPvljVaGTr8qaCA1TFl9PWfrXzcH/hc7E3BOYxTBZ7kw7D3otywTzof36sqfRsZsZG8TdWX7rdes07B5fYi+SPmyTNVq0q8prT0SkN3sIypo/i8lEvEOVX+fR8xNbLdPNjERZcHxK1sAh3HZnbLRmfDm8QrSMUGy0CUOTRKVVNjgKJyz6nUC4z7eQ7nqXK+zK28lRQ9+E4412L/0pPrfvhKQzVyThzHLb8TGaNOtX5bMMC0mdfwpu8/KnsEyAogEmkv2b77FuPEtPvbMtetpSNHvCSeJjdURKxVgB4TDqrtnmhCUaOK2TwV2ApM37uCA/c06DTqg0wT+/Czd6zPKWgQbJAMiSijwFCDIOEx7He5H3o+4fyEwIA6rTxk+MQ4B4QKhmtn+/b5A3lXb6Mnz55lGdVZl+SUeIvt58wGYofiqmim/eJFpaQeWkiLnjMuRPsTyFPF4evbCnCf0wOwuF1ZdiruYWguIkT44tu8pmU5tQ4jsT0KddJOx7Kds8vRwOhIXSVP6odJ7kM3pWlAnMaltRLTt2R82C+PH9LSIWzgZ0My5qRVehhxX/CXsXMusqxZsL/mUNfPWJ5qNpQvwH6iwqtBbi39dYkMkkQ5Ad/RVfjr2mMbrA2nF2OPVpgVj3IuMUoGxr1TFK/fRiVm6hV4/ojWpFZiTL8gA27DA16sel3lrDqu8QVJjCXh/mSna1r9PuAQqwBLfaxzooSiuBrej72sZ1+0JiXRHdyaj/U4+EpiOGvyGfwSKkzKWDHGFFfvN2UVKARuATD/P6KB0xiu1kB2pFwZJkPROnTFHp3q/Cuza/xV0lYoCIBCkUR2n7YZ5m6cv0ykavhpVeAxlU/gCfIQY+K1IJY1VkcSPREvCI4Ye2gvuEppr503MvTQApw6N4ss2VTquyDTm/+G9wvxuWAqveSnXIg+7sE/FBZ2vaSV+mAu3Gp4sCd5TqrO1wtBY5Iy4M51S0T9rK2Lpgz5SQWbzMRSrqjX+itUvEfRXKqPqBHg06IJhojXuvGdIo/utWK7vAZtsF/txoq5QUEFZu8yZdhH2g3bLXiORnqyb5dqSbnYHe43si0HAHpiy5Ofn6ufRH423Yrh/5LgpKfFJ7IzO2vOuCeASsK+p/3New9WgKFgXeriTK2mf7BCQNp63j8fuLUAH7WsBxudrOEcfkSYnYb2MimA0OKtlP3/e/ZNP7cq3IIhm8VAnCv1U+FiK7M6nrM6ICIjJs87j2lzWG5zkgMB1l1bVKl+S90+JrIZwKjUh8YzoNoK7oBisnmIAdF/OXGMwC55HMOY8I30XSO+f8i8ASS+WuOmF74HsSI5xQ9L0afy18wR3WoyCByDlPnCrKI+T8QpKCWssfb+jm+dwp/7m3FB0oxlJs19VhvmyGXNSK4suw01gy6qdUmbsazOL3Tc8y0r6AX4uFw/tq/zgIbGpUrT8AzXsJhsJY+Co8q0N59mrT1OTx/ZHvQZ2K23n8HsChRtx4e+xiKNXFaDizexYgda/H9EtCgcZixiEqUNAIyS3VFocSDhsRca3JTMWsRqjzp2vf9hTQ8zLTxQdd9fz1DlifXrIfGgXuHvEvRh1H0JekMzjuwg4PuuQ5/lnKniPIxPP3QVx4D6laPVLhVUus5e3BZGltxG/AoHStcEiTWjJJ5FQGM0WysnqeH5D4IL7MV4JwFVaD38O2IB5Yn0ag/GHg0pW/HY6Sc+pELsq5pVjSZpkwcTPaYEAh+guz4ctwnKAmqeBjnKwGp7juBVbKMM7ZnRnacMh7LkWNkirw3/4pOqQLfoVFn24AcHnp4MqJfqqiHGV79s4Lu4f8RPq9jtpHMMetNVpYK8qiEC+/ewfLQaIgPyRj/RnnS5pC4qv/iX3bALw26ys1QYiPDcMtDo8PhTVNz126hZ3XsLb3J8yIr2WpVQJsS1OjUHzmnQwWNDZlTpyiS2VeqI4pvZeNLGBC/jE7Gps9AM2bhLhvKb7po5uDprhMo/+39V911C/ejKCratKBXkFrYjQbPFT7AfMel82mhhOmzGkzm33+6Qq+JYqLF3otOEctzTZ8d5N6aXCz/mG/jayZvkPmWTv/UDpVZj+kS8Blq5wEZcqlokCbjFXGTWcml1mqWv/PQwxU01ssaDHLb/CUL8ToBsTeDhEU0sidTpV/s364CCS4HBfL3tjFUCZBNjxBpDeEi94DlsSGNNXVfI1r/uVXo4p2KN2FEVWVsBfKE6/EECB6pIRySC7ofyhAjG6lvXyhOpQoPs+OYRpyEOEtBesUP4mgripn77ZP64iOTVj01Mpam2+VDrA0s9E4wgHDPRbsbNy9gnNdfGlRlx4HQRGRjWXc5a9DiGpnyiSB+EIwQJ+enspa7RWFydlLyr34EvA1L0msjyEgajRu0wWSQNFVRBzhp3y7QbXINoycZYninQBa5KaJxzVe39dyV3298QflPizJHPaR9ZDIRELJaqfD4y97gpec9FRp2psBbBmXXcw2PMOXK2xN2+pUNtx0UBc9OEypmQzvvvgfalDw2uua8cWkxnASZlp0PPkNfgzsLCtNfS2Lr8X1Jxsi2+DI3hnh3ethavkVlEUBAhRClEedfd+w2fbrFV3urdkw7IULx9jYKM6ae7K4zGnY9KM7uk10s5vIhjWmKksphMp2UVCiATJXIOySHY4yMLhoOjtOn+N+TcMVj8hxfEEYOULsVY4yslTUa+DGeb31sK0T8R8PnujG5c5AOiFCVE79Hs8fJoxxCcldbU7EkzjAwRCk3FLZ8jjc1NF1WkraqZZYvHzTCNf37Ugm2TgXjPbVuIlAD+7iGEuEOTWOIoydPwBybCdiRSCIMYAvmxGK+dRmflFlv+bphTi3hsLeMwwaG9gUVXAlfPiXdEU5Nbk2SqCTD1iI3vhrM/lhOtwYJ9ISWOLdfYwEwfxGrngtX5nz2T9MmFact8lwOtXUx8XtS3J54KN9rMnJlnIGT1y9jCTJHUvDpbXJ9KQM65j4ehKe9kc3KsJARVBUt8n39riFb+Gst/ar9cv1ohG/fWJ+jTMxc4vtQ862FzNG2BHMfLLe+UkERtCMNEdULLHIkGawo58fXGLcN2u3jitHqrlwzorl3+/ZvH5QkjQCfEeeEvEPgpzD4OiRpxRzF1bAjefcGe6JScs7BZ1VB26wVr8tPtLQwVsfJqirVZZEPFK4EQ7onSse3xkbbp5l5fKT7LqGvJURC+NcF2UuKT5gxEsXe4AgnuyHrHVLweUkqaMJzYg7v52yz7Ok1gE8mk+yaAsArxx/oEkJE27MLOGWIP7M0zP2As+qKJ06BlveLbVdR9eIq5c+Zyuo9KWOL+53/90uodhEpbwMh8AOk5RHyKTBrUMNQoUoZRQOCVuY4PazXvp4rJy50+OoklI2/1t2xi+cb809FP2P2DU/ciyoM0kQG4TxTw9iNj3lkLeCucmxJZqs0G1loPu59GV41H40b6em+hJUpVn2If7ZHNzQPBUwKrOC6YAPJxltZr3swLbM65aPOgkuOsDHcd0FnJ7GPqs8SyygJnfXz05OgHl/P9TgwwVUhAfv9t8Ui3eEsBNuzr7SNLSQbzrFPrEqUsqheBloThbblpYcjDkur1SVMJ2X28JjEXuyyD9/XvQXOxcSbpXWgY4o5ikFaUUfngXze5+IU0DYONoy5hYqgy/nXMaSfg0PhAh0uyL32BEL6tofmlFSCs1wLWFKemZJWSO39FwhfjpxzrMUJsDd5uHOEGmdsCGiSIh4hx+Rh7Dok8Azr3Sz3xGIYbrI8BRXiBWyLBRRKiPcyBgtvaGMB9fLxFmyHfLcyy9bBjWkL07wS7hE5O++tQERS9W0OEkZjCbbNX1niE3U63ftkXEUPM1BMClqEtbTozz2EpTjos5av602W1c5jFGD/2kLecX7wu7YQas7KaZxZHrI9pZvh8bFU/ypEn/t7trRvu3eJgDoP2ZGnmxGKGsOX9rX80suX2t4Hxzx9brvi0EQF55EAXr4QGkaDFt46CbvhvMf1rQkDUukQRmgjbidmwdYiLUHBcoNZ1bXS3Axl7o/2kFgWme+eNVI69zGAwk4SMR2gVXuKgln10iBeZZYg3yTCbkkGEo/eGz79MQFTVfHlGi3UOBGXlWtuve81jQbDJE1huHxg874I/fKwpIpuB8DuyfL9TXkx99qbmzvPqEhcPMuNAiLXN3QXbpxFp6yUcfVATTBNF2GOZ5Ther+U0tlv+/EpCPvAEkmOnY1jQQ/XMOVGY07/VDsEZFF6+noXnCLZqdMOM3E2HTFaKGmz1HVZfaDv4bqB4mR3G5Ku1iwdohLgMJ5FGiP5W4i69KCPjn23UezV3CiDCPCrwva/AC/ZRNi+V2DPHVUGnYcibQanlkgAeow+PLBBV1EvGw3W/tu+dY9DCJFmKMqDTqKVzfC/KcHYgx8SXsXLn2e8AdX91flJ/nTJ2Pq/oRLMBdUG3zUgaLIm+eUA6bwpQZZMxPGQiQopznS4Jv0anmcjdpO0h+9RupLfXXlEehDG86FO157Bld5kflgmCVbXX7DyFKOzl0PFYO9iFtb3sTPWtKNJbeJveJRgkpvpZQSaBr8MywsK83TFIEJnDIUbItVjp/AC6vYp+t22oSV1qN0s+kUho2Pys/hWwjIuYKfQv+1Vec/1nL7bwto9pREVCh3xxLjkqsMBFXst4EETV2x0r1bjHytDOs0I/DtTdb/YynoFddbbDfkJsDlc7PERQ4MdXTpFtcyFE5YIb4gB5gmS+sDyOTZ6O95CG+VO1jI9WCPWABDedTwdos165fvOWhNXeXnTfGdGwRnNiHWaDRQZUYWD1AXMv3i/k4DsxSA8dXJHoZfX/SFMzagtlHTm26KXnuGyvhqGPbNBRylZXTFuIBunK7d/YPbSTA7+SZG7bvk8z2MmSj7Nn48SgJjg3dMqGxAAAAAAAAOUFAS6g0NWaF8Peip33+fdbKmy3Lf/ZEo5IXexq82+qop9Ohq0F73oJFbyTwHc5cU2DT9A2BQ62dE/0qjFtVcdieeDX69StYpczlMXAJ4H8OXWIeLfYo6fHedjdWjVx+2qra+fDF7Zbb5IAktyWNh8bTGVhnj1yC2dE9uEcUcBmQD8yqhQ/TxkDXyjQvzlVDMhki8ez9TwoYQ4iIIHPYPP7c+z3JJ0KsiNk8Itz/iJXrrX5CVSJjsnYbKGulibs02V3rxLzhtTtvVwHZb3l4CM4P/07Ef2ZXqLpk+hfS1NXZHs3nOmgs+yZpRRG1Q98VIwEKmAREhNsniD4VNqns3SxBtxnb3HIcVriEvWKQqXHATO+8+YXBHvkF0YkwcG9XuB9YCpAbcLlo8+n2NVjwWUANPqPKWERTOkhKhWoP2RJvC34DelPJPknYYJhp2ILQIyOU4RS2AmxiFA0WIHO9qv+rP3SuGvVjyEN9wcjbXBe8JGnXO1X5dTpTiyeDlm6x8wqShiP8EofI1gGQ1vQTGBRiwgWjYSyPQNnxOvERkNPFDcghtqJo9a3qfKwdK8v/2+EXgjSj34teXdo9+sKXaN2moPHLWOc/ChOZJvPEwSajj/HikxZ4Xw2tMLrlGgkp+nAjlJY1HCiZjjHGE8ReMfUEpz/4bG3BGzSa1h5xYM3KuC5yL0I1DfUIPec88gW0g+DbgHpHLqIsvDYRb86s30PUv5THiLocpAeG7XJqTPR4I8Ymuh5Q0UpekZBOEbQLioFHiM1wzdpFbA3K3455OgvmrkJqWRJJcA5+kiKSbjLx7LILfnpchJE6/N5gVJ0rSZ4qwsKCrk9XODtI5wTfyQYK0j+uAdAs1YA4fGQIPOb0sBgUR2c9NBSGBDJshbpyF276Y4AlEOIyCAqC/3wycMUIDr2l+61I93wYsOZ6cia8xUyAHP/Zaa7S2qox6ogHdYrkrAdZU7Lwsb8YiYubVhKyf6kgVc+/EmhAvXl6YEiwFUTabeXYWxLwGMK7jfAERoOLGgfSNuUvygczw/JxEMJeFpnVL4AAAAAAT57I8Z6ElcKS6mI8MePMHA8y29769Y04LFRwQuyj00rp2Y7/oTnw60HzyAE7OoGuulfOo0FwZxDbJFQyzFr1iXS/R3Q1EMd6DO5ylZ5fH4uzPFL2nmRbsQEY4BGn5CM9/bZX4nsNBlS7jKbKo8Z2qwo0HvWbPuaJ8TmEJdNzDdPWsZh4oVhv2cgUF7CW4nSCmQ0lHqr4w0A/LHwuMSaYkR4tXxl/HO1F7KqYR6UbgJoprpAu/yq9EX09uJPgBUj/wEP+Pfg+w4orObjn4JeS3zr8vhYI+qviwnWPayj/lt29Me0qtbF5PKAzlcwGnmojWMCYi6to+owdz6l7ZIRvLQCEzYGtPird9La0I1ij7QqryLEl/f7sOU9zEylcq9I8u25fl6dq9r4CwlJIjRSrKe6S/tHybygq3vIuveH2y9/3pQV//rY1rKXRvwa1sY498IcoYkE43t6X95kM/3bj5d4TZECaXr2LM/3A1keu70c2fz2AKipE+ZWlOVyWcXWuCeJUrornZeX4z7v+FhzS8xBsN73cebOpwuK+Fz5+gNIIvBOSrovHjegj79fUa5guFORBQl+8mO3x+RA3usLTl9HuAzvtF4sY8MvKMIHjXqhX2+y4853e7Vp00raeMzGtiFdR9l9fsqcsk0rPikia06/vRb+X/pYh/UZO0598IbgXuizuPQFdjeTxVqyC96Lsh9gUGrr8pIuPk2Nwul0TnojxIkqjBHg4bG0GPXbyioypUErTi9LRd8shm1hERLx2uZYGGoflvx7nvVHS0ZmubFDJW0lV2m1FZHPXI08c0JU1iryCAZcdL4PXrVPYi2P93hjOPMQp7eNcXVTQo+esnzRKhvrQw1QGNF/ou+ItQureDYoZbMg5I5n8rIT+qAiyqUD80+BNCuuvdJyY/KrE4wBGVTCSwQSRkqd4bgaCXsJ3kUQbOS6oW3/ZyduDtT7U5zusjDUEdA12qorg/qJg4+pthWacjZwr41daNUTTeTCl2nmnr1bPxTt3jTxs6+J7MFBLsAu7TUIe59MpyohVB941dtUeJFlIEZKEO2mDWh+gQf4GWsWtYX9pT6ZJKUVvRIvnH8TIf1nQ6SME3m5B0ix5xodBYORdQ+ix0MOU6H6rWU06RdyM9ytaSc3cBTMbBDu9KxclLM1xMu2Oh+lfS2OQABjSSaE8L7vNPjOQ5Idj39t9px2NxdRjzUB5fOLncrq947rLa+MIRrrHICA3XgMpxc0ZX8BdW+TfrlH1qLfqYLH4xzx+Oq0wkSIigQZMfEt2qaJbSlAJcwEVYHs5VAjS2M0105un/N91VmNlvQckm62tVvTODQE+WAwLAgVRik6J8VNeZwyZ8VxVChJzXm/NQ2KYFx/6QivymG2D2MN47UBFbYGRqOJ0VmjJQNepPav1cgR3mFtV+MzIV9ZSLjKyf03jEcqD4UIlMCj2WAyiXH5kylonFrHo7440aF7Jjlg8AtTKR/COz4Y/MXFK4BYOktmadxESy41m0t5uqm/yhoOGMuQEQ8qGFlf3IlKaYclRK9haytkKFRRVR2AkgYX0gxKUuqh+ZgJ7pDQQ2slYPMmunYeGmkceXUNGxTc6bNr+DDD0lwxRsKgnLH3P6B1IdpI3o3F2k1nnP7cfXXX4YQVfX5uPthKjOB6bpQ3IrzTye/Wwxfw0xt7FICskFInU+MTRp+fIg5uq2RFEb0A83Tu0oMWNYppX1Xam73fOW0Ei72Rp/Ksa4KmGRjMD91S85VOR9olwTwyAgVqmIRTvQrAEac8Oft8ceKUlqchuP1dQcEjh+WzLlspyEJxdVev5KND2WPbL6m6jKDAgpQQTpVIQ2/NN9qmeanHB9i/I0p0Azlu7WGOgAuUnJ11dEV0mGpiUp9cWAe/xEiJeCIWqgZuYQEQsXni0FrkJqFW8YRCVVIbSooa/wf0bIcIbngBTfzezNBEz4EKz7pYc2gQeBAGoaPODXa+N1fO+K6Y8Xxfb0zAs/QhwfU2F7DUjC2AAGRUNg6uDrTP+7BNogAALCnVwr3kgpHJl0OL7Zn25ljmBNTulLDR34QTaHh/nWE2VvACKLOSL7wPTfUY05BhRhGXI4JtOHEoscsyNp3AS3w6bvHA0J2EPlde3FQcQqzP7OVM7hLEmaXaczY5c+EIchlDzRcV2xqa3mr1RN70p0O78VkvpiKcWM4cfz/UHfw4nlpMdoxXJtJIa52KP8C+9nCbDwfmWyiK2Wsq03kkC4yT53yCq/C4EzOXE1+Yyu3dOv0JHPi0h9sjAs8Lb/+P322OTgiQod5X2NND9iISc71/qvlgdbcv3OdmsdFJjxnmF0JK4iH6tmo8M9r9BdpWUBrh+59TpMgUyGzYUVon8ENf/Ucgpnf6/ejpnKK68EW4q6kv0+KlAzrdS2RykCs+yT1OuM9W1qlsZSPZS/7ZtG6Af98qN3q/PKk2vTAlwm18EKswkGunyRiIv2IYVW0tGv2Pts1fYMOk8ha1Hx9MVC71LhjDFf4w+LQ/q0/afN71chbmImZ7IdVtXWfynzZKw9fs2GyodaRZ0RLK7zHhYSKLrmvdr/f0o67nvJAA2fsZMHq7UxRSGRhypw3I8aALqrl83ZpnV/oXrAenZjs4c873MkJyqVa6HHnMVQ2OxQmviYi2WEKXixxqHc0KzTcJ/SRgHRlv+ZkWvaquhBFpuKlb01VZTnR9EJNLmxbfW2gDp49Z+F/P2mdAfqRmhTOeolnkA33lAMInttD5k4vMLG7dJwC0pZSi1o5G16RrKl1uf4L5D9kC/abdSKy/QqEEafAY95dSYES0wvAYN8NgBDrgHnbz7/CUUEXpgod7RSGoI5QEr7NBkJrw3Zj+riE6aRe9kdCORYmKBSle/svgE1emxsdbs1Pj9Rrp4RS2xkeqZBjnyFNWjSvrkxD9PJoMawqps7Xw+IXyjjpatcbrc7PhptIgofSyQW13ClCC9DDJ2dtbyWX+TRQ4LLPSLaLtQVSVi2Is+40xcKAgrXpYmoPAzKPemorfG0aqboTUfRiHfXD/OPyAv0w5wmH2grtw+q19VmHaH1/6lztLcdANJy5AY7/2SNOkBd8IRgymibYteDLR1NWw6i9pxcvQxlPLcrgcdS2oDuQvzZA9L2Icl6QY9vsFxKm9vsUn7qIOoaZuVNITPWE8lXxAkbuCh0pj8ZMC+M5kurYjCcd1JVigVdAu7uYRbRQQnmov98UoS6mPLhkRPNxtwxb+fY5g7nG1oYOTbMGKF0i6hOqp+mAsy29S6QNrTdPSR8O5Wg7RBf6lvzSrQzmAMTmEVzUG/Yw7NibY4Vl/qfP1/HzwrTKIcb2Q6O38FSiJ3P4QB39cS+DJPPYAbERD6mgEmi0igm/6c//8sc/k8uRYV/Pa8L4faf3flwgwmg95nANsP7r/rJfy5HtFyANn1T/6entwCEDbHGE01jyCJmi5ovI+zPe8Es6YyxQIOg9eQR2tRv3QTFTokVrL6M59rogG1mmY2mcb/hvdOFAnOxna2RuoLL5OE8ScEMCb1OFFSFN+OzBd8vAYrvLJjOZxXwLwKfOwgENjnEJ/P0s8JLKWAUIWCteu9Tm6HJoMRaZpLUcmnAW9mQOmV5FSfPPq+rvUfZmz4Doo8AFUWSrhQZu82zYAQgCq7uC5toDlanapln3KNLVrHKq538HY/rN1TseyA5/g49XEcIANlum7QWsOHd9EKWXtrEbV+aLllnh/j6n23Rwg+tN3klwTmyf+TMmaJho3s2tUQ8uxKgAAzaOAxiEDJL5JTahQBMT+fPtvlT4VZ2tOohP7XFudxRrARyXZN/ydtqHBgq31DWEzADx3vALA5EcctifU1yd87xIA7dDsXIu8cRyukvxDo5GxuwBANsUu0Gkg82il++4ogLgiJe+eq852s9ubjnf23DjluIEbN1m//8wODuY9cY5eEVwMi2B87L/SvnbNSnT5RI48cYE1NFT4bR/jdr/wiuaTGAtJCFNcHdFUGyvMp1qOI5OG4fgWRY5KhWnUDB8FTPlWdsDmPcJhfaXQUlTjZHXB/E3oxQX9YUx2e+dRTekmXrnSJ5wngs4QYLlwVucW+FbGAiVT3xH7ilZ8dH7TyieEhSshVvnAXZqUZhvNhsmtRWwoAhhZjYxV3r+rwoFx/z0KTnQk2YG9VF3UsEKFftgQz//wZyV5dUsykncDCMfbG/trhGFn3055DmmIlJoD3125w2Wbvv+EqKQWysYRCncDLRrYxkCKSbQoX8PGXjDs1PDYUGzKCYJ7xRyOXNH6vj31gh/elixz/CnOcJckjQNB2mM2+uRxKGp7OsllcjwOq6OPrL0wBn3vxC8fPDAGVndV7qZb+anr6xPzH8QAivu3z30TdsKQOHq92r/Slx3dZinj4/z9Qvc2fcBt56iCgDb6OeYeR4XzVb7/6GqfawVu1kpGLZUtOxIVue1+6vhZt1UBSMPbunk8dHvE4CiYfBLKr7XnZAE6Ak/mRgyWzMR70nm6B9eQv40EJbm5LzlyHv8ioy58JSy/4V+uQhiEarRzeikRZHCuK8f5vrrFnw+fi+0/+ThqzQI3yeRMLVL8ewPJfRHOyi7kDQuFrxL8M1ShUEUfbPnMILDxyKaG4NpCbiw10Xm9p0CXTDKi26NGr4M0U5Gk5iG91Y88SqfvKfy8mpKkkNeOGRxLBDZFpTSeih6zHVFLtCwHB09qladGB2zwKY0UTXQiazvKdQ7snHCxNzbxrRmjspq9ZThLnSaS8LsWSfXeHtzIieICsaQdP0PPl8er02SO48oSmBIJ8OytuXnTh56JOw6W12IFYCY2/MP3oWfTx7LSFEpgzBIw56kkFznav74DtuFUmkfYF9spruXCRu6JBA36s3kt7IS2DfTjRIBJLdfrX6RhW+29eBpFMfOpAfF8hnIOTUxDg4a4pmNmc41oGzz2zon3c7jxmxtRAKDTrmaSvhcpFAEqrqx6ZFVoIUihwVRloy+LwJCfwtM+/owu/rERL5JZlWqxrA9igacYEDpFSArc/5t7uDhFaRxNw596rrDfSixJgXH0ZRmB0hCOGCKo8LIsh5lM/5U9SvY6QpRKWIKD8Bh/FPM+BgFKxmfrLoozkr40woyCPwjN6lNy3ulvC3jenb0/lcaQB3gAncj0CHuNzPYplB2GATd9tEiol4V5RUWSdQClkvMvz27XaannZjoxV5qrtwxkeeRJ67DGXp4685Wv9+j3Ym4e7kT/SBKkTs+IFS5215cXE0A+/AG5l52Ph42DJ0os7165m1Rrit2WC/FyZhef6Dk3GNOl/iZ30AzIRB/dky/cKBI09JWhW8GI4BkQcJsAVne6VvSQXU8ZmYafN+Xdv7Tuo5+CeVAAIIQNOpK+Teh1G8Q1pzuA7Xg+aEyF8KQhjViwfwlZgzRdXrmaRzGSiipC87PxvYkJmlgr4i/8kKu8wpalHW4Wz2EAxECHjsQVrqZetOQx5rhkGDo3VtTv9enM4OjUuM3C+kPOfN8XDDGTni0StAcfTXjOAtx8k1NZwZeG/XnwCj5ypuie9Y8Nk9i0bvPxPZ+B25uxsfHqG6spGInoUliQOB9JYOioRSBRL6UikbUfVBpFHFtShIbC7SI3BBslQ0DMXubLwJAFhmXaeHJJpafNDzYYgA8ygXlJkfftFA4vbq/WkJQpL8A5e0w0CmZeTP0dWR4YPaxlK6INj+4baA3njPgcA7KOsnzdNiLhhgxPwQRO+ovbr1aMWGOZInV4BXGhqlrTYRUcwbKN/pcJkEVdgEXCVxkoMWmmIXxyrw7Te5fysYdM+piTu6u478LAF8Iage6t5fjnq2DVfnUb9bNHKDW3rb8gU/DPcohuAE7Ci7dUp6kSc7JtmeJfILGo4b/U/H/Vy5gGYRXD96tgw/APvYsVZ9xCxVtZfx3xjpnHC63z45CY6rrcyF7JfQWk+gRHwkGO4n7RXwjn2czlLTYLlDqJ29qZZJT57sa9WClhLXlRvA5LafgnlyjHY4AKtHN/h76Qh9WM+H+vFV3LgpjoDpMoRSKv4rkKFQydSvNwt0uvbQdgNTtcPiYr9NimtUzPrN3IXY1bHfViV6ceplYslPcNSgf2vqsMREzzP7sjN607QkZtQZZ9/eS8r3mXu7voEH7rv+IaBG+FEWiBRRx1JTC+oN/MtbrC2CiU17rJm1cSRzMwp/krlyR1CzoGiCl1SVPHaLNWdFWYSWz66rjenhKOv4vR4Ibr8VD3WBGSV0Kx5zsbeNttRy/vOZOfTuRq9h5bu2T+JbVxAAWMfYA5OhKWxrbWmLZKpHuaoVNSRc2YXZyTo/fPv29jdnC6m8MYMmOzHm1OtbxetiGgeyrp3Tx2YUoiJnc/733T/+XSMhZbsNT/KWqa3TJkavjbNH8yzBAV46fXTazuK+iy+OEv9KeeLXzYEXqNLW+jpJR4i/crn3bdSlGl6hyYGzz/0stAbR80Yrvtfaum/+7Mi+ZW5ierLGd2hhjRqL6QRgXP1gulakRhyqIilrSSLSt+D9dDIXsramcj1v16DtO4vGTzalklcQIJotav3LKn3sV0949fkbiE4JMszLWL110HzCLpnzd7phNjKutJdaddpvXRRCvCWEKJJUUEo48OkGQBLCyJ6QCKQNyTCrEFR+EVR2wBofesG0NvKD+5v5V+rqoTOnGtCr4yljgU5pSHWveCLRSjrJR/sw7CkOg6Wp8HEtrtjDvNAQzOZpOBHJ2YO6Ykkckv8kIa311yqDICvXoFM/p0dQS7ACh+gyCyd56jJeSXJWVJ2VLfLvsccNrxgjjDMi5A6X+OahsxfNkf/Fwd6dnuAcE2q01b/HuUfWFWMVmmzJPanU1s6tHBRiWJQN7Byyv3DjQutMePbWWDdFDMjuMVCEDaPdyxSh3eJ+qNPgH1E/GHdXhq7MBLUbt7hEoaakxiDe2U4OeqKPcQKj3TQfLs2dQpYex+I/tJsgiiFHHHsh0pp4dyqgd8YnFtPvC1l5rzKl9E2uTlFYONfP5pGj06DlvbP03lmqceeiJ+MNPjftIJ8D2e5dRk4nBkruiVxVCr/4hhs9ZF/Sh+Y1spNUxlii4H5P4oho7Envm9Uc6CMAyvLch1pYQiUnXin1Nwu7qz5i4AWZrC7KPxWJ1o3UvHpPucaX1pod8hYbN9w6uYhCjbxQ2/L47LXuNHJLY4hVL8rjzTdQMLhCncmKiakT5sP4th3tMkIBkBTIqgCWvNT38Z5UfcwTxZQ2RdNtWXn8dP8ttcRiPsib3MWt7XowsjRyMLSKfsEAPGWPpWWD+ZcYUHUnYav9BUfFo1IyBVK5HDa5s5npVkBQ5Mdnh+AEjgvpfV0BXIuxw1NTbbIubTVXUNAIaif+y1LmZiiAZSRpu7sB+u+fVUm96ZLJBQnwgxsewSjthXyzGD3sN15LaFUnB9JKiIaYyU+EXTtOV/1HvM6yPt09cHAuUoFBZvo2aJz4RZa5DQVjjFKqgttwh5eY2YAR/C9ktBlB91vW5B6XcjtYsQMHf6Ytts7meXYHsZ3cmrWZP2+ArwHT4eaNI98jxxEvrPx9x7R0b4vnZHvZl90awJVfAO2NCF4yx2W5t/O+cs4GKuaTW5OvXQJ8VGhgHF9vbN/G3TskprUeIzDcjf56PXrhZz2QdHLlukRIDhaHyMjU2S0SB/XcV424GdjydBiNax/Inki9onKD0qYyURgVpd2aSc1kvler0z+32ZLklNZOGupZZCh0hI/KbdpI7tipg7EhzOB/SCBPDRjGO0rg5LC2CtJfMV+KPotetXi1gLt5IdttHKjmlutlelkVGlXfIaviMboSzvu7v0mKtQCxBV3AAht+aZwX2XnuKE+Jiikh/NObGBTF9HVrPQhVjwp+cQYSQ1UiC5FNzNQQfJ20k86Sl7cfy1hk4Rp7NbLMmIPs74kfIeqxM595J1lxR6F7TPEHUj+t8p7wbjpOtlsTIFKj9BFdqZi0o/Vvd6Btwlv1RESFHykzFGI66JZbnsd5PNz+O2SnQQumaU981r7XXgBquIv02zAPsfHgBUcf7G7Tbq9EeP0L1Vl5BA/JARTfLwyINaUckcPImR13NlQnQxwgtTpYI3PKaENXjetlCE3ivRw6osrhAFc7qX2ypuXNwP1ZncUQyatjHT9EYclUwTlA4G043O2T1dgZSIYMehiXlnyIqTsBYuVURSJEiJ/6MD+bIBarGBtm+ZOEOjZy9bjj5Ro4IOW4nPfxf6RXz7E5blMPdv06+7qODKBlnnbQJHyD3wWi7pMiMwXI9nzpidtdW7hncWrL8SNIdEuSNpQkd0aQhRuC6+jjwVyWv9exRBBFIAbCIdSYkYx0tH0+QygDh6GeVsfRZlIRH4oUIRpUQXi7ADbOTxmq+Bz+YFKwXKT4QpnUzoq8sILnaOCdR2T1Fcvar1lj3Om5akqz37GDpGeAKNAiR0muZaOBRF+g692O4hN4N8ctvhGsXn+68GTWwRGx6fANwFlUSNSLFHEht1gfyU/bcEiA1s0VbY7dTDmryZeB6g0gadQwwiKgznt+RUP8jQtyfMsoSl6zLTA6NRBl7xQYLDsl3bRnYxWrHSiR17t7J5AfRqB8O/m0oAD7apr062jL4svNqK8cnxVWR0beyfCYrDTQoYLRpYz+iGElNXMj1+kek6eC+mA0jamsI7daH067Qsc2I+CLRCGCJ4MJbePKshUW9P8LDKbiWHtbuYRZ2IDZz5692Nv3Wc8vEf0dynwVUF6RCwh0vy3R5+InJv4h5xddQ6YDuHxFAJR+q9vp24FB6eqIMgr/bIJCaytI+ktxBFURHUws1hD/ZxlS0be83cFN8bw99bm4wesRmKd35yNKkyIi75l2W250KOcPXOD0680PCnV6QRXbMEoEmPfMp2KreizTVCcxcpU0yYngPDs1FO74uF2oVhebS2+bPlvMprL24eygDVPRw9jCjTu1mkO8qSJM7p3GBbLszYjGm7T88RpAGdWvE9/fcYUjw77lyCaLJk+2VNJ0TrnltXS8otfjliCCTxIRtaVMtAM6v8d0bCJrP/qvp3NCpE0CojDjH7w5xpLyO6VKP/zEoMcXiyhKu+AqPVF6lHT03K23Zlui3WZS274J3p5nGG4KNfW4v1juSBgsxhr07FRwtL6B5Esp1JjJ6oQ/qiM+ZR29TqSsUfjWo291moyHlSfsAKu4qhC6IPJUV3wQwCnmoCWWXeXDrUh3oaun8u0qSMH1dC2vFH22YR0gwQjELGu9qeTQLFFYOcf5vJsydn2VE4Xqx9bJ1dchWY1flaUm8cCP9TgHdSnHicpnXIt4rBNAzUzC72oAle9ZrkwQhGJ+MxZR168zSXG6cUSkg7M3ruYh4HxYOz6tQAVIizlYX7Q6xk9J5NjqzcSwltcjX9LsKb96M+QH9Ysq81OAngI2GS4sk3OgcEECSpX7NnysDtaTyBJf82WZfbsw9x1ryrl2nZ74O0b9LAVI3wPL2DSNuyZfWx0QJW3XtbzZ8FFQ6kDwouCmmslIxzmbBo+OZuE66bLWClogwiH3xPQ+5XRoUGmxM1gI7piK8wabklq98anBYLH2PPSA1vpEgL9CIsH46jDyZEcQyBsEJ00GNDvjWi94rdISZW5oxNFgTLs5p/Xi3NN35q4zZx47WLwi0eeuJ2eySW8el5ka2rT0SLNOkO3nDKGNIety9Tb2/Y2OMCU/KroWwAxHvritNfBqWSXaHOB/xvMqd+cs1ADxVhQijurWgTv5pyBihNepYA3a5TrSX8ZyaVwSzZtazIhebvAKQZviyAW3mu4zy8Ak0BS7FdbZ4xYXx0Y1wh7wodRrtePoAoeFRqRlp1bbxUbgUMUo62VOCcMT/Ye1Wbvw49umW4uymOcNqeI8zn7L+EUfPO6Gb07nYj+VAHu8zp2H7YywHDaClseOXO9tmHdBv8ms3/MAJM4LuViCGVzsEwxtMfvHkJy29vq+Y4gHHlUnFmD3t91kxOe8E47WIOItLNfYTEkmpVXT1kosevPB4YmYkvTOyE5FmUsbBYsViz87LP0CcQ/2oHbzm4S8Lg230p45CwaAZtUeFLEeW+QmEjlrpfOKuGS3KQmTjTiD/vK/1VOWlmIzJEXs7+xfrCWXWWQZmW3ps3kJ47azEr6auhpbBjYXTWY/aVPUfoUcGIIK+xNEYgLW9Nf3VMp0u5Y6icos9D67vZ9L31Tv+KXUsOXGD37T3UARFzSVAj6kAjk3mAAciEEYKAKOjGgNCk97REfMWY5NGj/lx4Sf3eM6fsNQ2FcAxu3ezNKN7GqIHu0XK4LwOUwnbXIvpU3ZMAQOJVWw8qdVMvmhRzom98b8Sdk8iQN/aXDars8QaxiOJ6Q3TmFeMJP6EMdb0dRYXkICff3wE9CdhM7QZfdP+xBcQzJ80uJK2oADiFp2jSIevnZUEyTKj32P+fGXFpctDtNQbRN4OPkD1ni/j9MWIgcAKTP3MeoVqgvPPoCkq0W/mFcb+SxXihuSNLCfezpv1pwjjrT/+AYKFAbfNaF+6NFDL9Qa31+J5hQqk9KKu/TL0U8Ytv1zJHCupe8RY4gVKr3gp9xHrEQqOFqI/ej2RbFVb4I7m+8e3X1i1xvU+XjLVa3gKMZuEBOl8PV72Y2sf3BLg4n0jT3Uq7RbS057xZnSsUALaeCsxlsUeQSzdO3W84qSWsI3pe/+IoYfHDv920BzTduIXxbzcydkwHRIWNBuA28LzAoLlUt1D1/Y0OxIbObmP8/k7RwcZxr5ZH7DoCpA9KqiIkuLZY8OfkMr3OsHDGzuluy1f4ZA9vb9XEV3eJwzjlnxdbiJ8Cr70CsYxqqYxrqVE/2IT9FcDOH00s0wWlei1nUlGupJgbieg7nHxN/wZ9tkl7Pj6CMQG/9Qm34fFYT/7bFv5wJdzOeeC5ewcd5XnLUk1bIsSk8GxVi6pRE9p9zNF1Fp55qeLQFzwx+EhVH+1cqZcPPWeH2TkFRreOfXqGFdpxgxKiUmFgpy6KUmK6Iuw4DK70Fw0k6MDmKJHTgval4lK7Vd2UAhlA2XH6iAPVGuhbjZJPQ3ACYV+WmYG0EidU3m3Ljcwhw7vlQUhsYhQCKDZ4DL1RqD9gEvzwlm30HKDGsmpCa6KfsC6SLeegY7H53aJNjaz82a64F38v5RCO1hZTAqiU8qEI048GsT7jHxJyv3oQIgfMwaXKk18FQLGLoY/9rdyqsLdzxbEakmS5QNyLuIKG+JvY6edMM5XJuzxozeD7meUoS8hGF5F5AEfcrjVyw+ETh3lQpjppDcKNMSwceroax9KVPMyl2D/oMni7HWXEGO91tJDwh07hke6a81KVsuGIQ156b4w3UbMFL85RpLdKJIJdbATBBOSbPIQbVpkbh8b9R8M4wiMAONFNL6nQDAt52JmLpL7mARYK4iF5n+ZbfLXfa8uLc11RFRlSaEhCcCpDVTRaJtm/EGpizrMWotWI0T6Cojh3UyI8YFKbBTgRsauPrC0IV9wYOA999DYGfmr1eLq49l7VZhQrkSbTUCvyVuaTuxAIf9hxhvCczA2sy/8SvMsBWPjv3SSrmJ2blxEB/SoPhFAtKU1D8qRdFazqc8R4c1xt9F3EisoZ2nXDRj5AkuISh3w74VH9O44wLyw3FME9SnICqweSajS9cYfWJZjIdAdkSOMSpxem48+9hHOvls6pzMI1dReADlO0PsQxy8FioaptgPaahepLYYkl+bf0g3ZQi2U+LgvH9vTAwqFl1NNwgw4h1sSjUYcykoqIfEXhGNMqMG0C4pFLrgjWMuonm/lWK99O5jiodmKWUjqB97kgakGH6PYQcY10fsVy3hlEBwCnbFsQimZkSLVGUmwf7Yhjjswap1isCYZ026a6GLHAb3iDpZeaj16+QdwMYOQ3KYEsT8LobX90C5edKqXjO2nHPJXAeqWs0TPd/0aRVD1AjiVvsDZvT/ed9SRb2BJzXsXRCjGpjAd3U8YUFUK/qXYttrD6qeU/x0Z3PqaJZFJqJUor2du9WagfmegK98DfVuruPvKV9Oubarmg+YfFKmQlZQIZz+3//wqlPK+sF9OeeMVwBfXrkbXpvUTgoeVOp0cxccZHnwEoUs9RiyK0vvop2cxQj/PGSxho8i+/zx1pK/CJcZ8W2FyGydKDiRUAoZAnOq/sr5NMlrkuq0EJgXBDuBeJn7P6GZNf0ZWrL9EymNzArhkdr0OLoMWMjLm2Ej3IIFwipD7b+/vy+ktPVR8Udxm54wohRYuM6+h/1wNE0c014LHWTKpcyaJT97PHfQZlxSafECt3n2Euh6fSiDFI/J64bkPsm3//3UAHQz5h03yBDXJXTr5Su/OMf4OAEbNwliDW/UjX51HSnuiXSs8mc/6kq0G4NsGTsXOBgn30AfdXHze1RyA8Rj0tToS2RSQdxJNw16baD7hpytYztXHELl0VyhUrsQ5tH1KHk4aVr11WSstusn6PpPqVnhWC1wG9jwZWBk6DAU8mTEvggmhd1IbBLUuqowugnbDTJHmZmzTSiIRYzMHqRs8rl3I+ylfzEn5sCOrJVJgYa7Jc5LISRQN+IWt0DUE9875KgJHbijeAkQrgoD6pGA7rIbjqJq4ApZZfmxnfCxjm/x1cnCjTk0xiO82/kNUalUFqfgwmTguXhfj3IqkFa0Y9ch9tSX+I+rWtuwssIEVyMfuaTT5NWAD8+6krZp8QiK4/RjSvZwvVEJ6+QJOxTC0LMocf5G5SQI45x90cBOWT3Fqw80JjHRG0ltCbR6s88khEWLdXXVOyJ/7hx+UMfj1Wxqf+rozXjYcLA/sjM67EVaemadp4NjLt1yGp/NsiTunpYpQj3wiqEFm0ZhywuCsiH/KmgTD60Oii+zARFPxtuEkVYSnD3ckYnCJ+bLm0AwdVCBBBA5UrxF14Ea2GDwz6HAwTXyEIaErGVlZEoFkwuE8UEjxW3UUyoO46j4dudb1NaGcaWfKhFbNHk9ziobQZGPZitVJfAk1PZ1g5gFHV2mDs21kUzkrg7BgI3xEm+7bG1VwuJBAawf/90J8wOPGk48L7WxMaVvDODftLFUKIM6hEC3hqnOB5qINTWdMvTh/e6+JySJp9oSqAsAiGcTKMN+numwRF8BRWgPnQvU8iv89IblIgcYRQGMXWGVYEOSJHI6py/pezqQD0Krnqcd+Ywj/xiSPOKzVnOzYt3b/UQJtxe2gO0xJToeC9SI2k30BgAS97mBV4et0d2VnXdUkrAv7pib28K906p01qW1QC1fTkfzFmrpZ8DsqwNdTE523ffmInSRi5sC0r/qmQftPd4BlRMp2HF+iW53WXgSIFjwMlrFywm/T4gulr20BfLMO04mYVoECYaDjigUhE2DIk2csCStesl01CYc53n4XtHIxOIHbtqhPiyjSRInpK6yLZXbjGSj+FR+Lns9pEt5i8BVZeDBODhw+c2ZqJDL1fpb1jZ0wv3cPmy9947yJQeMLJK+Rhh+hvtLOpsKMxzB7NRx/jLV1wcLaeeUvNQ040rcZvOYVjDYky7TgoMKFW1KTcAdmadbCYtkIiWEnm4rY30QQlyd8XL1Gz0+/IJiE6F7qXWvloR3mwZ+WAIGp4AdFeqXLsG+nuqVxetLxOddZ+3ueQtDu/aFlQzYZuHpfuDTv+OH6wsV579Y03pDa58Qn3gJxLghRAMQI5eReLMTer9/tkWKdjto5K9NRrujhDRqQTPqk5ucwdXOfiRtaWjd+I0d317Yv/UHfuK4Oi/QX+SVzVefrx8nKvcx628dH/4XSI30FDbzaNtEHAHRBLE9W5qR5k0+gdOJgwELd8MtXO0BXcAckHDWy+a661xWzPv3KJf79rtq2DZ80A6XmAkG5OTQFF2sAHMTPqq1ZfwUUeQm+sd19frQz4vJ9VrXgpR2KJ09JGmqcScP/2AsctQNA0i2mqm4vu6+rfPYyl/Db1OxuKmOqBAgTfsVXqVmzZaGeX+BqDjoDsDrZoTdWxKgVzjnEHktNG0hjTy8kqctDg3klZUK8qQQONvaMkiqFuPcKsxLGfY1XB7UceK0TZF6PMlEg9BsJ6ZA4/QNhQj7pPpHp8nMa1gIblvVF3Mo9yyyHz/72UctVGANW/PbbN30fhNTsVIJaI9lMeXA8a34dRb37QFDKzlXNWwN7QEfAlfpWEkf+fgGzcxDmO3R5fQd5bmA2PcQDUIdbLR++6GdNGABTZNKA+JrlSDIT1oCW8h5WYHWvRy5Vu4rWfS12IpIlMaMcsfo9NjTvsIjCCK1gXBuPnaQDmnaDHCI2e7kCqwisZnNoxEaaXvoDFuWJi5zMZFfzF/zRD/dAm9fHpUWrCp3ont2AnkDCMmbeZeoBcg4gTHUolM4h7oAEpRQHAjEexOESyVDZR9yCcbFr2x7mx1nabDriRuwVKTAU38eO8hb2qa8t7miAjj4fJP8ixu8f0Ls9R+60dk/sZDrirOS/7iqXN6PRvJ34zk0UIj6afhKgqaFFDA+QUK5M4Tg1VMTd7yXZZpRJmUcV0T6mNbsfzbCGXcYSm/3f9GKlzRsU3wKmrAMlOjk/hOk6FC9zEMvd1jLPsLHw+iN5IaeVYX1kdIFqNidV1FYA8YnecD2fvxeY8gHCjxMia0O56HJTLkl3abSOjioYTkYrVfDnehCe/hljQnnHFP6d2+h1H22xQbpa5oiZ1aSposS4HPJJSm2iqQkMNwd+X+Hgx4/pww2u8duVTtKXuf0SxyBMKvtv/HoY8lJ0FEpdK3Na+DwzVFUOBptlioKYmgkeyEaFOTkLSIQlf0M2drtr/Kz8K607hf2NaZDOSTj0yR0JkDcAJE7UnE2kPAmIbHQPDSwUIKFc7g0gChhVLUt9KiUUiy7JdWxRgOwwekFNugZsyptMkTos9gHkJ4OefNBu4xDYtt6Jm4OtE9JV70cxk90yL9jNLnrvBaAU/RpvMMPMJ69XNviQrOTyTJgTRTefY2Y5sA65QUA+oRuo3HEvEhGUTb/KZZN5iX80o/ejOukujyCvvObElNGcrrmM0oWR6waC8imRW3s1eFr4zUYfmcdwfzkRUyV2mX9KG+ETBbB358/BHokZ1pAb3bsWTUswN1quHtAz77Ksc8R4rQwgR55Tg0p+wEPqkT66ZrsFWmOZmj/O6RCaDdHJ7BT6DIVXloQgMfBXBeoKsHrC3GiErNMY61Z/9ZVz/z6O9HxKStCu0o4E4DcJ6+SDu1QzSs3QfOgZzYBq7g2FHJiI9S+NaR7R0g8X1FwrCrjyYnwgj8Tixxy453AX0IOSntPc3p/J7jp+lH+6PI/ghq+eIoi3vPJ1x6VkYRoHPiFgg2ynQlqNksY4d839hIA/VlelufTq4OnvzjMmBKjnvtcFz+1xceCqxxzR23mFMlsRHNAESU/1eGOxgjorgFlU0jnM7gu89RxzIK/Ncv8+VXbH3dftTnjju33yIbEiAN6974ATK6VDZa/JrM4wL3xHx3scpAGcAdgaIgQNHD9/dLjFOpWd53axijXOJPRfnfC7pwmbTY6mSl1gKNA8agjsGya5O5Lqqe3I72KU5Bsi7Nh2ahg3UfxhOHWJe0mobxh5Y32EM/bYMJpknutLHKMMmC3TiEWwinjCRGDxwZc1u/3qlYa+81/Yj1Sscn/9xjWi+0sdpHIT10YobGzYmcP070GSUdxW35mA9zRdfsoX9h8leABx5FpD3qaqy7I4NVycUD1ln/avkWWcEhbrcZFx7yEYY8jRmBAa2ySjT1Ungshnz8P6f7gxoS7uZyFZ6mFkP88AENK1+oj1YfNkQZed/DWmCxyAjADar68tzzjZZXT1Sx9DJBcDj+oYrhJnYbxImnouXwsYbExqv90mGPRH9qBTAwhMMnXh5JoDPpoiIHgf8SMeeidmzJVKOuelVQbRKYqNhF/fg0/ne8tO4ZjQZTW4y39SeHaBqw/kU94cue5/gwnXjQWOBRdsyLvViqtAGIyXQ7AbB8SlPhK20gSSkBGSb++9GsMOzZ5a5lhB4ZRs6xzoIjrA0KMwcnfupJZLcgoHwdeOhBbuoWqgElXfzBWNtldVDJPM68uzWfmmmrhvSW7aAjAoM0dVYZr0MIb6jtSLmmZ+Bjb0eb0Y8Z6A6vDCuRhqePyGvdZJ+ZVmDLKWYMqhAkLjAttUy+ektkLxs7XbZYRWWq9V9YNQHWM0QgbIioKRWg6TJm5o6X+98l3C6GWuAeBTedKWnmVxTNHeMLfUlIKFzDBR4wgjcKoa7qtLL4JoykekYyQeVjG9X5Ne6Kc57i/RS8Bdo+HGsALlOlGbWTLj2Y8IdbBH/5pAAMicbqp8dr38Z2jxTaKLJRM6NnicMvlVYMEsmleP0b28MgKpzuxWeF5xyO3DTzs0H1lAW54gC8ytnCTX4lejv4gvnreurz1vAyH8A70Ul9uPYqZHKlHqCQNVMjBBtggGI6sPzO/PCVWx27LUSA3fMW4O4JpbSVbd07bQNa/2GYQf2eOOSMXpbWYNyvolZemA0q4mZGrj+adCmfOTJGNdyBmBPV8tSXn/+OMBoma0KZ0UBituUIzuoVy7YxIZu4a2ZVo4cRHsD9R6jO7c2sk6qpaB1Ujy0Zfv/WmF2KOz5EYziBRkmCSWjPXM4oRAZAFyXGuCq2+ORVbzOpzXDitAGxWwsWWY6xO8gzrvlrPhjhZJX38gqIt6tmjyyTUGcGVQER9Z8T38nIaS1fzeZqxgCsZ6OgS9P/I5/KJ1P9tGSg44dabdndsSVg2jh+o73t4EqP0FXjVTgDn7WCv2uhKvMTIL+GpA6RgSQCLnqQYMLfj3D5r29Mfp3OsFYj8nws+NQAJNGaSXMkT1Jx8e6JTBv9ignKFgGXyoVn9BESaPv0CzVXPE9W7KgCfwoBTNleuWsnSscz8rB5Jtex2zWrZH5fec7azmgEaTif0Pvxn69XmmV4Cd6+Mi/16Axxj8Tnadr6/1JpDpoDjMcCCIQw1GgkO7vURp2FgFdVHO5sljTZUMI4jrbjIWrCb2QhDHLZS6dqeEhbZn12EKx0+mPf1RrrhtZaQlVkpxP1e0DYukeMNWd3+425CIe82mO5zipcy3e8Jxh3LhRtOz7QuS0tohHnzCuE6JIL1z+OBf+EaeC7dCm9DSLUz3IChO49cJNem73Z8n0Ow1o3JmjHQ2CMgnwfubj7K58SyeVDxu16jLpAWFAS5CM3ri5K01xvWeODC1tXi66oU1i11eQ11YuljWqOG8XSJ9YqlO6E/sRk+U7ctEEX3WoGf2vDrU/7fLjTtQ/joBxQWKNbUBmzUYcet1GkdIbxZxaorbN5RNQ9hWJ8jvf5sIJyH518pv/KrUOP3cGmHNW5hHWTTDQaSnccZ5kwE+6jF4JWCQDhuQ0XdXoGUQx1sylFnJNSozsfGa3+Lgvw4kHvkO9m9K113inHK/8EN0ezGyDrZPcxNEZ8HIx+2yB0hyGFCxTCpEbXsrz+o0seQL6KkqqFmOr2vQ/TcsxZ2qUBuCtk+3mzx/ZASVXiqZnKLDtHAqvjPHLASP6WMxgIUkKbWEqQ7KKND4FM46HAnRmPBP55C+vUkdxjeJcSpG/o9KSFPJHd1fTKSdmctmS9FI3p1ey3NLjC3KFlS3WJ/nWymFoGACn/NsN2j6VWtXye+Cfqs8n+j73MtGiO6sAOcKzXn/KBeLEjaD1a5+LxB8FWOoYmgHgVK27ZLHvzCvKVB3hqnEF56hKm+2ID97plVqDgsOmvTyMEc0k0inw4uXUjD3cwxDqfHuhC0RRryH805DnIlCSLTz4oXrN6wXyXybCMlaVnuvJIx4oGGvoGvXV1ngozSD12hXkrkRqH01NULFGnc8BAtJVENpWoOqOaN+6pmmJg+v11sHKpSiIROJex+ht347u2O3YkNWTOOI+hJn8+4dxHMyfMQm06t1vROpy2gLBj4BITR0kK17bQCWFJkJXafjI1PgEiz+txomLCOHLP6xXLaJJV7nxm8SW+O40WIdJB4+bncsdL/iDXJ6bbzMuiaHG2AMPPO7OPiqNuR7Tk5uwgmP5oTbIbc8A1mOl1+Xm1uw2oOb6jaAlswrZ9JEot9BdZJJJ/C77RJCiVYoEvaI7iPDvaxT5s1j+ETO2qhJ9aUrod5Dwqm9PCq3qUtVE+5fCnEgRNSPCWhEuG4F8KQzmqqaURyQGdHfU6s3meFe23kCwCglORhMN+PkqMKCOlM8hLkjFGQv4AdYUMbpxqnmkU6ftgbcTVVcnsLkiwabSp+Gf6QOvfrXqZtgpM4GITZFsBghgTttoqX9A1K21fu2irkGgM27HUxaKLddsBOif992bk3+R3m2ei4UAENvbK/lRg3Dws7f8IM/ofrGXi4dj1rh9y0ddm/OQ8x9W+vcNxtWei/Dnyf86VFIXu/2uoIxzfm8kgbzeXOo8QimBdqgNdXJbSSOo/C1mvOG9vRYCK/a4+3jlfSCRbY81uqr9IHTrt2VnMlxQ+tW7i1R1qVOT0jLCn/xvIhyZM7hLKLLmRNStknjzSae8ZwclTlcYBFAAAFoRQdL0773qAEB8Uk40j85fJKatnNEbZMXP1xppO1Cbe8FPwAyDEZiShRDQhsdk7f86A4iFmp8kPjlmtlq4WZX3vsIe+QYprC8NOb/aTvWYLHAx0Awk8PoQgAy8KGU64FWUmqau5BhmCeldenBJrt5tKXmFwwku8ffGWsFdYH7O1EQUv0fY9KkUIaZyws38fs5aeNFawpDh6NJA3Vaqb1antkEIDwSK/TAtZRBVPw4EN8EDcOJs9TBL+LpqVon02klQ0PEbW2m/0cQaJ31lKNhLgweHbH+h3iEGQRP8ASK+B56FGhgY2gyMl/zjo5oiA7iLOO5/3rMd0U+cgq3QTBPs9G/fgMLhDr/J1kMGwc52FqVAiYt2pZdFLyCSxvHIeTMKA/IomAIg7d7xMSiYzpkZ+loOH7tYIh9KdBt8E91VHDtqRta+rQqjaYcr68HtR1A+MPXuLfHNrUwTEyWM1t1pp1AkEBSqG6pBTnINzihwEvktjbQ2+6v4+AwAMTuF+U1+at+luZI/jE0clJp70yFzjs4mlilPG5NdbTQAAAkuA27ZusdRbVFmilqX7sDSosOaSuzlOuf+fSxHmcL048QDOAIPfLs5CnCnPWYfKjg21dNuE/04aCYNK1rklMYIVMTHzeUo7uT0okL9ceriO5xX4BbtCFBzKCL/YCQKyu2cxHnn5MUtspCxoTcjEgwfBfKxH/AVbZNyIMKxZQUp47ZsrTdPYADNfVtcfcL97wT3SvW96C1MZPJU7NdnsODcEAAhvlSXvOEGLz+hw2T2e6PEFbHz37NtL6Ls8cj3ebhnFvN1T/POmaUZsAqD2n6vXWOpdxThIAUZcf/thxb0Bz4c3pJefZba1KY1H9SuOZA16xYcN/gbYCRfxNeP5IMULKhiOuWTfz1uS51iRuD8FhXZWCOXuZJRY2LvvmblCUKSvZXqD4kZJr6o34U9H+wWppUo/R4OttIYbc+gipHZ8SuvGFPClJHtF/2f4cg+lamaEQ/c8kzteStFOWAyEpFvzDW00SyIYonGgQNCUIWoiosbOwjqWTniT5C4dTgK8kZ3CWRwL83w65CwcXBFZe2pW30YLbBQoO/QQ+6DbiwsZ8lb9uNdoDovXKKuPDOCjuThzki/8IkdkWQwqTZ2ysBE/DKUJvdzH1Q8EtgZm5A0iDnfE/m5zc/+QTZOnx9IbHdKS3hZSJrZnQd4NnvqIYyd9b5Wu8pnZJfVMF5B6fi6VvH7fchdZKX1e9LmA4J3coXkltNzp/Frlt1AuI65nrFC9K/aoOUVjNuLfvafUoeoUAXy37Q3nCC/mG7JOobRZx6GlDv4ZPELCghpDd2ciG9PXVxkgJWm16AGz/gdMWD/Ao/JwxcytIp2hHljf6gWLrCnCOveQQ3t+RZrxiIgZrpmdimsxVkxVbIhC1C0lX4VNWr6iEnmY4y/jWgiePcj1+bx/zdmC0YBgNuxXR1DWPKq+yJtuSe6vERnDDkcdQekJgMmWpemBPdNoEqV9X7urUJouNAzNkkYcR49tJepIwE1s6mo2C3HTw/hRfF/bVuolh0O7kHnwf7Dus7b1E00dhtOx+SbY4h+ZWjqtqVBIR3W8d/JVun5md2/5esRXjPgNnMdVgibKHNaS2yldHDMj7n23TB0bB+g6lxbG+FSXWy5yJ2F3ucMiEEHCyhpecooWfVDcnP6EZQAY+FFXpr33UDFweyL2c7p4sTCUXyV5pW8oDeg5D6j4uTciBMTezEr/NKY31fU9jQDhVm6UCZH86FCD/5S5yLsZd5RgtPVyHuN17T7+v2SnHJy82knH1lRD/ojRtAcMwsP42Czn6pr3fg38K82Eu5wMn6q6V/oyEnHw9RuAbqLi7H/gTD9OXgQwiY0pJL1EM+2YqI8+CZGpKDCvxmLHw0dcV2mienZIS/382kBaefzT2a/6zBN0uUPTEfdDo9wL+8njbtk2tBj0GD2C5KvwlJ8P51ivsEXHZjnvGbkFtMEKpYY4/FiFKDdlX8wzR1FJAH6xcJY/qpIyZIl3zezHH9jzlAteKq0zunHdBIynAbhnvfIP/KK1oMUo8OruOYcrMLG9t5JQAX5V0I3Nm7TOISP0P4DhoBTSm7qVUDwcbDGn/LftfmJOkuwL7j4caAoHUJlR+xrPUeepuPMHG+Otl0q5kaqqDAa+734IUQoP9PkyP6XT11LKg5hYo2uS3G6YG2hCmB1uwyf4DFAyID7G7ygx4kW9bLgji2Q6uTsBVXsaTo/jNB7wYjTa8dX44oP9avYw49G89lQcDqKGjzSvRP9caD+J2EvQtMlcqGrldegrCj70kceieazX4yx221cFT4lKXOu0ORDcZj7tbYNER+I5WCC7nMM9J0xKy8vZda5gE2gUEQ6AGk5fid1p67I6+xxKtIJGxrZNMBjVcOrg1apKPgx1IjlP63JAraxMesZEG9yBqKyQjWqEet82oXnz5Tdoynm/MfxYbjE3dPQKatfh6niCX4ft9UWZA4PGD6ngZVSEiwI4rfu0W+W5fwzgsjuQLWwD+CtdE7sI524/o0k+VDOVEMt9zNBLjhCimvFpUjXLEPy7UAxnR2iTMu0SaPOS6HoCzRcFjYwWRDYdps37qKhDst5R8M8cR/q9/35zH2zD5Ov0/K/P/TmQQ/HA6T+PG+hv0RdB6XCwUE1sZQELXoOW6wsqo2D/PzZurYI5mCBzmCkUjs8X8nOPui60yc0/Ltd1ksFIwVyshBRjwbH59Rjp2fb7ugGZjI0mXh67rLUC0z6sQCIQxACziT/wQAA6jqRv63I9SHmxiieIm7GYMAAAwlVFQBRFj8PwJtzCepckgxV9zsMvgM24yvbnOC28BF/x7TpK5rzE3o6keRpACS389qwPmSyijRdAdRiS23taEV/RGLrsftROVtb+eeoEpyIJMVJV1GeqJkMBpeOqwryiUr6eNoIDSs29iOxL2ke4txIActt/Q88ciLxgK64ITH9Jc/ZN7GfWvaqod7Yd2f0khxXwpEfcO6aYysLR8Smt3el0xv+H0iuex8qhB0Hp0hfSvm9q4PRY7UEVLw6zUYO6aVe2DtEZxEa9lTN6SI1fgqSJY8/e0TXVDoiVILA9SGP3U7VytRmzhR7FEOueD4JGCvOZdaYosJ+UawXV4YEQPpwUF85sjxO89rJiNER8IinlTnJw8dSmzITckEYR4Ax+60zxoYmewOBVsvCtYmSCovhAIvWljvtkBJChciG1qcLIRRbafkmK1PD5uhHVQEXZifG4E/jtPTA9a/W5LxRxICL/43IwT6chkTzA+URCIEcaaF/heR3V6i8qu3lJrOtiauXl0uh0E54ofATEf1Gq58cis9kctQB4+MQbh9478n4Z3DRFsEoYp/yB3+GfTYk45abZzR2i223qghpcEn6tcsXkfm7DSroaWVqi6s+SVzGSVdxFFBz9rDdT5dlohue/Y1AEkbheshMtCM4SoazuX8CLI0e1yY8ycunfhQcSnQYQzP7cgSR3xnlO/N0Xr51fcQ8QwsGlxb5FEBpicVwZPJcxFb/kd2Sed9dZ+JebkyT17QF/lluWuj13dy+BFB/mlQtly75x/BRZ4GkF1jMBOWPmCge8DXGxebb2qqAAlil+IoCL4CSE6KvJhDwvslGOxNd678jpv6zMLZ3yVhN5EcOfrAv4y50sJAtaifTnRN0GW59icdvAZC6xxzB+EHzXmZm8JEQGQYQ7QMBqd9R+I3N+AonBuMEUu2YSJZ9oMBoxd+kAsKySsaa2A8bRw6ycK0ClKFBF+V5ZDRRaokYCsfThOHO3xvdu1j8CVEVPlzqDPrTr9dAE2yKD5RnKDJzFaI8wYhAfvIXUw/bKsxL601G+MVvXpPuXuEuCMM2ev0n/mbCkDThe8QrfN5XwFmOSlA8X8iZWQUonSDsgCA/gIDdrdMek42SnLQwiVMfxZ1WJdKs7G1MFs0T9d6qr8zWWMdhVBMleopwEIJssOq7znYNcDnj5i/vwIu9JZUgnbOIGsqraSCH1+SD5cEc2THcsqiu2281/EIRslF5V+by0eYiKI+gdM08i4NxFGF1PaTcdv5JKnhKLSlO57y8uxN/tWi/ePAAIKUIuagC61xfTWjl95klLLmCGClYDU1KEVG+yOX1lZhoIn76cwFfkA6BR/2oAY+9DDSAAOaZ605ilK0JMUXR+bgmQVXqibOeNqj8ZmK3ONWQzIj2eg4D/xd09/GVoHd3Wx/OUaKq666trPjRsElXjfIGXk27JDb9+siSJAEZNhM1g+qBa2/jq79uvUaLnYGtv0aw4rRzcCiFfLhbv793vJn6Tx8c1Syu7JGz6gURzH5LRhn2Q958CNQGdE/Od2HABgugkZDmrkXgpmEHJvLIDtT7oEbgX6DgjV2dTuE9g8L3DZz8HbkuN2zteVL2yHRTH7FxBdkzB4w/oUcUrOxrnO6rAzLsZbdh/+LqLvwXJXSoaWQqoVUsOJyGXPzUKonFbfjHXajAfQuVvWg9TOoLeXKCrGCuzp96AJW/4TpI0ol08RiGhGwhkYjxbBpmW8OyXH1g1nkb6gMtcprbmQWpzBqTmIRuAg4GzUtFaVs+/RY/jMWqK+4pRNXl2bbt3Unq2dk4nb2YyZA8sWlV6rro9FVIpYfdMuWYj/FvKDqpa2y3pkcEG0l/TccnzwD13fhK1BE5OJwNR9NnWE1cMe/lcM13J7rkhypPIhhMTfV9xDDXPsjk0bC9F0eZpe7VAFZmthMybTTVQ8MoLQApivbeXNjeVDQ+UEXZlDN8qhblc0U/QAbmKUVQ93UZCpd09JB7x8AgosnKiVCaWO2amLqUTz68VR2CXPJlTSM0N0RMwVAcA11ZFHDXFj3nCrm/0ZLH225M2CDiI09DnXYs8v2cdrGPhDwxeiJBFVOPhNadJkicLj5Big3FXDA1GTE6fQ6wTuoV3+CrlnL6+B67AGmCH4yKSTcHiLM67wiaHalQd+TTw379Mw4fvLKOtdBdv7fE++IIK4H6269VKec61OCBOt2CT0hrz8W8L7YfH0OF+bOsnCzf5OB8SgSBWGj1EJAzfSlpqfp2gKO1amQORzalOP5b2gdiSd/g002JAWikvWfZXBFMySad/0zkG4yJvBDr1c4xG9Ke2RwmHurz0YAHEP1T9rhi9infD8Aum58EIO7HDVyYzdoT+5jiVB71ql2jWlbFNwuM3VbFjYUF0UU3w43/y2Ez+np5ZTLe5h/uFYN/GZfbqJSUOSSY8zCNJ41gKeihVgesvIs/fiOZcBv6XSuVwBFgaWPZGux9+24hHwxg3rsJR6WQ+SzWSeDdu0/Ds285yZSzbRA6F8TNpFI6sgO7M7ZGwdAYVhts+5Oyvsuw0q/yg713d1Oi90D2DsK52H8eqHqb+e8K3elRCJBoib2NeYaJ50UvspaICmnSjn9fDo3BWSZBTm7Ry0+hecdX45RGauc3juxnp5Fb0Vh54dpdAGkutpu69O9zLHecGO3lJUC0VeA5haQiq8fN8RRp190R4NAYiRlOTrwHsjt8FFfNR37D6jOiEO9zl3adTXDvgtMUf37GRhPnS3K5XV+mdRIxBVSWzyvajfxCpspIeH/lY/OpBUJFBhL8oLV89Ah4GUAjUuIfO6sWi8Peglw9gvq0gBo9z5FT5YDLoxNn3lVEFfwkTbqU3Sz0vP1BYI0vGWOSLdqsJl7xPa45H1zw/abV/tLHMY0t1DOOihEFYK00I5/a2YDQQCbX/v45Yc1IOZEZoXMLxgyDpZ8gqS5qN9CSgo/XlrWLATuqjIOXjlhW/cN7sLdDb+TWwx3EoOmw0p1Cmow1xeHOedvtUB9GinLMiIZ60VsOHFHql+rCf10ic4yVBPdpKYy7BJ8VVqgOpJ4zJ53O82PsCV8elD4j+i7KaUm/p/tOC+MVx5fc/tpErsNmXTyVLzzJDjKw2Ipry4/MEsjMUrecoSLlhdjBxzGrSC8ejxanhxk2ibMmYg7uqnTSVy+SeYtFIryvGMTmzF9joQmnj1iuFjyR3QknuvmVdYba6v/l2Kh/0atiDf9LXP+HrIVFgG6A48ge2+tkNDRXDoKNRD4xxVs6vNA7Wv4FzveNa4WIZZGxUFVnCfmggJwNexdH+7tzyQawVL+Af+tJcaV9VhSMc6ZL8qFneOfX5feGdDOppeA8HatgIB8sQi72M3vrwxgEd8ASHJwiQ67ZINobWpvUW/YRjChN5N5LIekQx3tUhpaNWlgZzx1H4NAPkFWiZ0XrZ+gFuUJ9XTAt1091QyGIcZUwMobHwRe2NQPKUjWFAY7R8ZwiPVnPbp1w4aMuss5WQP3aDusUcFvZ877z0Cx8Uil8cnrG9xjTx9PMopfnCQbI6P4cxWaJbDtsE+V1QQfncWtI7USN1ApTWvPBafrmef/p38o3YlCibMAylhEkJtSurCmr2dic2oH4RnPSW9Rv1Cvn6OONYZpsH4dZ9MbrGPSFgmL7wYMxeGd2M83MRinrs0wFzeRdgR22g4Y7hTZfwmQ5IhZxR4VBvsrgEhf7JgotJSOI5StYzit3vTwv+rOxWltqXD/fnzQkcq1gOqhAFR45n6JVfX+b8NhnzHYmsKokU68gEly04lT1H9QBXyYCzIv8NfO7w5uRSdp7pmJZpiijQ3yQ5LiAnDlqD1GXMEZYf8V4gTcJc3J1Ff3Ncc8wRHxNKHNBnZ7siaSYfi7lucEjxD3XZDxkUOff7kIw10a1REl6+W8/NrRxbIL0BMzcd2uOZHm/EpFUUg1Fqf7e1pQkwPAlRGWwgNt7TsxP0Rp5RB4idopQt/sn/GB6CxZo4qlbx5iFoSFdb0E3tokVSlC345mC2uvNS59FuC5+DQUQnBmQCYO00ZQuQ4hpX8/6zHA3TJ4Lxgd2NvM820yBWz64x0oN50bWbepuEu3MvGmkV8yl1N+wZDqDzmT8bmiwUlxLaWKB7sJigtVI+inXRuDvBggulS56ypR89YpylFcTFZ33Gkw/KfpDWzrJhq4tLWBbyMvsPrFrz17s2a4P46sjWZtuHF7UGFB0SGQwnCJyLEZsNHMDqprnM0gE/LrYSvFFhrYoI4VgDAX7xC7X+hN+8pnk8ZvgX4nJ5aUCyaLiM/KX/5C3RmUOFTwcqf7apR69I96rJpO8zdBv+JBp4AOwkw/WEhsPj7c7tjKopUWvak+GVJIjYx9iu8btV5+1ReFn9zJNG8GLTcQQbgNRyP5BmdwyqbszmvQo70y1UaKr4pd0mEc/vm/OwiIPbfUDD05/u2AnqF+8FJrcHdp03Pz6J4a6e4FOYYb7mJ8NbZirO+ejYwOQVxC3iuHRlrLKVgUMLhkZn+NspKcuj0mwzEG64XDrm7LIpq9hWF/sqs/iihLU+KSui0qKqOY701WOm+ge0ANOkXjdXDE6UoWkzZrSb4fPmQe2v+RYnA1r8DE8iNtAt3vpo0iakhEDP+dNGZBVhPR+e5bQ1jdP7CP4sOtBfRIWGzsaShuX/R3O+oeILq2u5dwkfZX0TWWo1ZknXicFg3Mb9cSbJvp9CITc4nhVkhnROjynmlmOyaVF3DPjwS61x8PISSvlZSExhK2aBZhRk8NADNEzWfidsEYEgtAeMJAtcylgb3nL8uDFVNLwSma3AiWQXAjXafe/28HnFitFmXM0bZdj8w7bmx6MUQVOuWyPuoKJG8ngc2LYbx0/Di5dFpQPCyF5oGmS3s8DxC/BH0Jj5hqrhYaJZtD7ThdchHy9HR9XCN8eMrLlMELO0qDgGTL4aJuP/zqj8F3x9c3cBRMiqLD+zALjGwF4i4MIF4axlfxTTRjRS/Zs9nLWkBRSMSJAYnzZnq4gDye8hCGaF7AuJwDFzsYSNrpg9axVWhYOoc+tZjphL+YUmMwehFRNVpfE3XJxLYiE0abrJShj9mdHvTu9678qGwUWJ+g4M9x67PYTFzstwWZyN0IdVdVbPL04APL55/+agQp1BO0tZO/izBpFRCoRCu961UNb8diM5nBByqjL02KM5r626XM1MI9aFJCNSj3yfK6G8f3I610ER9Hz3ZEiaCVGi38S7p7cCAtqGDzg/pCqmthi5VlzMQNtP4QMqT9GxVE++2RN/8LnYH6zNMXJ0fVvXGJyW84/Pj1fDSaIca0H4D74RGwfd1b9GiV+Gkb2iq9F31HvADt4pJofy4oHKFKXk/4d/NiMWHRaz28rA0Z3QiyURCviJ5daXqUuAn8BSIuBoninzwtoa9vI8Yr4QS6sz7Q2f44lhBtlVRL8s0qqwOaS7NXIquUP4vmFLl3P1Jl+/tEdBeTH7kW3rgCtKaeHgeQ9cVw2e3baUDdsSNZLNP54Np69a921WiFB5+0EtizXRlMbVuhlk+cs9M0RK0FsMJ+ywO+rWxEXpzDru+ve5y+xBxcrlQUdBqo984QgVMd0KacxTrwITm7j2URBBoZLko5No75Fp7uI5FLX4/Yhzepf9pXPJ5J42E4JKNpc5LGVGYz0DbndMaTcUlFENi0qkYwWIDWm9+1XCnk0A0GhVFwsteRcIPkOvWo8f9wQnL54cxz4wdVRQyQX7rl0oeNOntTw2FY9Ks01u28KzUcbIRXdZYzejxWB4cBARscDl31VXTLfWkNtkrLXhFa1n7VbhhqGRnoOPKEn7QZTJnr2kFAfInFcpTI5AnunVWM7rg8Mpn8oEz4L0XctvANzX4mD990PsGsoFipApneN5dEotcxtsPIqVvPNCUSA53+IRoLGLeYr/SFgJ+A6f79VRNnIQpJNagljirFBq/SV0BQbi9Hngj46ufkYQLg7JESXmLN27AYUojZKU474aaoNbfm4H9FFV1cC7d+gNrN5zn/euYhOBQ5cOjlW7sLYEtXUBBcSP8THMRovSPlN/EALMo7qBCFjk1F7y2QFd76pWgPkqDyXWQ5VczzjrbfBflVV5LITITtohhPksmow8mJJW/BmAKLvfVhcepxXHpx8w5Gv5+uxQFCki8JU8M9gjAJ958faDct3SOAQjAWtmPn8HG5QeE0HbChaS12F/DPwRZRleH4cpCGnX0ZBW1liHNNmpsxN78aTFBGWCIL3EAV+OcbSBxz2DARopMheRmMgzyw1mRUsUSpF8iSfAFk9HxHYxI9GDkhZ1FRyrKXfUlZktDUceknb3im+GynE1UmEw1fsYG492LKHq7+3FWZvo9AZLN1pgi/eoxApqzxbqpA2Gg+yiyIQ7ZEOvrcUyg8lbuMRX/zhpW4WoQasiDI9qBAFGW1vVZ0W3f3R9kX6s4QIuu5hZuqwERZ2YAPTtkqNkch7Mm8Xen1FqqD1qXdK+Pe4fLzkjXZG/5yawq4PP8+UI+P7qW+DEgjn+i8FL8JHWXyiVLUJErVtEmTlsl4/5fsBKW/ywUPkSihqyig2l2ccLPSxvMkrsEGNhyQK0mIl/lxLcjm3UCWePn2YBceNw72hj/vQkHKlPf6wbG/AIn0LtjZJhmsBt2x/FMifC1F/gZVmwd7UHPHSSJ0nP8Bn5Bk6cmM/PY4I7qVN8W85WV04ZDcMAm5YbGG/GsWs72imOpLFO6hR3o+rOqRU7JOOgHiGGjPq/a1zLS7vU36uOTwiRFvv28ysPLDk4wxKpjvka2g6lJ1o9IHGOwJOBgs+oqKwt7B7gf2+KaH0zvJ9L39pSC8IYLZeFH8qm04LZl7uVPUL555Pr42b5HdRNPSAz41IPL/0asW1GLxunBeVPZhYm0D+eUgxpTBnv0kqhfPEvU9w6bjzP8UQ0xmYXJNn8Iy4c+CX8s0wGf1x6DQwwyVgpeBcquDDl4AezZh0hu86TcAg3RaNnMCTRhgfZEtu2/VmC+Yv1GaXlRYd7tVtEh6eSZR5uItwqdd+L8AURXO7ZcEAzPLRZ5TPJQk3J1AXDjdtILCGNVuJQJfneBc8+aKVfsaLCGrgopPj40+xOpKL0/N4C9lkAPg4ruH2TvhUCTElSyuF7lHYreFlw7xieuLbTO8XvxbqdK4sFgam+Cgvl4UAXzCTYyk1uITJpvQ8olrUgF2jXWabbeOMBJLkyYqsyQMu40m5tah7rsRo+4VnJrLgRlE+lNfMt+Nz/hlaJutiGny+WY5L0jyMq+DLrjbR9uoih21DliXndpNa1ZKrL8TbX8g2gL5tym6VFdEoZqzHUwWFqutC0jpqEG07FR4w59qhxl0kk5xLrSPoe9olF6qPIvK4XWtm76LBzLiPulm7rFiXHs5xGoLXjecACxHTn0AN8J9QVkgfoiv2vAZoV52e2RiucoHpdezvu1z0reC14/DH6t7PPxeEIQC1SyYomhrkHZjKvqbUYE7Mf9HW1oGWrZtN8aP6NpHMjP2BYBWrHdgPnvV2z2Il0HzZkP+Hz2hVmR0GBdqx76leF6/hgoK0Zki9x2hEESxIUyhW5Y7kjzxbsUeKO4PtMAOU0WAecv8t6VUt9M9ykLu1eImCgoNl+YA672B3sIH5iz+BdlF2a2TkAreCi7IfcwNQRAqOaqyydDz6acITx/znBkmJyijVttzQ/pcvt+QkNibsBJV4amYxAdY3zn+Jpzyibq8py3j73c4LSXdYt5C7tBcJxkA/xZtYWfRbY2CuYBPdimKlnAgxNt/KaE24SJE2PPWF1U/vha1Ui64fAxtC8wpCYcVIpe/9tKC9g0DT+KIvXs4jqdR2nphFB1uUQom+l6/cEAHNMGD5xPXjLkSUQyrPHtZvetkn6qmWDwO5tsbq+6YLewDRA0wd02mX96pQzjx4p2HM4YBDuPuJZTHY1o4ETo5qYqQPhwAY8vB4eYn0dPmC7sKCfUUzL5ll9YUJ++w3SkJ6+Jq7OWXiBn2ej9czA8Ze/UIhUnBVptzl86JqgGp13mNccQRCjweH0/MCg1eKTaWdaiO4y9qqix8HzWjkYqwfxehN+idsJiQj8F7VpNXpecjmRbqzGFWMO6uz7egPrnlZmsgvsdezZbnPVcL7nMYrGrJkh32/++/o2YNMQSSvs21uRLs6TtmGqxvc/lEmTik0rOPs/XOmo/tE2isOE3cyO6KGFpgXPqFvXSoL7MhJjBS76GPGpY1RoMOaDZuT0epJUE7+hYMZ3HfX+qsq2hG2lvka4YkHjINHWOYS0andNlD5yThr8JTEGsrW7+AqZU4FdL/zu6uYcRK1ZyRiEHjdc/tCBKRzFoJKp82sOgvlpdtKjdkvDwjon8v0YdLSlJdTCHWhRX83dsDvM6Ta1wqaQkzD4Cd7mxZd+mVlPX/2t3nL45yjAKOtwZIgEZViObFbQ1SPxCJ44A6DIKJHemItx+VSGWIwQQQzD3khdXsi48XdJZbzb6pmB3GCQutQgdA8FqlFTFwCHeOoO1S4Yr7oEXi2J0M7S9GnP12iDmxK3Jp44fP3henAqB8Koz+kZmU+Qu8EkwI+8HtsUSiA+Z/HTDq+VgqGwfC/hVXghsf1c2fbXhK1Vrx0hETnESJth8aIPs+rYOwykmFthO/b8tILRlmeZXQuNO2MapVVxuExPK8chMBWizZE4U1dHHXghXijGWQh64R1lm68zH4+kSNvLcfTU2z6wjVPgJZQDvrXDzw/m5l3/fD/t4i/e9GK5BqAf2P89hznOZeJoT70dpi0KZw0jJs6AdUI/kjHwmIfEqaf+R+93sKfPkABlj3uKerNWoemza8EPSlxVortZZhI0VBtPb8vvQJR8UmthE7273VXsxdLjvuqKH8W00decY5ESz9nWiLhJxv18YKfKky/nqKtLT4dFEU1rvBu8roJcz5+THK79krcuB0uTwxZDClZ8fCrx0VpybHItBnJBwZ3x+VUxzKYImVLnB69eRnHBIh42qANrssu3V/9UQBlhBl5LpbjyfvyK2HH5StsjTkG55rQhGU5EzUE1GQMt1SH96ObeTU/oCA+Dt0C24l0RtaTVcfKOSAcj9fXe4oTXcGut1z/+iJHrkU6Ozxo1/6gfe/ZkkwF5FJqBMBocJKwVZfHblGBxkdFSCbx0fXNP89eYcrgrdf/Ed5pSx5KseOhaXffH3Ug9sW+lpZc4mglD0rYKKQgaE1N/wZdy3o9vPoItbJYu/y/QIfkWGijcAQKozdzMWWNjMLiFxjvUvD4XSyrOjuy91Mfo/cUkSLjToi+3OFH+WwGKtkQvd3CPvdQhlb+7I7H7Y9tYh/nPSZ+qZhkn1yfXaSfHYuSkNEz/dC6i2jzZqiWeo6Fn4zrPtwd8qqfToUPE54FQivkv97TiFXLzSJIS7lh/8VJHcPT5k4e6VOZeX7ETMxLSPZd8b8Ew6U28JJDS5rKewY0cPADgXeZnBEUNUa+RI7qStOJXU98Ycs7soNXDHfscpAAky9pQomAWFti5g/AtUoSe8xgubJwG0aOfVaKq9Wofue+wp94yvOLR5EbVmFA2PLJ1Apk9RGsSi0lIJmgAoyhXL/HvedvlACNotLPc94dHonFvua3Pke+j/ir4lgHq+ZfH678GYUSl+EqL6TUHgsFL46ozXMf/F6L30hB2MQRAfVCOecHcqB4TQAYPGWMaVR8apbUx11GNJd2AI80qjJs//VD7ECZuZVbMJrNZ0pI0wRg6Qk3DGkbJJsoimatX9fAWTYi1woeF9gHgi1C+cx25Bk9CwVh+AGcAfa7gtnRp5VyV5XoQ5va6xpZXA4xstoPciS+/Ct1oevbT3L+ecaQsqD/qJgQvZA/ASGVN4koVRu0xB145aLIsKCDm918FPGPvlLIeyju2RYgpAFcpFC93sbPG27x98WXBcv9rK6ToFNPVfM7BGxoKjXUrHPpO4yIj4HFm49qJxN5cV5n4w9aGmtxkrGjKGUC2VnMuniiakffcrdlg7nfBe6OfbqhCalvm5/DgdxTDZBG3qvObc0tek6Ba/0tNaUzD0s8DS0lM7DhAqHf5Qyp7BzV0AM3d4dkesWZ15A40PXXx+LleKTWjyShmpVng/n3rw6ux+etggPh1T9jhcCKVA2GNI3Od8YAQ5v9f9CPTGUVhVf6qXK4dAG7Uh0O+5MxFgFeEhfOX7OPjvMDijybr/sIO0JAH/w6WtVevXNDsf68cz9/IvS0FHtTfSMlRhBsj6I3TpVhS3NYyjTySbl6f/uKdBno73WkszENZpVfXWDju3zjLI/lZjkd3Jl/dNSLk27dLhkaAB36E0XX7AP11WjwqP3/CDUwuZVoUI21pagwLOg5yoAYLq3oeXNuHyHlaTyNqnIhZBrc2XmBmkLsBoWMbW/09a2ioW1pDbv2u2WF2RqXkfPIUxSfR+DHmZRAvM2N15YAAAaUS5Ca/qn8kAwNRk6mf1Veg7V3P8i555NvBjw6LKXfq8+tXK7rW4+ArMyB2e4G8ms2T+ZLT1gn0lytOlFpKSoopzawciKDk/Rcliyd3OENouLLfMLGk0RdbYJfRUU07aNn6X+DEVmq5NtWgdsvXIdpZL5u/AOV2e3y7hT/8ywTFVgFTJSONkiqAY2mBXxA0StuQkFouuUowH3t4v+IuapjcbMbLoYgRtDaQu8kNfmaiPc8PS2HoEZl/Sgrdvoc5+ETbtUgYpxTFQMbUZy+tJW6NqdmTE1DYP0hnmPuPzsGrqguc4k1nphY/c9e3VbhEr7oD0uOo81j43+LEc8U6vYKIjjGweUrdMWAKnFyhDMHgo+oHbaFjaCsq8c+j1beKQ09M7UUkGeyYQ3c0PacPDuQlWDHUrtiXob7+phE8jmGXFNuKCpIKrPHJ/uOp1df7UWLbj6KSyyNYXvjMM3/HU7GImMa4TBcug6XieshjDaMkjuhzWUaWIbDo60FUqS2S1JZMrA/O8Rk0kD9T02w3u4EHEqy48PKGkG2/HQTMzn2A71eP8a24uRvmZjqeO1xga5wgHNu81hRfXOocHRnitM92T6VlkKOTtDdafWLbBpH0J1Lr3OM8jRaAR5Fq4Sc1zvRXlP+SL1yE3infKiPh+TY9n57Rk9ZCcrmKu9m6Z/S9kVnQaSBcpBEYbTbpEAujhaxcoHK/r3almQ9vzG9KbeDpKd2uHCMmEUqTjhbZoLMI9YrJHAoSwLoIxkyvU5yFOg7bb/gE2MjPt1N1pVS5M9i9oxhVPdc5VDPOLaZru3g8HGD04sPKqnTGOAB85gTRakUaSrB+OoVtN6x5GqXvLJV/1PAwimJAy4UnYHgmo0IePzMXIH0fC7F7Yi6/gCdp8259ATqmF0MyhqJQm1geCQEzyqvD24fgX5h0Xi+kYN/uLVckGSYB5QKv3TPopbqjFqdqTrtR28QTSrq5lTJF+jt0CijIbqDnUi2ny5thxmkH2c9N9IaNrsb2gyzkk3CswDYbEPZ2dE8F+5k41hbnGijCQIjGcysBee6XbF1UGefFS/v91Tfa1XczJ2vTKv6XnibAUSHbwz7OR+6j4hpkapjbKakPgx0ixsZia6S3gMXOfOPqaMDL2MZqIR0s2sR2zqHRkCl2l+x5YKiuOGW0zEp28oGy53G6xJezO02GKDeURGg1/bTmZvyaETUX4J46WCUZk2GaLB7G9wELMqr7jUH4GJBmlS3m3sFCPVE6sJz+eOGdplrjWH0/50wIwA04siRAu6QYNA4kjkG6DzhYmv5QULkg9CRlBsM5vCgsQ8b6WJFyfTCN7gWAleLPi/otpH4EJQzkuu0jKsRCd2TFnLLNIY2h+08arkM7Clzx+siGP4g1rzjjdI+PfY0jDEikGbnfCppFNFKhgMkHMkdu6F1mdT67VTDP3//+9i/we2XrlFGA02Zalf5PTsFdNE3e/tBIkXSvjlDDPlwlP3dlRx9R3XKYBmRMrlbDK40DZgp3dMv7JyaqSyoAwkn+NsRgGiikpqQruIwPLnJXgN82g/wUOhtsqO+pIxb5Hjo+DeXJJAZyQ2pywNWQA3Ggvd/IGIFeUlqBzmewmGD9W/UwZ774ZFmS0tWOuv2oC5YMMalmQ6dS7QGbebe8EDOomDSPQZiqh16Snve/KZPpywUcrvSJGpWhPFHvGwIHyD1SUGfhbnoMn2uGPidZjRGxYV8GVENc0Zf7hb0iiNhI5kkJ/hKkV0jbR4+Ow5wigysE8RkoQcsxbyi5bhgOPuksW1uPjgxYtZjWR6vZjnU8uD+QFPKzvGl5Dx8gVX7K94v0zgY+tNykvAp94cikpRh7g7gBS5EfWjFKZOeL0T7P7Nh+9U0dikxNv1FWGmcqMmBoTRLatj67nmXa7Ipnq7tJSu3WQ9gXTu7inSGkwNohy5eNuLjwoh3wbCaTcJDd42c8csgBvcy9hCsapqv7eBuQ2Ed8pWQ14BRMU0UDdrbHxVxXNv4EWUbENrmCQcktWIz3QmKHZp9N4LRU85lC7JVXN5+9YQ1doQaBBMyy9kD71k64ZQVqpZcaFsInOkZIeYuc99RfwbIltjrtyd8dmTVrrKQy4NfaWE4AMW5i2yS1MKXGRto2boXT7BQmLAtNw7EiIwFE3gjiWf78XCECkPkeeJDnnKI8ix3MrZQerwEj/26ltrvBD524913WoQDHGHVnE0TYCs1OP582R1HM5w8l9JlvzoccZkstgmPEQBxERjipGXhBLZKbcuHjWnyNMzaeex5aoe2P8Sw3zKtClNNEUw+EVJZnECIxpHqxB1BzBNBzFZc2S+bXfEDPZFoVbg1//eoGURQsfRWmwrAEJnMHjCoCmETrFrL0iy/VsU1icltj5RDS8T8LOsA2vFp8a6oeKz+6KGVQTuJ1opnOZqSN1EU5WDCBhZ8ORUJ/YnW0f7cRIxl9P3MdoTxPiWde51O7xyrDihfYP+ZHPwYbvyRV94PZClmNqeTQoh5YLmjbLaquzfNknsbc5cyNSeVoVOnfLJTpeSwAo5mOjGsjIqvZvUk3wH6LcEwTl2sptQwEPLXt6wgf3a1zkuuhlJHnJltJd846f02eBgPUNlfQQ9yosWTMrP0HeotpBljlybERlVIxNqMzL9TtwcKF0cWH/ZxAlAGWP0RU7BMBDkrIZa5+0zh9V+P/H9xcxFTXREGmbjVvxSJ31VFWyXjggOzGUsv+rzSI7AvWQEeud18WdO/Ck8upHTVkY/jsX/lhnHL5RmN/ew5cN8cz6/S8DXoIGNw8NYmW9onJyHm0egwuJFl+C7UdNu/44jvXoWaAjyQulZiOsLth0+XKDUWRQKkOjA6a5Ugxy3iB7LSnXNbBY9XekCArq7eVzqAOwTv++uRbztVnhmwXMNNxUzF1XjTvqku274YqTBtzM8rhgk58BWIy87mp5zIphYkv3V3+E1YSlefVMPzEN5Ow0ewQMghJWjrfwXKTzdH+zikViu3u0zAcVkIUCIFRL4+uj+cZJyUyBG/jrReIt8Rf+gJ/Xk7v9u1LYmMoDBf3zXhE8IJDkfBt+34yubeYDxbFbAsRv0r/ebWwr9bqHf/EKmYyUq+tzeEpSkZr2CaOlKuFWC8J6jduK//tYLD6yw0Pg8mvUf8m/bkmeL6Q2FEU0Wa4an/Z8Tw5FKUQI2ioot4DwFDe3wtRI2fz+iNrIzQWyDo1+QUCJVXDTnjZG+Qcmr/gwi7c47kqi9SM0frMbvvAg51SLqPvbjFSTBkFrjFx9Fp9NM3IcvmnoN1OcD5IP2Cs6xze/Pg/vk19EnShDbQJLj4KUeJc/hdwaGjw+qq3cAkKmX5Oi8Ls6E1HsHE85UXvR/NSgCcuBrLuVxf3J0FuQNSRlJk96uQCJ0jqsiEYUXbQ5/W7HCNl6PsQGy6ucFvlDn3wOzvitrPXsl9c9nyzcmRnkizgh/6aR7pPe4yzTuEVpi+OfRptZgcbCwjw1MgBwCNfXsiU8wenDZs6oQuqFD7ZbgNQwMB1IfuPHtKnzOI/Nkeu8yeqhQRsFT5/cQ0iP0Kzyn/W1r2faEXoMbAlXuJp7OrLcDwyjedHyokYlPnHc3KKJsC3Hj2GAxMYeVi5F9D0tWFOgM9FskveDCUSff4jrii+AKfcKcPuO9LDot1oPzuLHuB4Cb/wv1oBe/i1H8ncTtE2rycafeL4EI492+gI24EJyEqB2zM5Ck+NVl4tU/tTbENPw/r6xPPzzIA2RXtVIFF0Lc2+ubfIUbVU/HGlYJnX3aBeioO/6QAPEP/0xk/zYJsO3DQGEEVIa4UMotgFgzVM3fgWyTA4eIzKrtfJ/rCp+QFBevsCTThCUvJT3r1/MTXTLPsrxkjFRgQSARSR3+1dmpstoyk2pX+DH85HSK3R2WqClgNSOFw/yc5uHhbW/VlxeqUm1UEzqpCmCU+D7Nca5c0U7lSV6oJHIkVWXnHtWK+yhCqkGA8kuOiK450y/mvNCg5Fv2U49QXCOYf8dCY7EhuFcWP9kC5eNnzJz+ZiSvEuckyQSY0rHVPRVBw1GQT8iNIzc9oZyeHbEeCIiLTx6Ix/jFwZb/dkk/JeqRQi1FsuFbHL/5Mk743Wq8GIj4NfPQSFYfrTCnqlQUYAdXfsol1HE9J+WUQXf0GQtUYDB6vtq3CZiYFSKL/Axq6UOgfDVvC4jlsnBuYJf8crae/fqpxqHn5NyTFzj46s+O4jceO6WEkHCKP0f0hT73xPO5lrLnx61ybWtqSXjbxCGvL1clW0RZuXS5SKTNxF3jnoU7YwKQiZHVi+r/2oAn4DHjSJPUqhEMKAh9ORzD3eiYjVUoylKBd0E/wLDkNZz12jnswAeduW+fzywuNRkwz3MEQofyZozkb+GJ2J+tAOEnf+qr35mjmH2fHHHpx1NQBFJMm9kXkFlHDYtHu8QfD4Pgj/SsZvcdvwCehHpXaEMbrPR1lkJoPSFPUT+cYpoYbdrLCsNYMIV+HOSXGcbAoWX9mZpDY6lnL/g4ZiHqIoR9gqJddFjCHVHsvCvr4g1jUK17ZH0ZLCvNZBHcV/VEjHaavb10MmNSX6Gdnk8mWi9eSyUmumUb2RRXr7pkiIXGmwIJWGE5IbuE4+7ZoZYLr2Dfmlxh1VrjRpg0O8VxTtfnIs2BAFygSZvsnf2grTLWzVGNIAVSWaE/5RpVjsAKfMrcMTPTDlU9zb+3CD4Jm9TTzs6T7hIDPNjJIeIYryEfrI2rlje9H8x3N+MorzcrU6xgMNs8hJpNvvpWPwgJ8hRP0r7avXpF6mzdm12QWJADQHMi3+wZ33T7G2eicMURx4aZqzOHoW6wR/SXTdoPnwnH8ifOltsaxZEbgxKECkiCPK7uhAFrCidUu/MX+0gVr+RkDY78GfnqjhR3ie0JGiflzrMP3hhAROhdZ6m+X7sfPWPo/IKlYSqbhD/BSD3DdriT3Hqw77kOZuNlmYH9ngycN0eNWMaK00yL/OfrT5Qn2Ymov1NiqDyKPCnkY9AecFZB6PA+j1xnUceIIvNHzmcnQgfFveBDnCV1A09JkSMJEiUIrAZf+STIPNLXqd4D8w0U47/6pTRUog/QDmi9prj9PzCK6w+C3a3cYA3gdvDgfLX52CzPlSF2Pf1h9BnOmOv/R3R16/kOA45VlRpMtmzt9bR0jFEe3fdAUZQNFmaVQNVwBaR8lzuvoaVQQj0UmgnCY8E/uChKzQDs/+ZU3j9PfOFF43WkUkmXvCSj8qV7oU6rUt+Gclro+XSBiyurLYdONTzYNsD56vormabywpLdq2JYfhVIS8+USsIqwMJCa2Iseyqe/PbjPqpytiwpf1Vb156sHWw8xvOG1I5RXE90/JWho9bSt++ALpImxp8Xx1cUY8ZHvqmR5NiiUZ8Mwk9pTcqiy5lsSssE2X40aYNIvZaY4ll974lgIIQiFGj+RKKihYuH1wMkUoV+xXPQBWqhg9n/pt2cYCrA094gl0QDOSOs5j0XanXkqNBZ22SRcLYqAJsYcW7ktnyPiqZD74IA7AzEyer9r/6qvkJAc/0gbXWhCIYC3UEZezo3+0Lc98O5CMe7N3CcyyK41Z7/UjgnRKYER1FczDCaKpLrPONvfxpa5RbMBNAjzgHHuWNXijBD4iFTlhld3yUvPU2EXKNbhFkQ8TwG6U/N5BTWTfp+DNspnnyCrK29voSJ9jk4LpzfyRNncfHREJld3gEYhIQMcW0Nj+LhHfr1ZimifTeL8NsuCBkacc0KqRVrcTj4UFiOI4D70feUZWdEGl36z1jjRoHMcXv9KmitgHW/ve/00yaiFwtP7ZP7cP/kxNtMEijKeBXY0jG2LhhryGtmyigkWTCA0NHko+4mFc7lLCyizgU09EQA+Osq1m10pGDbdCCZh0LvUhQqOpSmRxp1osJeiz+y/Ohk9/5uV4F+y2gIm/DDG/2Nn1z9QHjN+ZJoA0qSMKO6cMOeWQ5Av7kWnyx5Hr6d4cOWLxhtQmto3lh5tBJIA16TzFYECP2Uwd34zVMA6JRQlloKpPo8ERWDyNWkPGkGRYZrfjFmwgAohDsVNeddH32eCOKityzAAziXhutBaKBTZTBHZPucNWLm8AAAAAfE14gaBJve2S0asjZRKJIlse8rFeNhdBY4tqZ9SJx2srX1KTIc39oPN9nZwPQs2i7tyEP36/Vuft0I/EjD7I7F1gnfmEbVebKqw2WsvrXb/WEur5Px6ovZBeIGtmEhxjraTgABGZZ0E3rmWG4Esp8d6sgeqkxxi9qq4GSoujUuocGmBjUyyJG6oPUbqsQJnfwWtAl/aVpYYnlWh/iQM9FOLJoD7huNbVV+69p9c8I0M8y+bfgRhjNnxppTh6/5XJexVVC/xLPXBBzAXhMmYDKd61E2WZFXVA8SwHN7Azrj9FbiDE+6MY4WR16prGIB3JNqADs02oAAACuc33w0m8leOtmrctxHtjJFpsE2AAAA==)"
   ]
  },
  {
   "cell_type": "markdown",
   "id": "9ac0e078",
   "metadata": {
    "papermill": {
     "duration": null,
     "end_time": null,
     "exception": null,
     "start_time": null,
     "status": "pending"
    },
    "tags": []
   },
   "source": [
    "## The three parts of NIfTI images\n",
    "\n",
    "NIfTI images can be roughly divided into three \"parts\":\n",
    "\n",
    "1. The header with metadata\n",
    "2. The image data\n",
    "3. The affine matrix"
   ]
  },
  {
   "cell_type": "markdown",
   "id": "30aea307",
   "metadata": {
    "papermill": {
     "duration": null,
     "end_time": null,
     "exception": null,
     "start_time": null,
     "status": "pending"
    },
    "tags": []
   },
   "source": [
    "### The header\n",
    "The header of nifti files contains metadata about the scan, such as the units of measurement, the voxel size, etc. In `Nifti1Images`, the header is an attribute:"
   ]
  },
  {
   "cell_type": "code",
   "execution_count": null,
   "id": "bbbd39ff",
   "metadata": {
    "execution": {
     "iopub.execute_input": "2025-03-29T12:31:10.374874Z",
     "iopub.status.busy": "2025-03-29T12:31:10.374563Z",
     "iopub.status.idle": "2025-03-29T12:31:10.383745Z",
     "shell.execute_reply": "2025-03-29T12:31:10.382721Z",
     "shell.execute_reply.started": "2025-03-29T12:31:10.374848Z"
    },
    "papermill": {
     "duration": null,
     "end_time": null,
     "exception": null,
     "start_time": null,
     "status": "pending"
    },
    "tags": []
   },
   "outputs": [],
   "source": [
    "# store header attribute in a new variable, for ease of use\n",
    "img_t1 = nib.load('/kaggle/working/BraTS2021_00495_t1.nii.gz')\n",
    "hdr = img_t1.header\n",
    "print(type(hdr))"
   ]
  },
  {
   "cell_type": "code",
   "execution_count": null,
   "id": "7ba75750",
   "metadata": {
    "execution": {
     "iopub.execute_input": "2025-03-29T12:31:10.385189Z",
     "iopub.status.busy": "2025-03-29T12:31:10.384888Z",
     "iopub.status.idle": "2025-03-29T12:31:10.402437Z",
     "shell.execute_reply": "2025-03-29T12:31:10.401263Z",
     "shell.execute_reply.started": "2025-03-29T12:31:10.385163Z"
    },
    "papermill": {
     "duration": null,
     "end_time": null,
     "exception": null,
     "start_time": null,
     "status": "pending"
    },
    "tags": []
   },
   "outputs": [],
   "source": [
    "# Metadata Stored in the Header file\n",
    "print(img_t1.header)"
   ]
  },
  {
   "cell_type": "markdown",
   "id": "fa85467b",
   "metadata": {
    "papermill": {
     "duration": null,
     "end_time": null,
     "exception": null,
     "start_time": null,
     "status": "pending"
    },
    "tags": []
   },
   "source": [
    "The header is a custom `Nifti1Header` object with its own methods and attributes. For example, we can call the method `get_zooms()` to see the voxel size (and optionally the sampling rate with `get_xyzt_units()`, if it's a fMRI file)."
   ]
  },
  {
   "cell_type": "markdown",
   "id": "8d8ecbbc",
   "metadata": {
    "papermill": {
     "duration": null,
     "end_time": null,
     "exception": null,
     "start_time": null,
     "status": "pending"
    },
    "tags": []
   },
   "source": [
    "### The data\n",
    "Creating a `Nifti1Image` object doesn't load the _actual_ data (ie. voxel intensities) in the memory. This is postponed because it's a memory-intensive operation: loading in a scan with 240 x 240 x 155 is almost 9 million numbers! By postponing the loading the data, we can take a peek of the image dimensions without loading all the data in the memory.\n",
    "\n",
    "To load in the data, we use `get_fdata()` method, which will return a numpy array with the same dimensions as the image data. Let's take a look:"
   ]
  },
  {
   "cell_type": "code",
   "execution_count": null,
   "id": "d427a147",
   "metadata": {
    "execution": {
     "iopub.execute_input": "2025-03-29T12:31:10.403850Z",
     "iopub.status.busy": "2025-03-29T12:31:10.403465Z",
     "iopub.status.idle": "2025-03-29T12:31:10.524627Z",
     "shell.execute_reply": "2025-03-29T12:31:10.523521Z",
     "shell.execute_reply.started": "2025-03-29T12:31:10.403824Z"
    },
    "papermill": {
     "duration": null,
     "end_time": null,
     "exception": null,
     "start_time": null,
     "status": "pending"
    },
    "tags": []
   },
   "outputs": [],
   "source": [
    "t1_img_data = img_t1.get_fdata()\n",
    "\n",
    "print(type(t1_img_data)) # it's a numpy memory-map\n",
    "print(f\"T1 Shape: {t1_img_data.shape}\")"
   ]
  },
  {
   "cell_type": "markdown",
   "id": "02f3326c",
   "metadata": {
    "papermill": {
     "duration": null,
     "end_time": null,
     "exception": null,
     "start_time": null,
     "status": "pending"
    },
    "tags": []
   },
   "source": [
    "### The affine\n",
    "The affine matrix relates the position of the image coordinates to real world coordinates. In other words, we have some voxel space coordinate $(i, j, k)$ and we want to generate the reference (\"real world\") space coordinate $(x, y, z)$:\n",
    "- The affine matrix defines how the image is aligned in physical space (real-world coordinates.\n",
    "- It maps voxel indices to a coordinate system used in neuroimaging.\n",
    "- This is crucial for registration (aligning images from different scans or patients).\n",
    "\n",
    "$$\n",
    "\\left(\\begin{array}{cc}\n",
    "x, & y, & z\n",
    "\\end{array}\\right)= f\n",
    "\\left(\\begin{array}{cc}\n",
    "i,&j,&k\n",
    "\\end{array}\\right)\n",
    "$$\n",
    "\n",
    "$f$ is our coordinate transform function that accepts a voxel coordinate and returns a coordinate in the reference space. Since we know that the scanner collects data on a regular grid, the relationship between $(i, j, k)$ and $(x, y, z)$ is [linear](https://en.wikipedia.org/wiki/Linear_map) and can be encoded with the linear [affine transformations](https://en.wikipedia.org/wiki/Affine_transformation) comprising translations, rotations, and scaling.\n",
    "\n",
    "<img src='https://external-content.duckduckgo.com/iu/?u=https%3A%2F%2Fimage.slideserve.com%2F578986%2Faffine-transforms-aka-linear-geometric-l.jpg&f=1&nofb=1' width='500pxl'>\n",
    "\n",
    "Image source: [https://www.slideserve.com/ostinmannual/spatial-processing](https://www.slideserve.com/ostinmannual/spatial-processing)"
   ]
  },
  {
   "cell_type": "markdown",
   "id": "91a55adf",
   "metadata": {
    "papermill": {
     "duration": null,
     "end_time": null,
     "exception": null,
     "start_time": null,
     "status": "pending"
    },
    "tags": []
   },
   "source": [
    "<!-- Let’s sketch a scenario in which the image’s affine becomes important.\n",
    "Suppose you were given a NIfTI file by a colleague (we’ll pretend that the `img` variable represents this mysterious NIfTI file). You have no idea whether it’s even a brain scan, so you decide to plot three slices - one from each of the three axes.\n",
    "\n",
    "First, let's get the coordinates for the middle voxel in the data array: -->"
   ]
  },
  {
   "cell_type": "code",
   "execution_count": null,
   "id": "45d38a3f",
   "metadata": {
    "execution": {
     "iopub.execute_input": "2025-03-29T12:31:10.526030Z",
     "iopub.status.busy": "2025-03-29T12:31:10.525749Z",
     "iopub.status.idle": "2025-03-29T12:31:10.532476Z",
     "shell.execute_reply": "2025-03-29T12:31:10.531254Z",
     "shell.execute_reply.started": "2025-03-29T12:31:10.526003Z"
    },
    "papermill": {
     "duration": null,
     "end_time": null,
     "exception": null,
     "start_time": null,
     "status": "pending"
    },
    "tags": []
   },
   "outputs": [],
   "source": [
    "A = img_t1.affine\n",
    "print(A)"
   ]
  },
  {
   "cell_type": "code",
   "execution_count": null,
   "id": "977ad345",
   "metadata": {
    "execution": {
     "iopub.execute_input": "2025-03-29T12:31:10.534045Z",
     "iopub.status.busy": "2025-03-29T12:31:10.533711Z",
     "iopub.status.idle": "2025-03-29T12:31:10.551981Z",
     "shell.execute_reply": "2025-03-29T12:31:10.550958Z",
     "shell.execute_reply.started": "2025-03-29T12:31:10.534017Z"
    },
    "papermill": {
     "duration": null,
     "end_time": null,
     "exception": null,
     "start_time": null,
     "status": "pending"
    },
    "tags": []
   },
   "outputs": [],
   "source": [
    "n_i, n_j, n_k = t1_img_data.shape\n",
    "i = (n_i - 1) // 2 \n",
    "j = (n_j - 1) // 2\n",
    "k = (n_k - 1) // 2\n",
    "print(t1_img_data.shape)\n",
    "print(i, j, k)"
   ]
  },
  {
   "cell_type": "markdown",
   "id": "c4e9f896",
   "metadata": {
    "papermill": {
     "duration": null,
     "end_time": null,
     "exception": null,
     "start_time": null,
     "status": "pending"
    },
    "tags": []
   },
   "source": [
    "<!-- The values $(119, 119, 77)$ are indices center into the data array `img_data`. We call this a \"voxel coordinate\" (ie. a coordinate into the voxel array).\n",
    "\n",
    "Now, let's view slices over the first, second and third dimensions of the array using the center coordinates: -->"
   ]
  },
  {
   "cell_type": "markdown",
   "id": "874b6f3b",
   "metadata": {
    "papermill": {
     "duration": null,
     "end_time": null,
     "exception": null,
     "start_time": null,
     "status": "pending"
    },
    "tags": []
   },
   "source": [
    "### Define Function to Visualize Slices of the Data"
   ]
  },
  {
   "cell_type": "code",
   "execution_count": null,
   "id": "2634ba0d",
   "metadata": {
    "execution": {
     "iopub.execute_input": "2025-03-29T12:31:10.553341Z",
     "iopub.status.busy": "2025-03-29T12:31:10.553022Z",
     "iopub.status.idle": "2025-03-29T12:31:10.924276Z",
     "shell.execute_reply": "2025-03-29T12:31:10.923212Z",
     "shell.execute_reply.started": "2025-03-29T12:31:10.553275Z"
    },
    "papermill": {
     "duration": null,
     "end_time": null,
     "exception": null,
     "start_time": null,
     "status": "pending"
    },
    "tags": []
   },
   "outputs": [],
   "source": [
    "# specify the indices for each slice (here using the center, as calculated in the previous cell)\n",
    "def make_slices(img_data):\n",
    "    n_i, n_j, n_k = t1_img_data.shape\n",
    "    i = (n_i - 1) // 2  # // for integer division\n",
    "    j = (n_j - 1) // 2\n",
    "    k = (n_k - 1) // 2\n",
    "    slice_0 = img_data[i, :, :]\n",
    "    slice_1 = img_data[:, j, :]\n",
    "    slice_2 = img_data[:, :, k]\n",
    "    return [slice_0, slice_1, slice_2]\n",
    "\n",
    "\n",
    "#Function to display row of image slices\n",
    "def show_slices(slices):\n",
    "    \n",
    "    fig, axes = plt.subplots(1, len(slices), figsize=(15,15))\n",
    "    for idx, slice in enumerate(slices):\n",
    "        axes[idx].imshow(slice.T, cmap=\"gray\", origin=\"lower\")\n",
    "        axes[idx].set_xticks([])\n",
    "        axes[idx].set_yticks([])\n",
    "\n",
    "    axes[0].set_xlabel('Second dim voxel coords.', fontsize=12)\n",
    "    axes[0].set_ylabel('Third dim voxel coords', fontsize=12)\n",
    "    axes[0].set_title('First dimension (i), slice {}'.format(i), fontsize=15)\n",
    "\n",
    "    axes[1].set_xlabel('First dim voxel coords.', fontsize=12)\n",
    "    axes[1].set_ylabel('Third dim voxel coords', fontsize=12)\n",
    "    axes[1].set_title('Second dimension (j), slice {}'.format(j), fontsize=15)\n",
    "\n",
    "    axes[2].set_xlabel('First dim voxel coords.', fontsize=12)\n",
    "    axes[2].set_ylabel('Second dim voxel coords', fontsize=12)\n",
    "    axes[2].set_title('Third dimension (k), slice {}'.format(k), fontsize=15)\n",
    "\n",
    "# display slices calling our function\n",
    "show_slices(make_slices(t1_img_data))"
   ]
  },
  {
   "cell_type": "markdown",
   "id": "ce80647b",
   "metadata": {
    "papermill": {
     "duration": null,
     "end_time": null,
     "exception": null,
     "start_time": null,
     "status": "pending"
    },
    "tags": []
   },
   "source": [
    "<img src=\"https://openbooks.lib.msu.edu/app/uploads/sites/6/2021/03/AnatomicalPlanes.png\">"
   ]
  },
  {
   "cell_type": "markdown",
   "id": "00fab939",
   "metadata": {
    "papermill": {
     "duration": null,
     "end_time": null,
     "exception": null,
     "start_time": null,
     "status": "pending"
    },
    "tags": []
   },
   "source": [
    "## Pre-processing with MONAI\n",
    "\n",
    "Check [this](https://docs.monai.io/en/stable/transforms.html) attached document for more of monai transforms"
   ]
  },
  {
   "cell_type": "markdown",
   "id": "8d46e3e9",
   "metadata": {
    "papermill": {
     "duration": null,
     "end_time": null,
     "exception": null,
     "start_time": null,
     "status": "pending"
    },
    "tags": []
   },
   "source": [
    "### Normalization\n",
    "Normalization is commonly used to improve the contrast in an image without distorting relative graylevel intensities too significantly.\n",
    "\n",
    "The [normalization process](https://www.ncbi.nlm.nih.gov/pmc/articles/PMC4215426/) should produce units that:\n",
    "\n",
    "1. have a common interpretation across locations within the same tissue type\n",
    "2. are replicable\n",
    "3. preserve the rank of intensities\n",
    "4. have similar distributions for the same tissues of interest within and across patients\n",
    "5. are not influenced by biological abnormality or population heterogeneity\n",
    "6. are minimally sensitive to noise and artifacts and\n",
    "7. do not result in loss of information associated with pathology or other phenomena."
   ]
  },
  {
   "cell_type": "code",
   "execution_count": null,
   "id": "7d07d437",
   "metadata": {
    "execution": {
     "iopub.execute_input": "2025-03-29T12:31:10.925776Z",
     "iopub.status.busy": "2025-03-29T12:31:10.925406Z",
     "iopub.status.idle": "2025-03-29T12:31:10.930577Z",
     "shell.execute_reply": "2025-03-29T12:31:10.929461Z",
     "shell.execute_reply.started": "2025-03-29T12:31:10.925743Z"
    },
    "papermill": {
     "duration": null,
     "end_time": null,
     "exception": null,
     "start_time": null,
     "status": "pending"
    },
    "tags": []
   },
   "outputs": [],
   "source": [
    "import warnings\n",
    "warnings.filterwarnings(\"ignore\")  #This will completely hide all warnings, which might not always be ideal."
   ]
  },
  {
   "cell_type": "code",
   "execution_count": null,
   "id": "141e05bf",
   "metadata": {
    "execution": {
     "iopub.execute_input": "2025-03-29T12:31:10.932270Z",
     "iopub.status.busy": "2025-03-29T12:31:10.931868Z",
     "iopub.status.idle": "2025-03-29T12:31:12.611362Z",
     "shell.execute_reply": "2025-03-29T12:31:12.610023Z",
     "shell.execute_reply.started": "2025-03-29T12:31:10.932231Z"
    },
    "papermill": {
     "duration": null,
     "end_time": null,
     "exception": null,
     "start_time": null,
     "status": "pending"
    },
    "tags": []
   },
   "outputs": [],
   "source": [
    "from monai.transforms import ScaleIntensity, NormalizeIntensity\n",
    "import seaborn as sns\n",
    "import torch\n",
    "\n",
    "#Convert the 3D image data to 4D [chanel, x, y, z]\n",
    "t1_img_data = torch.tensor(t1_img_data)  # Convert to torch.Tensor\n",
    "image_plus_dim = t1_img_data.unsqueeze(0) #Add a channel dimension → Shape becomes (1, 240, 240, 155)\n",
    "\n",
    "# Normalize intensity to range [0, 1]\n",
    "scaler = ScaleIntensity(minv=0, maxv=1)\n",
    "normalized_img = scaler(image_plus_dim)\n",
    "normalized_img = normalized_img.squeeze(0)  # Squeeze to remove channel dimension\n",
    "\n",
    "\n",
    "fig, axes = plt.subplots(2, 1)\n",
    "sns.distplot(image_plus_dim, ax=axes[0], kde=False)\n",
    "sns.distplot(normalized_img, ax=axes[1], kde=False)\n",
    "axes[0].set_title('Original histogram')\n",
    "axes[1].set_title('Scaled Intensity')\n",
    "axes[0].set_ylim((0, 1e6))\n",
    "axes[1].set_ylim((0, 1e6))\n",
    "plt.tight_layout()"
   ]
  },
  {
   "cell_type": "code",
   "execution_count": null,
   "id": "b4680193",
   "metadata": {
    "execution": {
     "iopub.execute_input": "2025-03-29T12:31:12.612705Z",
     "iopub.status.busy": "2025-03-29T12:31:12.612363Z",
     "iopub.status.idle": "2025-03-29T12:31:12.966168Z",
     "shell.execute_reply": "2025-03-29T12:31:12.965109Z",
     "shell.execute_reply.started": "2025-03-29T12:31:12.612677Z"
    },
    "papermill": {
     "duration": null,
     "end_time": null,
     "exception": null,
     "start_time": null,
     "status": "pending"
    },
    "tags": []
   },
   "outputs": [],
   "source": [
    "# Display the normalized Image \n",
    "show_slices(make_slices(normalized_img))"
   ]
  },
  {
   "cell_type": "code",
   "execution_count": null,
   "id": "9bb2d1e7",
   "metadata": {
    "execution": {
     "iopub.execute_input": "2025-03-29T12:31:12.967786Z",
     "iopub.status.busy": "2025-03-29T12:31:12.967347Z",
     "iopub.status.idle": "2025-03-29T12:31:14.531072Z",
     "shell.execute_reply": "2025-03-29T12:31:14.530027Z",
     "shell.execute_reply.started": "2025-03-29T12:31:12.967754Z"
    },
    "papermill": {
     "duration": null,
     "end_time": null,
     "exception": null,
     "start_time": null,
     "status": "pending"
    },
    "tags": []
   },
   "outputs": [],
   "source": [
    "# Normalize using Z-score (mean=0, std=1)\n",
    "normalizer = NormalizeIntensity()\n",
    "normalized_img_zscore = normalizer(image_plus_dim)\n",
    "\n",
    "fig, axes = plt.subplots(2, 1)\n",
    "sns.distplot(image_plus_dim, ax=axes[0], kde=False)\n",
    "sns.distplot(normalized_img_zscore, ax=axes[1], kde=False)\n",
    "axes[0].set_title('Original histogram')\n",
    "axes[1].set_title('Z-normalization')\n",
    "axes[0].set_ylim((0, 1e6))\n",
    "axes[1].set_ylim((0, 1e6))\n",
    "plt.tight_layout()"
   ]
  },
  {
   "cell_type": "markdown",
   "id": "699b74b1",
   "metadata": {
    "papermill": {
     "duration": null,
     "end_time": null,
     "exception": null,
     "start_time": null,
     "status": "pending"
    },
    "tags": []
   },
   "source": [
    "### Rescaling \n",
    "- Resample input image into the **specified pixdim**\n",
    "- Different MRI or CT scanners have different voxel resolutions (e.g., 1mm³ vs. 2mm³ voxels). Rescaling voxel spacing ensures that images are **isotropic**, meaning equal resolution in all dimensions.\n",
    "\n",
    "- High-resolution medical images require too much memory and slow down training. Rescaling to a lower resolution speeds up training while retaining essential features.\n"
   ]
  },
  {
   "cell_type": "code",
   "execution_count": null,
   "id": "34e19596",
   "metadata": {
    "execution": {
     "iopub.execute_input": "2025-03-29T12:31:14.532781Z",
     "iopub.status.busy": "2025-03-29T12:31:14.532409Z",
     "iopub.status.idle": "2025-03-29T12:31:16.744810Z",
     "shell.execute_reply": "2025-03-29T12:31:16.743574Z",
     "shell.execute_reply.started": "2025-03-29T12:31:14.532745Z"
    },
    "papermill": {
     "duration": null,
     "end_time": null,
     "exception": null,
     "start_time": null,
     "status": "pending"
    },
    "tags": []
   },
   "outputs": [],
   "source": [
    "from monai.transforms import Spacing\n",
    "\n",
    "# Rescale image to a new voxel spacing\n",
    "rescale_transform = Spacing(pixdim=(0.85, 0.85, 0.85), mode=\"linear\") # in mm\n",
    "rescaled_img = rescale_transform(image_plus_dim)\n",
    "rescaled_img = rescaled_img.squeeze(0)\n",
    "\n",
    "print(\"Image Before and After Rescaling\")\n",
    "show_slices(make_slices(t1_img_data))\n",
    "\n",
    "show_slices(make_slices(rescaled_img))\n"
   ]
  },
  {
   "cell_type": "markdown",
   "id": "21d9c590",
   "metadata": {
    "papermill": {
     "duration": null,
     "end_time": null,
     "exception": null,
     "start_time": null,
     "status": "pending"
    },
    "tags": []
   },
   "source": [
    "### Reshaping \n",
    "- Reshaping is crucial in medical image processing because medical images come in different shapes and dimensionalities (2D vs. 3D). Reshaping ensures compatibility with deep learning models, standardizes input formats, and enables efficient processing.\n"
   ]
  },
  {
   "cell_type": "code",
   "execution_count": null,
   "id": "2921a291",
   "metadata": {
    "execution": {
     "iopub.execute_input": "2025-03-29T12:31:16.746377Z",
     "iopub.status.busy": "2025-03-29T12:31:16.746040Z",
     "iopub.status.idle": "2025-03-29T12:31:17.178270Z",
     "shell.execute_reply": "2025-03-29T12:31:17.176858Z",
     "shell.execute_reply.started": "2025-03-29T12:31:16.746343Z"
    },
    "papermill": {
     "duration": null,
     "end_time": null,
     "exception": null,
     "start_time": null,
     "status": "pending"
    },
    "tags": []
   },
   "outputs": [],
   "source": [
    "from monai.transforms import Resize\n",
    "import torch\n",
    "\n",
    "# Resize to (128, 128, 128)\n",
    "resize_transform = Resize(spatial_size=(200,200,128), mode='linear',align_corners= True)\n",
    "resized_img = resize_transform(image_plus_dim)\n",
    "\n",
    "print(\"Image Before Reshaping\")\n",
    "print(f\"Shape: {t1_img_data.shape}\")\n",
    "show_slices(make_slices(t1_img_data))"
   ]
  },
  {
   "cell_type": "code",
   "execution_count": null,
   "id": "927bd0ed",
   "metadata": {
    "execution": {
     "iopub.execute_input": "2025-03-29T12:31:17.179924Z",
     "iopub.status.busy": "2025-03-29T12:31:17.179493Z",
     "iopub.status.idle": "2025-03-29T12:31:17.540170Z",
     "shell.execute_reply": "2025-03-29T12:31:17.538867Z",
     "shell.execute_reply.started": "2025-03-29T12:31:17.179884Z"
    },
    "papermill": {
     "duration": null,
     "end_time": null,
     "exception": null,
     "start_time": null,
     "status": "pending"
    },
    "tags": []
   },
   "outputs": [],
   "source": [
    "print(\"Image After Reshaping\")\n",
    "\n",
    "resized_img = resized_img.squeeze(0) #Removing the Channel dimension (C H W D -> W W D)\n",
    "print(f\"Shape: {resized_img.shape}\") #\n",
    "show_slices(make_slices(resized_img))"
   ]
  },
  {
   "cell_type": "markdown",
   "id": "170d7977",
   "metadata": {
    "papermill": {
     "duration": null,
     "end_time": null,
     "exception": null,
     "start_time": null,
     "status": "pending"
    },
    "tags": []
   },
   "source": [
    "## Pre-processing with TorchIo"
   ]
  },
  {
   "cell_type": "markdown",
   "id": "59d1a936",
   "metadata": {
    "papermill": {
     "duration": null,
     "end_time": null,
     "exception": null,
     "start_time": null,
     "status": "pending"
    },
    "tags": []
   },
   "source": [
    "### Normalization"
   ]
  },
  {
   "cell_type": "code",
   "execution_count": null,
   "id": "1ac9036f",
   "metadata": {
    "execution": {
     "iopub.execute_input": "2025-03-29T13:58:52.698669Z",
     "iopub.status.busy": "2025-03-29T13:58:52.698245Z",
     "iopub.status.idle": "2025-03-29T13:58:52.754584Z",
     "shell.execute_reply": "2025-03-29T13:58:52.753472Z",
     "shell.execute_reply.started": "2025-03-29T13:58:52.698631Z"
    },
    "papermill": {
     "duration": null,
     "end_time": null,
     "exception": null,
     "start_time": null,
     "status": "pending"
    },
    "tags": []
   },
   "outputs": [],
   "source": [
    "import torchio as tio\n",
    "\n",
    "# Load a NIfTI image\n",
    "flair =tio.ScalarImage(\"/kaggle/working/BraTS2021_00495_flair.nii.gz\")\n",
    "flair"
   ]
  },
  {
   "cell_type": "markdown",
   "id": "e4adbcd5",
   "metadata": {
    "papermill": {
     "duration": null,
     "end_time": null,
     "exception": null,
     "start_time": null,
     "status": "pending"
    },
    "tags": []
   },
   "source": [
    "Read more [HERE](https://torchio.readthedocs.io/transforms/preprocessing.html#znormalization)"
   ]
  },
  {
   "cell_type": "code",
   "execution_count": null,
   "id": "34bc72eb",
   "metadata": {
    "execution": {
     "iopub.execute_input": "2025-03-29T12:31:17.602863Z",
     "iopub.status.busy": "2025-03-29T12:31:17.602538Z",
     "iopub.status.idle": "2025-03-29T12:31:18.267998Z",
     "shell.execute_reply": "2025-03-29T12:31:18.266841Z",
     "shell.execute_reply.started": "2025-03-29T12:31:17.602834Z"
    },
    "papermill": {
     "duration": null,
     "end_time": null,
     "exception": null,
     "start_time": null,
     "status": "pending"
    },
    "tags": []
   },
   "outputs": [],
   "source": [
    "# Apply Z-score normalization\n",
    "transform = tio.ZNormalization()\n",
    "normalized_img = transform(flair)\n",
    "print(normalized_img)\n",
    "show_slices(make_slices(normalized_img.data.squeeze(0)))"
   ]
  },
  {
   "cell_type": "markdown",
   "id": "925bed49",
   "metadata": {
    "papermill": {
     "duration": null,
     "end_time": null,
     "exception": null,
     "start_time": null,
     "status": "pending"
    },
    "tags": []
   },
   "source": [
    "### Rescaling "
   ]
  },
  {
   "cell_type": "code",
   "execution_count": null,
   "id": "0fc5e02e",
   "metadata": {
    "execution": {
     "iopub.execute_input": "2025-03-29T12:31:18.269564Z",
     "iopub.status.busy": "2025-03-29T12:31:18.269125Z",
     "iopub.status.idle": "2025-03-29T12:31:19.171019Z",
     "shell.execute_reply": "2025-03-29T12:31:19.169931Z",
     "shell.execute_reply.started": "2025-03-29T12:31:18.269523Z"
    },
    "papermill": {
     "duration": null,
     "end_time": null,
     "exception": null,
     "start_time": null,
     "status": "pending"
    },
    "tags": []
   },
   "outputs": [],
   "source": [
    "# Resample to isotropic 0.75mm voxel size\n",
    "transform = tio.Resample(target=0.75)\n",
    "rescaled_img = transform(normalized_img) ## Rescaling the normalized image to pixdim[0.75,0.75,0.75]\n",
    "print(rescaled_img)\n",
    "\n",
    "show_slices(make_slices(rescaled_img.data.squeeze(0))) # Display the mid slice of the image"
   ]
  },
  {
   "cell_type": "markdown",
   "id": "b37722af",
   "metadata": {
    "papermill": {
     "duration": null,
     "end_time": null,
     "exception": null,
     "start_time": null,
     "status": "pending"
    },
    "tags": []
   },
   "source": [
    "Read more [HERE](https://torchio.readthedocs.io/transforms/preprocessing.html#resample)"
   ]
  },
  {
   "cell_type": "markdown",
   "id": "303c3bfe",
   "metadata": {
    "papermill": {
     "duration": null,
     "end_time": null,
     "exception": null,
     "start_time": null,
     "status": "pending"
    },
    "tags": []
   },
   "source": [
    "### Reshaping"
   ]
  },
  {
   "cell_type": "code",
   "execution_count": null,
   "id": "14c9680f",
   "metadata": {
    "execution": {
     "iopub.execute_input": "2025-03-29T12:31:19.172434Z",
     "iopub.status.busy": "2025-03-29T12:31:19.172086Z",
     "iopub.status.idle": "2025-03-29T12:31:19.738677Z",
     "shell.execute_reply": "2025-03-29T12:31:19.737394Z",
     "shell.execute_reply.started": "2025-03-29T12:31:19.172404Z"
    },
    "papermill": {
     "duration": null,
     "end_time": null,
     "exception": null,
     "start_time": null,
     "status": "pending"
    },
    "tags": []
   },
   "outputs": [],
   "source": [
    "resize_transform = tio.Resize(target_shape=(200, 200, 128), image_interpolation='nearest')\n",
    "resized_img = resize_transform(rescaled_img) # Reshaping the rescaled image \n",
    "print(resized_img)\n",
    "\n",
    "show_slices(make_slices(resized_img.data.squeeze(0))) # Display the mid slice of the image"
   ]
  },
  {
   "cell_type": "markdown",
   "id": "5bacc65a",
   "metadata": {
    "papermill": {
     "duration": null,
     "end_time": null,
     "exception": null,
     "start_time": null,
     "status": "pending"
    },
    "tags": []
   },
   "source": [
    "Read more from the [documentary](https://torchio.readthedocs.io/transforms/preprocessing.html#resize)\n",
    "\n",
    "ALso check this [Medium](https://medium.com/@toufiqmusah32/introduction-to-torchio-for-3d-mri-processing-preprocessing-transforms-part-1-87947c339400) article \"Introduction to TorchIO for 3D MRI Processing: Preprocessing Transforms (Part 1)\" By Toufiq Musah a SPARK team coordinator "
   ]
  },
  {
   "cell_type": "markdown",
   "id": "86256d16",
   "metadata": {
    "papermill": {
     "duration": null,
     "end_time": null,
     "exception": null,
     "start_time": null,
     "status": "pending"
    },
    "tags": []
   },
   "source": [
    "# Data Augmentation¶\n",
    "\n",
    "**Importance:**\n",
    "\n",
    "- Augmentations mimic real-world variability (patient movement, scanner differences).\n",
    "- Helps models generalize better across different datasets.\n",
    "\n",
    "- Prevents overfitting, ensuring the model doesn't memorize training data.\n",
    "- Enhances model robustness to spatial transformations."
   ]
  },
  {
   "cell_type": "markdown",
   "id": "16e299a6",
   "metadata": {
    "papermill": {
     "duration": null,
     "end_time": null,
     "exception": null,
     "start_time": null,
     "status": "pending"
    },
    "tags": []
   },
   "source": [
    "## Geometric"
   ]
  },
  {
   "cell_type": "markdown",
   "id": "ec9eb5cb",
   "metadata": {
    "papermill": {
     "duration": null,
     "end_time": null,
     "exception": null,
     "start_time": null,
     "status": "pending"
    },
    "tags": []
   },
   "source": [
    "### Crop and Pad\n",
    "\n",
    "- Cropping: Helps focus on regions of interest (e.g., tumors) and reduces computation by removing irrelevant background.\n",
    "- Padding: Ensures that images have a consistent size when they are too small, which is necessary for batch processing in deep learning."
   ]
  },
  {
   "cell_type": "code",
   "execution_count": null,
   "id": "2422d917",
   "metadata": {
    "execution": {
     "iopub.execute_input": "2025-03-29T12:31:19.740109Z",
     "iopub.status.busy": "2025-03-29T12:31:19.739801Z",
     "iopub.status.idle": "2025-03-29T12:31:20.911933Z",
     "shell.execute_reply": "2025-03-29T12:31:20.910680Z",
     "shell.execute_reply.started": "2025-03-29T12:31:19.740080Z"
    },
    "papermill": {
     "duration": null,
     "end_time": null,
     "exception": null,
     "start_time": null,
     "status": "pending"
    },
    "tags": []
   },
   "outputs": [],
   "source": [
    "from monai.transforms import CenterSpatialCrop\n",
    "from monai.transforms import SpatialPad\n",
    "\n",
    "# Crop the center to a region of interest with size (200, 200, 130)\n",
    "crop_transform = CenterSpatialCrop(roi_size=(200, 200, 130))\n",
    "cropped_image = crop_transform(image_plus_dim)\n",
    "\n",
    "print(f\"Image Before and After Cropping and Padding\") \n",
    "show_slices(make_slices(image_plus_dim.squeeze(0)))\n",
    "\n",
    "show_slices(make_slices(cropped_image.squeeze(0)))\n",
    "\n",
    "# Pad the cropped image so that its spatial dimension equals that of the original image \n",
    "\n",
    "pad_transform = SpatialPad(spatial_size=(t1_img_data.shape))\n",
    "padded_image = pad_transform(cropped_image)\n",
    "\n",
    "show_slices(make_slices(padded_image.squeeze(0)))"
   ]
  },
  {
   "cell_type": "code",
   "execution_count": null,
   "id": "c2bd2185",
   "metadata": {
    "execution": {
     "iopub.execute_input": "2025-03-29T12:31:20.913343Z",
     "iopub.status.busy": "2025-03-29T12:31:20.913001Z",
     "iopub.status.idle": "2025-03-29T12:31:21.430702Z",
     "shell.execute_reply": "2025-03-29T12:31:21.429493Z",
     "shell.execute_reply.started": "2025-03-29T12:31:20.913287Z"
    },
    "papermill": {
     "duration": null,
     "end_time": null,
     "exception": null,
     "start_time": null,
     "status": "pending"
    },
    "tags": []
   },
   "outputs": [],
   "source": [
    "## With TorchIO\n",
    "\n",
    "# Define a transform to crop or pad the image to the target size (200, 200, 130)\n",
    "crop_or_pad_transform = tio.CropOrPad((200, 200, 130))\n",
    "\n",
    "# Apply the transform\n",
    "tio_padded_img = crop_or_pad_transform(image_plus_dim)\n",
    "\n",
    "#visualize the slices\n",
    "show_slices(make_slices(tio_padded_img.squeeze(0)))"
   ]
  },
  {
   "cell_type": "markdown",
   "id": "2c78819b",
   "metadata": {
    "papermill": {
     "duration": null,
     "end_time": null,
     "exception": null,
     "start_time": null,
     "status": "pending"
    },
    "tags": []
   },
   "source": [
    "### Rotation\n",
    "\n",
    "- Rotates the image around a given axis.\n",
    "- Helps the model learn rotation-invariant features, especially in 3D medical images (CT, MRI)."
   ]
  },
  {
   "cell_type": "code",
   "execution_count": null,
   "id": "4ae0f884",
   "metadata": {
    "execution": {
     "iopub.execute_input": "2025-03-29T12:31:21.432532Z",
     "iopub.status.busy": "2025-03-29T12:31:21.432063Z",
     "iopub.status.idle": "2025-03-29T12:31:22.999411Z",
     "shell.execute_reply": "2025-03-29T12:31:22.997945Z",
     "shell.execute_reply.started": "2025-03-29T12:31:21.432484Z"
    },
    "papermill": {
     "duration": null,
     "end_time": null,
     "exception": null,
     "start_time": null,
     "status": "pending"
    },
    "tags": []
   },
   "outputs": [],
   "source": [
    "from monai.transforms import RandRotate\n",
    "\n",
    "rotate_transform = RandRotate(range_x=15, prob=1.0)  # Rotate ±15 degrees\n",
    "rotated_image = rotate_transform(image_plus_dim)\n",
    "\n",
    "\n",
    "print(f\"Image Before and After Rotation\") \n",
    "show_slices(make_slices(image_plus_dim.squeeze(0)))\n",
    "\n",
    "show_slices(make_slices(rotated_image.squeeze(0)))"
   ]
  },
  {
   "cell_type": "code",
   "execution_count": null,
   "id": "d5e23f08",
   "metadata": {
    "execution": {
     "iopub.execute_input": "2025-03-29T12:31:23.001071Z",
     "iopub.status.busy": "2025-03-29T12:31:23.000704Z",
     "iopub.status.idle": "2025-03-29T12:31:23.789837Z",
     "shell.execute_reply": "2025-03-29T12:31:23.788508Z",
     "shell.execute_reply.started": "2025-03-29T12:31:23.001029Z"
    },
    "papermill": {
     "duration": null,
     "end_time": null,
     "exception": null,
     "start_time": null,
     "status": "pending"
    },
    "tags": []
   },
   "outputs": [],
   "source": [
    "## Using TorchIO\n",
    "rotate_transform = tio.RandomAffine(degrees=(20, 20, 20))  # Rotate randomly within ±20 degrees\n",
    "tio_rotated_image = rotate_transform(image_plus_dim)\n",
    "\n",
    "show_slices(make_slices(tio_rotated_image.squeeze(0)))"
   ]
  },
  {
   "cell_type": "markdown",
   "id": "53cf1b75",
   "metadata": {
    "papermill": {
     "duration": null,
     "end_time": null,
     "exception": null,
     "start_time": null,
     "status": "pending"
    },
    "tags": []
   },
   "source": [
    "### Flipping\n",
    "\n",
    "- Mirrors the image along a chosen axis."
   ]
  },
  {
   "cell_type": "code",
   "execution_count": null,
   "id": "21946063",
   "metadata": {
    "execution": {
     "iopub.execute_input": "2025-03-29T12:31:23.791187Z",
     "iopub.status.busy": "2025-03-29T12:31:23.790879Z",
     "iopub.status.idle": "2025-03-29T12:31:24.518545Z",
     "shell.execute_reply": "2025-03-29T12:31:24.517386Z",
     "shell.execute_reply.started": "2025-03-29T12:31:23.791150Z"
    },
    "papermill": {
     "duration": null,
     "end_time": null,
     "exception": null,
     "start_time": null,
     "status": "pending"
    },
    "tags": []
   },
   "outputs": [],
   "source": [
    "from monai.transforms import Flip\n",
    "\n",
    "flip_transform = Flip(spatial_axis=0)  # Flip along the first spatial axis\n",
    "flipped_image = flip_transform(image_plus_dim)\n",
    "\n",
    "print(f\"Slices Before and After Flipping\")\n",
    "show_slices(make_slices(image_plus_dim.squeeze(0)))\n",
    "\n",
    "show_slices(make_slices(flipped_image.squeeze(0)))"
   ]
  },
  {
   "cell_type": "code",
   "execution_count": null,
   "id": "af962eb3",
   "metadata": {
    "execution": {
     "iopub.execute_input": "2025-03-29T12:31:24.519920Z",
     "iopub.status.busy": "2025-03-29T12:31:24.519615Z",
     "iopub.status.idle": "2025-03-29T12:31:24.936503Z",
     "shell.execute_reply": "2025-03-29T12:31:24.935343Z",
     "shell.execute_reply.started": "2025-03-29T12:31:24.519892Z"
    },
    "papermill": {
     "duration": null,
     "end_time": null,
     "exception": null,
     "start_time": null,
     "status": "pending"
    },
    "tags": []
   },
   "outputs": [],
   "source": [
    "## Using TorchIO\n",
    "flip_transform = tio.RandomFlip(axes=(1,))  # Flip along the second axis\n",
    "tio_flipped_image = flip_transform(image_plus_dim)\n",
    "\n",
    "print(f\"Slices After Flipping\")\n",
    "show_slices(make_slices(tio_flipped_image.squeeze(0)))"
   ]
  },
  {
   "cell_type": "markdown",
   "id": "18732515",
   "metadata": {
    "papermill": {
     "duration": null,
     "end_time": null,
     "exception": null,
     "start_time": null,
     "status": "pending"
    },
    "tags": []
   },
   "source": [
    "### Scaling\n",
    "\n",
    "- Enlarges or shrinks the image.\n",
    "- Helps simulate variations in patient anatomy and imaging conditions.\n"
   ]
  },
  {
   "cell_type": "code",
   "execution_count": null,
   "id": "b0f6b8f1",
   "metadata": {
    "execution": {
     "iopub.execute_input": "2025-03-29T12:31:24.937952Z",
     "iopub.status.busy": "2025-03-29T12:31:24.937627Z",
     "iopub.status.idle": "2025-03-29T12:31:27.623684Z",
     "shell.execute_reply": "2025-03-29T12:31:27.622445Z",
     "shell.execute_reply.started": "2025-03-29T12:31:24.937926Z"
    },
    "papermill": {
     "duration": null,
     "end_time": null,
     "exception": null,
     "start_time": null,
     "status": "pending"
    },
    "tags": []
   },
   "outputs": [],
   "source": [
    "from monai.transforms import RandAffine\n",
    "\n",
    "scale_transform = RandAffine(scale_range=(0.5, 1.5), prob=0.6)  # Scale ±10%\n",
    "scaled_image = scale_transform(image_plus_dim)\n",
    "\n",
    "print(f\"Slices Before and After Scaling\")\n",
    "show_slices(make_slices(image_plus_dim.squeeze(0)))\n",
    "\n",
    "show_slices(make_slices(scaled_image.squeeze(0)))\n"
   ]
  },
  {
   "cell_type": "code",
   "execution_count": null,
   "id": "e7d3c627",
   "metadata": {
    "execution": {
     "iopub.execute_input": "2025-03-29T12:31:27.625136Z",
     "iopub.status.busy": "2025-03-29T12:31:27.624769Z",
     "iopub.status.idle": "2025-03-29T12:31:28.378576Z",
     "shell.execute_reply": "2025-03-29T12:31:28.377225Z",
     "shell.execute_reply.started": "2025-03-29T12:31:27.625106Z"
    },
    "papermill": {
     "duration": null,
     "end_time": null,
     "exception": null,
     "start_time": null,
     "status": "pending"
    },
    "tags": []
   },
   "outputs": [],
   "source": [
    "## Using TorchIO\n",
    "scale_transform = tio.RandomAffine(scales=(0.5, 1.5))  # Scale ±10%\n",
    "tio_scaled_image = scale_transform(image_plus_dim)\n",
    "\n",
    "show_slices(make_slices(tio_scaled_image.squeeze(0)))"
   ]
  },
  {
   "cell_type": "markdown",
   "id": "2751d898",
   "metadata": {
    "papermill": {
     "duration": null,
     "end_time": null,
     "exception": null,
     "start_time": null,
     "status": "pending"
    },
    "tags": []
   },
   "source": [
    "### Translation\n",
    "- Moves the image in a certain direction.\n",
    "- Simulates patient movement during scanning."
   ]
  },
  {
   "cell_type": "code",
   "execution_count": null,
   "id": "7d5ab8a6",
   "metadata": {
    "execution": {
     "iopub.execute_input": "2025-03-29T12:31:28.380462Z",
     "iopub.status.busy": "2025-03-29T12:31:28.380022Z",
     "iopub.status.idle": "2025-03-29T12:31:31.860290Z",
     "shell.execute_reply": "2025-03-29T12:31:31.859225Z",
     "shell.execute_reply.started": "2025-03-29T12:31:28.380417Z"
    },
    "papermill": {
     "duration": null,
     "end_time": null,
     "exception": null,
     "start_time": null,
     "status": "pending"
    },
    "tags": []
   },
   "outputs": [],
   "source": [
    "translate_transform = RandAffine(translate_range=(10, 10, 10), prob=1.0)  # Translate by ±10 voxels\n",
    "translated_image = translate_transform(image_plus_dim)\n",
    "\n",
    "print(f\"Slices Before and After Translation\")\n",
    "show_slices(make_slices(image_plus_dim.squeeze(0)))\n",
    "\n",
    "show_slices(make_slices(translated_image.squeeze(0)))"
   ]
  },
  {
   "cell_type": "code",
   "execution_count": null,
   "id": "f3749213",
   "metadata": {
    "execution": {
     "iopub.execute_input": "2025-03-29T12:31:31.861709Z",
     "iopub.status.busy": "2025-03-29T12:31:31.861403Z",
     "iopub.status.idle": "2025-03-29T12:31:32.636504Z",
     "shell.execute_reply": "2025-03-29T12:31:32.635386Z",
     "shell.execute_reply.started": "2025-03-29T12:31:31.861683Z"
    },
    "papermill": {
     "duration": null,
     "end_time": null,
     "exception": null,
     "start_time": null,
     "status": "pending"
    },
    "tags": []
   },
   "outputs": [],
   "source": [
    "## Using TorchIO\n",
    "translate_transform = tio.RandomAffine(translation=(10, 10, 10))  # Translate by ±10 voxels\n",
    "tio_translated_image = translate_transform(image_plus_dim)\n",
    "\n",
    "show_slices(make_slices(tio_translated_image.squeeze(0)))"
   ]
  },
  {
   "cell_type": "markdown",
   "id": "0bd09aaa",
   "metadata": {
    "papermill": {
     "duration": null,
     "end_time": null,
     "exception": null,
     "start_time": null,
     "status": "pending"
    },
    "tags": []
   },
   "source": [
    "## Intensity"
   ]
  },
  {
   "cell_type": "code",
   "execution_count": null,
   "id": "f8f3a0dd",
   "metadata": {
    "execution": {
     "iopub.execute_input": "2025-03-29T12:31:32.638128Z",
     "iopub.status.busy": "2025-03-29T12:31:32.637745Z",
     "iopub.status.idle": "2025-03-29T12:31:32.642530Z",
     "shell.execute_reply": "2025-03-29T12:31:32.641385Z",
     "shell.execute_reply.started": "2025-03-29T12:31:32.638091Z"
    },
    "papermill": {
     "duration": null,
     "end_time": null,
     "exception": null,
     "start_time": null,
     "status": "pending"
    },
    "tags": []
   },
   "outputs": [],
   "source": [
    "# Noise\n",
    "# Contrast\n",
    "# Brightness\n",
    "# Histogram Equalization\n"
   ]
  },
  {
   "cell_type": "markdown",
   "id": "fe215b56",
   "metadata": {
    "papermill": {
     "duration": null,
     "end_time": null,
     "exception": null,
     "start_time": null,
     "status": "pending"
    },
    "tags": []
   },
   "source": [
    "### Noise\n",
    "- Adds random noise to the image to simulate sensor noise or imaging artifacts.\n",
    "- Helps models become robust to real-world noise (MRI, CT artifacts). "
   ]
  },
  {
   "cell_type": "code",
   "execution_count": null,
   "id": "388b93ac",
   "metadata": {
    "execution": {
     "iopub.execute_input": "2025-03-29T12:31:32.644024Z",
     "iopub.status.busy": "2025-03-29T12:31:32.643705Z",
     "iopub.status.idle": "2025-03-29T12:31:33.744597Z",
     "shell.execute_reply": "2025-03-29T12:31:33.743287Z",
     "shell.execute_reply.started": "2025-03-29T12:31:32.643998Z"
    },
    "papermill": {
     "duration": null,
     "end_time": null,
     "exception": null,
     "start_time": null,
     "status": "pending"
    },
    "tags": []
   },
   "outputs": [],
   "source": [
    "from monai.transforms import RandGaussianNoise\n",
    "\n",
    "noise_transform = RandGaussianNoise(prob=1, mean=0.0, std=0.1)  # Add Gaussian noise\n",
    "noisy_image = noise_transform(image_plus_dim)\n",
    "\n",
    "print(f\"Slices before and After Random Noise\")\n",
    "show_slices(make_slices(image_plus_dim.squeeze(0)))\n",
    "\n",
    "show_slices(make_slices(noisy_image.squeeze(0)))"
   ]
  },
  {
   "cell_type": "code",
   "execution_count": null,
   "id": "5f495305",
   "metadata": {
    "execution": {
     "iopub.execute_input": "2025-03-29T12:31:33.746043Z",
     "iopub.status.busy": "2025-03-29T12:31:33.745732Z",
     "iopub.status.idle": "2025-03-29T12:31:34.427812Z",
     "shell.execute_reply": "2025-03-29T12:31:34.426456Z",
     "shell.execute_reply.started": "2025-03-29T12:31:33.746016Z"
    },
    "papermill": {
     "duration": null,
     "end_time": null,
     "exception": null,
     "start_time": null,
     "status": "pending"
    },
    "tags": []
   },
   "outputs": [],
   "source": [
    "## Using TorchIO\n",
    "noise_transform = tio.RandomNoise(mean=0, std=0.1)  # Gaussian noise with std=0.1\n",
    "toi_noisy_image = noise_transform(image_plus_dim)  # takes in 4D image (channels, x, y, z)\n",
    "\n",
    "show_slices(make_slices(toi_noisy_image.squeeze(0)))"
   ]
  },
  {
   "cell_type": "markdown",
   "id": "ef0e6d30",
   "metadata": {
    "papermill": {
     "duration": null,
     "end_time": null,
     "exception": null,
     "start_time": null,
     "status": "pending"
    },
    "tags": []
   },
   "source": [
    "### Contrast\n",
    "- Modifies the intensity range of the image to increase or decrease contrast.\n",
    "- Enhances visual differences between tissues, improving feature extraction."
   ]
  },
  {
   "cell_type": "code",
   "execution_count": null,
   "id": "aa219ef4",
   "metadata": {
    "execution": {
     "iopub.execute_input": "2025-03-29T12:31:34.429280Z",
     "iopub.status.busy": "2025-03-29T12:31:34.428910Z",
     "iopub.status.idle": "2025-03-29T12:31:35.524968Z",
     "shell.execute_reply": "2025-03-29T12:31:35.523897Z",
     "shell.execute_reply.started": "2025-03-29T12:31:34.429245Z"
    },
    "papermill": {
     "duration": null,
     "end_time": null,
     "exception": null,
     "start_time": null,
     "status": "pending"
    },
    "tags": []
   },
   "outputs": [],
   "source": [
    "from monai.transforms import RandAdjustContrast\n",
    "\n",
    "contrast_transform = RandAdjustContrast(prob=1.0, gamma=3)  # Adjust contrast randomly\n",
    "contrast_image = contrast_transform(image_plus_dim)\n",
    "\n",
    "print(f\"Slices Before and After Random Contrast\")\n",
    "show_slices(make_slices(image_plus_dim.squeeze(0)))\n",
    "show_slices(make_slices(contrast_image.squeeze(0)))"
   ]
  },
  {
   "cell_type": "code",
   "execution_count": null,
   "id": "6d5a6a02",
   "metadata": {
    "execution": {
     "iopub.execute_input": "2025-03-29T12:31:35.526569Z",
     "iopub.status.busy": "2025-03-29T12:31:35.526090Z",
     "iopub.status.idle": "2025-03-29T12:31:36.167532Z",
     "shell.execute_reply": "2025-03-29T12:31:36.166409Z",
     "shell.execute_reply.started": "2025-03-29T12:31:35.526523Z"
    },
    "papermill": {
     "duration": null,
     "end_time": null,
     "exception": null,
     "start_time": null,
     "status": "pending"
    },
    "tags": []
   },
   "outputs": [],
   "source": [
    "## Using TorchIO \n",
    "contrast_transform = tio.RandomGamma(log_gamma=(-0.2, 1.3))  # Adjust contrast with gamma\n",
    "toi_contrast_image = contrast_transform(image_plus_dim)\n",
    "toi_contrast_image = toi_contrast_image.squeeze(0)  # Squeeze to remove extra dimension \n",
    "\n",
    "print(f\"Slices After Random Contrast\")\n",
    "show_slices(make_slices(toi_contrast_image))\n"
   ]
  },
  {
   "cell_type": "markdown",
   "id": "eb70b405",
   "metadata": {
    "papermill": {
     "duration": null,
     "end_time": null,
     "exception": null,
     "start_time": null,
     "status": "pending"
    },
    "tags": []
   },
   "source": [
    "### Brightness\n",
    "- Alters the overall brightness of the image.\n",
    "- Simulates scanner intensity variations and helps models generalize.\n"
   ]
  },
  {
   "cell_type": "code",
   "execution_count": null,
   "id": "075d7897",
   "metadata": {
    "execution": {
     "iopub.execute_input": "2025-03-29T12:31:36.169091Z",
     "iopub.status.busy": "2025-03-29T12:31:36.168776Z",
     "iopub.status.idle": "2025-03-29T12:31:36.897467Z",
     "shell.execute_reply": "2025-03-29T12:31:36.896407Z",
     "shell.execute_reply.started": "2025-03-29T12:31:36.169064Z"
    },
    "papermill": {
     "duration": null,
     "end_time": null,
     "exception": null,
     "start_time": null,
     "status": "pending"
    },
    "tags": []
   },
   "outputs": [],
   "source": [
    "from monai.transforms import RandShiftIntensity\n",
    "\n",
    "brightness_transform = RandShiftIntensity(offsets=(-0.5, 0.5), prob=1.0)  # Brightness shift\n",
    "bright_image = brightness_transform(image_plus_dim)\n",
    "\n",
    "print(f\"Slices Before and After Change of Brightness\")\n",
    "show_slices(make_slices(image_plus_dim.squeeze(0)))\n",
    "show_slices(make_slices(bright_image.squeeze(0)))\n"
   ]
  },
  {
   "cell_type": "code",
   "execution_count": null,
   "id": "f11ab132",
   "metadata": {
    "execution": {
     "iopub.execute_input": "2025-03-29T12:31:36.898710Z",
     "iopub.status.busy": "2025-03-29T12:31:36.898420Z",
     "iopub.status.idle": "2025-03-29T12:31:40.479562Z",
     "shell.execute_reply": "2025-03-29T12:31:40.478392Z",
     "shell.execute_reply.started": "2025-03-29T12:31:36.898685Z"
    },
    "papermill": {
     "duration": null,
     "end_time": null,
     "exception": null,
     "start_time": null,
     "status": "pending"
    },
    "tags": []
   },
   "outputs": [],
   "source": [
    "## With TorchIO\n",
    "brightness_transform = tio.RandomBiasField(coefficients=0.3)  # Brightness variation\n",
    "tio_bright_image = brightness_transform(image_plus_dim)\n",
    "\n",
    "show_slices(make_slices(tio_bright_image.squeeze(0)))\n"
   ]
  },
  {
   "cell_type": "markdown",
   "id": "8c871f8c",
   "metadata": {
    "papermill": {
     "duration": null,
     "end_time": null,
     "exception": null,
     "start_time": null,
     "status": "pending"
    },
    "tags": []
   },
   "source": [
    "### Histogram Equalization\n",
    "- Enhances contrast by redistributing intensity values.\n",
    "- Helps in low-contrast medical images (e.g., X-rays)."
   ]
  },
  {
   "cell_type": "code",
   "execution_count": null,
   "id": "267f97cd",
   "metadata": {
    "execution": {
     "iopub.execute_input": "2025-03-29T12:31:40.481323Z",
     "iopub.status.busy": "2025-03-29T12:31:40.480885Z",
     "iopub.status.idle": "2025-03-29T12:31:41.638486Z",
     "shell.execute_reply": "2025-03-29T12:31:41.637384Z",
     "shell.execute_reply.started": "2025-03-29T12:31:40.481255Z"
    },
    "papermill": {
     "duration": null,
     "end_time": null,
     "exception": null,
     "start_time": null,
     "status": "pending"
    },
    "tags": []
   },
   "outputs": [],
   "source": [
    "from monai.transforms import HistogramNormalize\n",
    "\n",
    "hist_eq_transform = HistogramNormalize()  # Normalize histogram\n",
    "hist_eq_image = hist_eq_transform(image_plus_dim)\n",
    "\n",
    "print(f\"Slices Before and After Histogram Equalization\")\n",
    "show_slices(make_slices(image_plus_dim.squeeze(0)))\n",
    "show_slices(make_slices(hist_eq_image.squeeze(0)))\n"
   ]
  },
  {
   "cell_type": "code",
   "execution_count": null,
   "id": "96ee9f09",
   "metadata": {
    "execution": {
     "iopub.execute_input": "2025-03-29T12:31:41.639812Z",
     "iopub.status.busy": "2025-03-29T12:31:41.639505Z",
     "iopub.status.idle": "2025-03-29T12:31:42.327934Z",
     "shell.execute_reply": "2025-03-29T12:31:42.326860Z",
     "shell.execute_reply.started": "2025-03-29T12:31:41.639787Z"
    },
    "papermill": {
     "duration": null,
     "end_time": null,
     "exception": null,
     "start_time": null,
     "status": "pending"
    },
    "tags": []
   },
   "outputs": [],
   "source": [
    "## With TorchIO\n",
    "hist_eq_transform = tio.RescaleIntensity(out_min_max=(0, 1))  # Normalize intensities\n",
    "\n",
    "tio_hist_eq_image = hist_eq_transform(image_plus_dim)\n",
    "show_slices(make_slices(tio_hist_eq_image.squeeze(0)))\n"
   ]
  },
  {
   "cell_type": "markdown",
   "id": "ef4d1046",
   "metadata": {
    "papermill": {
     "duration": null,
     "end_time": null,
     "exception": null,
     "start_time": null,
     "status": "pending"
    },
    "tags": []
   },
   "source": [
    "### Composing Multiple Transform"
   ]
  },
  {
   "cell_type": "code",
   "execution_count": null,
   "id": "f428244f",
   "metadata": {
    "execution": {
     "iopub.execute_input": "2025-03-29T12:31:42.329126Z",
     "iopub.status.busy": "2025-03-29T12:31:42.328844Z",
     "iopub.status.idle": "2025-03-29T12:31:42.338867Z",
     "shell.execute_reply": "2025-03-29T12:31:42.337565Z",
     "shell.execute_reply.started": "2025-03-29T12:31:42.329102Z"
    },
    "papermill": {
     "duration": null,
     "end_time": null,
     "exception": null,
     "start_time": null,
     "status": "pending"
    },
    "tags": []
   },
   "outputs": [],
   "source": [
    "from monai.transforms import (\n",
    "    Compose,\n",
    "    RandRotate,\n",
    "    RandFlip,\n",
    "    RandAffine,\n",
    "    RandGaussianNoise,\n",
    "    RandAdjustContrast,\n",
    "    RandShiftIntensity,\n",
    "    HistogramNormalize,\n",
    ")\n",
    "\n",
    "# Compose a pipeline with several augmentations:\n",
    "monai_transforms = Compose([\n",
    "    # Geometric augmentations:\n",
    "    RandRotate(range_x=15, prob=0.5),                   # Random rotation within ±15° around x-axis\n",
    "    RandFlip(spatial_axis=0, prob=0.5),                   # Random flipping along the first spatial axis\n",
    "    RandAffine(                                       \n",
    "        translate_range=(10, 10, 10),                   # Random translation (shift) up to ±10 voxels\n",
    "        scale_range=(0.9, 1.1),                         # Random scaling between 90% and 110%\n",
    "        prob=0.5\n",
    "    ),\n",
    "    # Intensity augmentations:\n",
    "    RandGaussianNoise(prob=0.5, mean=0.0, std=0.05),      # Add random Gaussian noise\n",
    "    RandAdjustContrast(prob=0.5, gamma=(0.8, 1.2)),         # Adjust image contrast via gamma correction\n",
    "    RandShiftIntensity(prob=0.5, offsets=(-0.1, 0.1)),      # Shift intensities to simulate brightness changes\n",
    "    HistogramNormalize()                                  # Normalize the image histogram (akin to histogram equalization)\n",
    "])\n"
   ]
  },
  {
   "cell_type": "markdown",
   "id": "ff044c89",
   "metadata": {
    "papermill": {
     "duration": null,
     "end_time": null,
     "exception": null,
     "start_time": null,
     "status": "pending"
    },
    "tags": []
   },
   "source": [
    "## Loading all MRI Modalities"
   ]
  },
  {
   "cell_type": "code",
   "execution_count": null,
   "id": "beb518b0",
   "metadata": {
    "execution": {
     "iopub.execute_input": "2025-03-29T13:52:49.779562Z",
     "iopub.status.busy": "2025-03-29T13:52:49.779101Z",
     "iopub.status.idle": "2025-03-29T13:52:49.796004Z",
     "shell.execute_reply": "2025-03-29T13:52:49.794629Z",
     "shell.execute_reply.started": "2025-03-29T13:52:49.779529Z"
    },
    "papermill": {
     "duration": null,
     "end_time": null,
     "exception": null,
     "start_time": null,
     "status": "pending"
    },
    "tags": []
   },
   "outputs": [],
   "source": [
    "## Load the different Image modalities \n",
    "\n",
    "# Load a NIfTI image as a TorchIO Subject\n",
    "t1 = nib.load(\"/kaggle/working/BraTS2021_00495_t1.nii.gz\")\n",
    "t1ce = nib.load(\"/kaggle/working/BraTS2021_00495_t1ce.nii.gz\")\n",
    "t2 = nib.load(\"/kaggle/working/BraTS2021_00495_t2.nii.gz\")\n",
    "flair = nib.load(\"/kaggle/working/BraTS2021_00495_flair.nii.gz\")\n",
    "seg = nib.load(\"/kaggle/working/BraTS2021_00495_seg.nii.gz\")\n"
   ]
  },
  {
   "cell_type": "code",
   "execution_count": null,
   "id": "09a2ae64",
   "metadata": {
    "execution": {
     "iopub.execute_input": "2025-03-29T12:31:42.387167Z",
     "iopub.status.busy": "2025-03-29T12:31:42.386846Z",
     "iopub.status.idle": "2025-03-29T12:31:42.923055Z",
     "shell.execute_reply": "2025-03-29T12:31:42.921711Z",
     "shell.execute_reply.started": "2025-03-29T12:31:42.387132Z"
    },
    "papermill": {
     "duration": null,
     "end_time": null,
     "exception": null,
     "start_time": null,
     "status": "pending"
    },
    "tags": []
   },
   "outputs": [],
   "source": [
    "affine, header = flair.affine, flair.header\n",
    "vol = np.stack([flair.get_fdata(), t1.get_fdata(), t1ce.get_fdata(), t2.get_fdata()], axis=-1)\n",
    "vol = nib.nifti1.Nifti1Image(vol, affine, header=header)\n",
    "\n",
    "vol_data = vol.get_fdata()\n",
    "print(\"Shape: \", vol_data.shape)\n"
   ]
  },
  {
   "cell_type": "code",
   "execution_count": null,
   "id": "7d61a932",
   "metadata": {
    "execution": {
     "iopub.execute_input": "2025-03-29T12:31:42.924522Z",
     "iopub.status.busy": "2025-03-29T12:31:42.924195Z",
     "iopub.status.idle": "2025-03-29T12:31:43.229147Z",
     "shell.execute_reply": "2025-03-29T12:31:43.228016Z",
     "shell.execute_reply.started": "2025-03-29T12:31:42.924484Z"
    },
    "papermill": {
     "duration": null,
     "end_time": null,
     "exception": null,
     "start_time": null,
     "status": "pending"
    },
    "tags": []
   },
   "outputs": [],
   "source": [
    "#Show slices of the merged data\n",
    "# Choose the middle slice along the depth axis (third dimension)\n",
    "slice_index = vol_data.shape[2] // 2  # e.g., 155//2 = 77\n",
    "\n",
    "# Extract the slice for channel 0 (flair)\n",
    "slice_img = vol_data[:, :, slice_index, 0]\n",
    "\n",
    "plt.imshow(slice_img, cmap='gray', origin='lower')\n",
    "plt.title(\"Middle Slice - Channel 0\")\n",
    "plt.colorbar()\n",
    "plt.show()"
   ]
  },
  {
   "cell_type": "markdown",
   "id": "0f4285ee",
   "metadata": {
    "papermill": {
     "duration": null,
     "end_time": null,
     "exception": null,
     "start_time": null,
     "status": "pending"
    },
    "tags": []
   },
   "source": [
    "# Data Loaders (with PyTorch)\n",
    "\n",
    "**Data loading** is the process of reading raw data from storage (files, databases, etc.), pre-processing it (e.g., normalization, reshaping, and augmentation), and converting it into a format suitable for a machine learning model.\n",
    "\n",
    "### Importance of Data Loading Pipelines \n",
    "- Efficiency: Proper data loading pipelines reduce bottlenecks, ensuring the GPU or model isn't idling while waiting for data.\n",
    "- Correctness: It guarantees that the data is pre-processed, aligned, and formatted correctly, which is crucial for reliable model performance.\n",
    "- Reproducibility: Consistent and well-managed data loading ensures that experiments can be reliably repeated and compared.\n",
    "\n",
    "Read this Paper on [The importance of Data Loading Pipelines in Training Deep Neural Networks](https://arxiv.org/abs/2005.02130)"
   ]
  },
  {
   "cell_type": "markdown",
   "id": "d0eea496",
   "metadata": {
    "papermill": {
     "duration": null,
     "end_time": null,
     "exception": null,
     "start_time": null,
     "status": "pending"
    },
    "tags": []
   },
   "source": [
    "## Defining a Custom BraTS Dataset Class"
   ]
  },
  {
   "cell_type": "code",
   "execution_count": null,
   "id": "727407ea",
   "metadata": {
    "execution": {
     "iopub.execute_input": "2025-03-29T12:54:43.127596Z",
     "iopub.status.busy": "2025-03-29T12:54:43.127191Z",
     "iopub.status.idle": "2025-03-29T12:54:43.132526Z",
     "shell.execute_reply": "2025-03-29T12:54:43.131336Z",
     "shell.execute_reply.started": "2025-03-29T12:54:43.127564Z"
    },
    "papermill": {
     "duration": null,
     "end_time": null,
     "exception": null,
     "start_time": null,
     "status": "pending"
    },
    "tags": []
   },
   "outputs": [],
   "source": [
    "!tar -xf /kaggle/input/brats-2021-task1/BraTS2021_Training_Data.tar"
   ]
  },
  {
   "cell_type": "code",
   "execution_count": null,
   "id": "ad18e7e7",
   "metadata": {
    "execution": {
     "iopub.execute_input": "2025-03-29T14:55:31.591281Z",
     "iopub.status.busy": "2025-03-29T14:55:31.590824Z",
     "iopub.status.idle": "2025-03-29T14:55:41.640196Z",
     "shell.execute_reply": "2025-03-29T14:55:41.638801Z",
     "shell.execute_reply.started": "2025-03-29T14:55:31.591243Z"
    },
    "papermill": {
     "duration": null,
     "end_time": null,
     "exception": null,
     "start_time": null,
     "status": "pending"
    },
    "tags": []
   },
   "outputs": [],
   "source": [
    "import os\n",
    "import numpy as np\n",
    "import nibabel as nib\n",
    "import torch\n",
    "from torch.utils.data import Dataset\n",
    "from monai.transforms import LoadImage\n",
    "\n",
    "loader = LoadImage(image_only = False)\n",
    "\n",
    "class BraTS_Dataset(Dataset):\n",
    "    def __init__(self, data_dir, patient_ids=None, transforms=None, mode='train'):\n",
    "        \"\"\"\n",
    "        Args:\n",
    "            data_dir (str): Root directory containing subfolders for each patient.\n",
    "            patient_ids (list, optional): List of patient IDs. If None, the class will use all subdirectories in data_dir.\n",
    "            transforms (callable, optional): A function/transform that takes in a volume (and segmentation mask)\n",
    "                                             and returns the transformed version.\n",
    "            mode (str): 'train' if segmentation masks are available, 'test' otherwise.\n",
    "        \"\"\"\n",
    "        self.data_dir = data_dir\n",
    "        # If no patient_ids are provided, list only directories from the data_dir\n",
    "        if patient_ids is None:\n",
    "            self.patient_ids = [d for d in os.listdir(data_dir)\n",
    "                                if os.path.isdir(os.path.join(data_dir, d))]\n",
    "        else:\n",
    "            self.patient_ids = patient_ids\n",
    "        self.transforms = transforms\n",
    "        self.mode = mode\n",
    "\n",
    "    def __len__(self):\n",
    "        return len(self.patient_ids)\n",
    "    \n",
    "    def __getitem__(self, idx):\n",
    "        patient_id = self.patient_ids[idx]\n",
    "        # Patient folder is expected to be: data_dir/patient_id/\n",
    "        patient_folder = os.path.join(self.data_dir, patient_id)\n",
    "        \n",
    "        \n",
    "        # 1. Load modalities from the patient subfolder.\n",
    "        modalities = {}\n",
    "        for modality in ['t1', 't1ce', 't2', 'flair']:\n",
    "            file_path = os.path.join(patient_folder, f\"{patient_id}_{modality}.nii.gz\")\n",
    "            id_img, id_meta_data = loader(file_path)\n",
    "            modalities[modality] = (id_img, id_meta_data) # create a dictionary Key with modality and values  as a tuple of the image and the meta_data\n",
    "        \n",
    "        seg_img = None\n",
    "        if self.mode == 'train':\n",
    "            seg_file = os.path.join(patient_folder, f\"{patient_id}_seg.nii.gz\")\n",
    "            seg_img, _ = loader(seg_file)\n",
    "            \n",
    "            \n",
    "\n",
    "        \n",
    "        # 2.(stack) modalities.\n",
    "        # Use FLAIR as a reference for affine.\n",
    "        ref = modalities['flair']\n",
    "        affine = ref[1][\"affine\"]   # Get the Affine matrix of the image\n",
    "\n",
    "        # Extract image data from each modality.\n",
    "        flair_data = modalities['flair'][0]\n",
    "        t1_data    = modalities['t1'][0]\n",
    "        t1ce_data  = modalities['t1ce'][0]\n",
    "        t2_data    = modalities['t2'][0]\n",
    "\n",
    "        # Stack modalities along a new axis (creating an array of shape (H, W, D, 4))\n",
    "        vol = np.stack([flair_data, t1_data, t1ce_data, t2_data], axis=-1)\n",
    "        # Rearrange dimensions to (C, H, W, D) for deep learning frameworks.\n",
    "        vol = np.transpose(vol, (3, 0, 1, 2))\n",
    "        \n",
    "        # Create a new NIfTI image for the registered volume.\n",
    "        vol_img = nib.Nifti1Image(vol, affine)\n",
    "        \n",
    "        \n",
    "        \n",
    "        # 3. Apply optional transforms.\n",
    "        if self.transforms is not None:\n",
    "            if seg_img is not None:\n",
    "                vol_img, seg_img = self.transforms(vol_img.get_fdata()), self.transforms(seg_img)\n",
    "            else:\n",
    "                vol_img = self.transforms(vol_img)\n",
    "\n",
    "        else:\n",
    "            vol_img = vol_img.get_fdata()\n",
    "\n",
    "        \n",
    "        \n",
    "        # 4. Convert images to NumPy arrays and then to torch.Tensor.\n",
    "        vol_tensor = torch.from_numpy(vol_img.astype(np.uint8))\n",
    "        \n",
    "        seg_tensor = None\n",
    "        if seg_img is not None:\n",
    "            seg_tensor = torch.from_numpy(seg_img.astype(np.uint8))\n",
    "        \n",
    "        return {\n",
    "            'image': vol_tensor,   # Shape: (4, H, W, D)\n",
    "            'seg': seg_tensor,     # Shape: (H, W, D) or None\n",
    "            'patient_id': patient_id\n",
    "            }"
   ]
  },
  {
   "cell_type": "code",
   "execution_count": null,
   "id": "1a77d120",
   "metadata": {
    "execution": {
     "iopub.execute_input": "2025-03-29T14:55:41.642419Z",
     "iopub.status.busy": "2025-03-29T14:55:41.641958Z",
     "iopub.status.idle": "2025-03-29T14:55:51.229042Z",
     "shell.execute_reply": "2025-03-29T14:55:51.227750Z",
     "shell.execute_reply.started": "2025-03-29T14:55:41.642361Z"
    },
    "papermill": {
     "duration": null,
     "end_time": null,
     "exception": null,
     "start_time": null,
     "status": "pending"
    },
    "tags": []
   },
   "outputs": [],
   "source": [
    "if __name__ == \"__main__\":\n",
    "    data_dir = \"/kaggle/working\"  # Root directory containing patient subfolders.\n",
    "    \n",
    "    # The class will automatically detect patient subfolders from data_dir.\n",
    "    dataset = BraTS_Dataset(data_dir, mode='train',transforms=monai_transforms)\n",
    "    \n",
    "    # For example, get the first patient's data.\n",
    "    sample = dataset[1]\n",
    "    print(\"Patient ID:\", sample['patient_id'])\n",
    "    print(\"Image shape:\", sample['image'].shape)  # Expected: (4, H, W, D)\n",
    "    if sample['seg'] is not None:\n",
    "        print(\"Segmentation shape:\", sample['seg'].shape)"
   ]
  },
  {
   "cell_type": "code",
   "execution_count": null,
   "id": "3d7dd26e",
   "metadata": {
    "execution": {
     "iopub.execute_input": "2025-03-29T14:56:01.779734Z",
     "iopub.status.busy": "2025-03-29T14:56:01.778872Z",
     "iopub.status.idle": "2025-03-29T14:56:01.799569Z",
     "shell.execute_reply": "2025-03-29T14:56:01.796925Z",
     "shell.execute_reply.started": "2025-03-29T14:56:01.779674Z"
    },
    "papermill": {
     "duration": null,
     "end_time": null,
     "exception": null,
     "start_time": null,
     "status": "pending"
    },
    "tags": []
   },
   "outputs": [],
   "source": [
    "# Create the dataset using the MONAI transform pipeline.\n",
    "dataset = BraTS_Dataset(data_dir=\"/kaggle/working\", patient_ids=None, transforms=monai_transforms, mode='train')"
   ]
  },
  {
   "cell_type": "code",
   "execution_count": null,
   "id": "3ef4ba52",
   "metadata": {
    "execution": {
     "iopub.execute_input": "2025-03-29T14:56:05.058653Z",
     "iopub.status.busy": "2025-03-29T14:56:05.058226Z",
     "iopub.status.idle": "2025-03-29T14:56:18.322470Z",
     "shell.execute_reply": "2025-03-29T14:56:18.320809Z",
     "shell.execute_reply.started": "2025-03-29T14:56:05.058606Z"
    },
    "papermill": {
     "duration": null,
     "end_time": null,
     "exception": null,
     "start_time": null,
     "status": "pending"
    },
    "tags": []
   },
   "outputs": [],
   "source": [
    "# Build a DataLoader.\n",
    "from torch.utils.data import DataLoader\n",
    "dataloader = DataLoader(dataset=dataset, batch_size=1, shuffle=True, num_workers=2)\n",
    "\n",
    "# Iterate over a batch to see the output.\n",
    "for batch in dataloader:\n",
    "    images = batch['image']   # Expected shape: (batch_size, 4, H, W, D)\n",
    "    segs = batch['seg']       # Expected shape: (batch_size, H, W, D)\n",
    "    patient_ids = batch['patient_id']\n",
    "    print(\"Patient IDs:\", patient_ids)\n",
    "    print(\"Images shape:\", images.shape)\n",
    "    if segs is not None:\n",
    "        print(\"Segmentation shape:\", segs.shape)\n",
    "    break  # Display one batch for demonstration."
   ]
  },
  {
   "cell_type": "code",
   "execution_count": null,
   "id": "8ee8a49c",
   "metadata": {
    "papermill": {
     "duration": null,
     "end_time": null,
     "exception": null,
     "start_time": null,
     "status": "pending"
    },
    "tags": []
   },
   "outputs": [],
   "source": []
  }
 ],
 "metadata": {
  "kaggle": {
   "accelerator": "none",
   "dataSources": [
    {
     "datasetId": 1541666,
     "sourceId": 2542390,
     "sourceType": "datasetVersion"
    },
    {
     "datasetId": 6656766,
     "sourceId": 10735910,
     "sourceType": "datasetVersion"
    }
   ],
   "isGpuEnabled": false,
   "isInternetEnabled": true,
   "language": "python",
   "sourceType": "notebook"
  },
  "kernelspec": {
   "display_name": "Python 3 (ipykernel)",
   "language": "python",
   "name": "python3"
  },
  "language_info": {
   "codemirror_mode": {
    "name": "ipython",
    "version": 3
   },
   "file_extension": ".py",
   "mimetype": "text/x-python",
   "name": "python",
   "nbconvert_exporter": "python",
   "pygments_lexer": "ipython3",
   "version": "3.11.7"
  },
  "papermill": {
   "default_parameters": {},
   "duration": 14.680247,
   "end_time": "2025-03-29T15:17:10.457704",
   "environment_variables": {},
   "exception": true,
   "input_path": "__notebook__.ipynb",
   "output_path": "__notebook__.ipynb",
   "parameters": {},
   "start_time": "2025-03-29T15:16:55.777457",
   "version": "2.6.0"
  }
 },
 "nbformat": 4,
 "nbformat_minor": 5
}
